{
  "nbformat": 4,
  "nbformat_minor": 0,
  "metadata": {
    "colab": {
      "name": "Music-Genre-Classification-Extraction.ipynb",
      "provenance": [],
      "collapsed_sections": [],
      "mount_file_id": "1AoBIxXv9_ngvyNero4WwYfMQBhpVryNf",
      "authorship_tag": "ABX9TyP/KxDaw5b8SHbyB801vz3Y",
      "include_colab_link": true
    },
    "kernelspec": {
      "name": "python3",
      "display_name": "Python 3"
    },
    "language_info": {
      "name": "python"
    }
  },
  "cells": [
    {
      "cell_type": "markdown",
      "metadata": {
        "id": "view-in-github",
        "colab_type": "text"
      },
      "source": [
        "<a href=\"https://colab.research.google.com/github/menaenahoro/Music-Genre-Classification/blob/main/Music_Genre_Classification_Extraction.ipynb\" target=\"_parent\"><img src=\"https://colab.research.google.com/assets/colab-badge.svg\" alt=\"Open In Colab\"/></a>"
      ]
    },
    {
      "cell_type": "code",
      "metadata": {
        "id": "LZcqIrBsG42h"
      },
      "source": [
        "import matplotlib.pyplot as plt\n",
        "import librosa\n",
        "import librosa.display\n",
        "import IPython.display as ipd\n",
        "import scipy as sp\n",
        "from scipy.io import wavfile as wav\n",
        "import pandas as pd\n",
        "import os\n",
        "import numpy as np\n",
        "import seaborn as sns\n"
      ],
      "execution_count": 4,
      "outputs": []
    },
    {
      "cell_type": "code",
      "metadata": {
        "colab": {
          "base_uri": "https://localhost:8080/"
        },
        "id": "6GhJxemHHEgH",
        "outputId": "74283393-662d-4fb1-9ad9-d7262945dc00"
      },
      "source": [
        "path = '/content/drive/MyDrive/Colab Notebooks/Stutern Capstone'\n",
        "print(list(os.listdir(f'{path}/genres_original/')))"
      ],
      "execution_count": null,
      "outputs": [
        {
          "output_type": "stream",
          "name": "stdout",
          "text": [
            "['jazz', 'metal', 'disco', 'pop', 'country', 'hiphop', 'rock', 'reggae', 'classical', 'blues']\n"
          ]
        }
      ]
    },
    {
      "cell_type": "markdown",
      "metadata": {
        "id": "U-0Af4rqHXK4"
      },
      "source": [
        "**FEATURE ENGINEERING**"
      ]
    },
    {
      "cell_type": "markdown",
      "metadata": {
        "id": "WvjSPQR7bRnE"
      },
      "source": [
        "\n",
        "\n",
        "\n",
        "*   chroma_stft\n",
        "*   rms\n",
        "*   spectral centroid\n",
        "*   spectral bandwidth \n",
        "*   spectral constract \n",
        "*   spectral flatness \n",
        "*   mel frequency cepstrum coefficients (mfcc) \n",
        "*   spectral roll-off \n",
        "*   zero crossing\n",
        "*   Tempo\n",
        "*   Beat\n",
        "\n",
        "\n"
      ]
    },
    {
      "cell_type": "markdown",
      "metadata": {
        "id": "VxmgxaR-F5rw"
      },
      "source": [
        "**Loading the data with the libosa library**"
      ]
    },
    {
      "cell_type": "code",
      "metadata": {
        "id": "xj_CLHUoHMDk"
      },
      "source": [
        "path = '/content/drive/MyDrive/Colab Notebooks/Stutern Capstone/genres_original/blues/blues.00000.wav'"
      ],
      "execution_count": 63,
      "outputs": []
    },
    {
      "cell_type": "code",
      "metadata": {
        "colab": {
          "base_uri": "https://localhost:8080/"
        },
        "id": "qTHSyF9J1u8W",
        "outputId": "2e252dfc-2547-48dd-c65b-acb60a899cb3"
      },
      "source": [
        "y, sr = librosa.load(path, duration=30)\n",
        "y.shape"
      ],
      "execution_count": 64,
      "outputs": [
        {
          "output_type": "execute_result",
          "data": {
            "text/plain": [
              "(661500,)"
            ]
          },
          "metadata": {},
          "execution_count": 64
        }
      ]
    },
    {
      "cell_type": "markdown",
      "metadata": {
        "id": "V0qUmT3dkjGZ"
      },
      "source": [
        "**Chroma_stft**"
      ]
    },
    {
      "cell_type": "code",
      "metadata": {
        "colab": {
          "base_uri": "https://localhost:8080/"
        },
        "id": "-l-XpJp39HCc",
        "outputId": "80e68ed3-f938-417f-8337-39bba6579df3"
      },
      "source": [
        "y, sr = librosa.load(path, duration=30)\n",
        "chroma = librosa.feature.chroma_stft(y=y, sr=sr)\n",
        "print('Chroma feature mean:', chroma.mean())\n",
        "print()\n",
        "print('Chroma feature standard deviatio:', chroma.std())\n",
        "print()\n",
        "print('Chroma feature variance:', chroma.var())\n",
        "print()\n",
        "print('Chroma feature:', chroma)"
      ],
      "execution_count": 65,
      "outputs": [
        {
          "output_type": "stream",
          "name": "stdout",
          "text": [
            "Chroma feature mean: 0.34994322\n",
            "\n",
            "Chroma feature standard deviatio: 0.2979256\n",
            "\n",
            "Chroma feature variance: 0.08875965\n",
            "\n",
            "Chroma feature: [[0.39141446 0.24780884 0.8714165  ... 0.14128597 0.15691066 1.        ]\n",
            " [0.5478196  0.32853892 0.68826514 ... 0.14279746 0.13222209 0.7264195 ]\n",
            " [0.45784435 0.42671594 0.51602733 ... 0.40771392 0.25044858 0.5109983 ]\n",
            " ...\n",
            " [1.         1.         1.         ... 0.1719772  0.2619948  0.90304345]\n",
            " [0.39603353 0.36431643 0.6217583  ... 1.         1.         0.93397397]\n",
            " [0.2770659  0.19175553 0.64925486 ... 0.99700594 0.6287608  0.7571646 ]]\n"
          ]
        }
      ]
    },
    {
      "cell_type": "markdown",
      "metadata": {
        "id": "pzRxt1KYASX1"
      },
      "source": [
        "**rms**"
      ]
    },
    {
      "cell_type": "code",
      "metadata": {
        "id": "5iVLAYlPCAB-"
      },
      "source": [
        "def print_s(feature):\n",
        "  print('Feature mean:', feature.mean())\n",
        "  print()\n",
        "  print('Feature standard deviatio:', feature.std())\n",
        "  print()\n",
        "  print('Feature variance:', feature.var())\n",
        "  print()\n",
        "  print('Feature shape:', feature.shape)\n",
        "  print()\n",
        "  print('Feature values:', feature)"
      ],
      "execution_count": null,
      "outputs": []
    },
    {
      "cell_type": "code",
      "metadata": {
        "colab": {
          "base_uri": "https://localhost:8080/"
        },
        "id": "ZmT6aHgJARcY",
        "outputId": "c0534416-f70d-4e02-e6a0-5a2ba91b0518"
      },
      "source": [
        "rms = librosa.feature.rms(y=y)\n",
        "print_s(rms)"
      ],
      "execution_count": null,
      "outputs": [
        {
          "output_type": "stream",
          "name": "stdout",
          "text": [
            "Feature mean: 0.13022463\n",
            "\n",
            "Feature standard deviatio: 0.0531873\n",
            "\n",
            "Feature variance: 0.0028288888\n",
            "\n",
            "Feature shape: (1, 1292)\n",
            "\n",
            "Feature values: [[0.02698701 0.03934191 0.0497628  ... 0.1287345  0.14060998 0.14974149]]\n"
          ]
        }
      ]
    },
    {
      "cell_type": "markdown",
      "metadata": {
        "id": "7Mrcl_KRBOG6"
      },
      "source": [
        "**spectral centroid**"
      ]
    },
    {
      "cell_type": "code",
      "metadata": {
        "colab": {
          "base_uri": "https://localhost:8080/"
        },
        "id": "2X0MP2mGBWl3",
        "outputId": "976127f7-7978-4844-ff2e-74b48d4ff9de"
      },
      "source": [
        "cent = librosa.feature.spectral_centroid(y=y, sr=sr)\n",
        "print_s(cent)"
      ],
      "execution_count": null,
      "outputs": [
        {
          "output_type": "stream",
          "name": "stdout",
          "text": [
            "Feature mean: 1784.4204464946638\n",
            "\n",
            "Feature standard deviatio: 360.2633609423946\n",
            "\n",
            "Feature variance: 129789.68923751013\n",
            "\n",
            "Feature shape: (1, 1292)\n",
            "\n",
            "Feature values: [[2175.02383311 2103.86995762 1955.28566681 ... 1506.79121081\n",
            "  1490.45682552 1494.39425253]]\n"
          ]
        }
      ]
    },
    {
      "cell_type": "markdown",
      "metadata": {
        "id": "Es3XAxwME3ke"
      },
      "source": [
        "**Spectral bandwidth**"
      ]
    },
    {
      "cell_type": "code",
      "metadata": {
        "colab": {
          "base_uri": "https://localhost:8080/"
        },
        "id": "V_RqaCf9DRgz",
        "outputId": "0bc7391f-a5ea-42c8-bfdf-4d4103f7193e"
      },
      "source": [
        "spec_bw = librosa.feature.spectral_bandwidth(y=y, sr=sr)\n",
        "print_s(spec_bw)"
      ],
      "execution_count": null,
      "outputs": [
        {
          "output_type": "stream",
          "name": "stdout",
          "text": [
            "Feature mean: 2002.6501916232637\n",
            "\n",
            "Feature standard deviatio: 293.0819632607281\n",
            "\n",
            "Feature variance: 85897.0371887628\n",
            "\n",
            "Feature shape: (1, 1292)\n",
            "\n",
            "Feature values: [[2340.92967734 2268.36012036 2308.61530036 ... 1370.50211071\n",
            "  1515.84390236 1725.5523854 ]]\n"
          ]
        }
      ]
    },
    {
      "cell_type": "markdown",
      "metadata": {
        "id": "KykSbxlBFdUj"
      },
      "source": [
        "**Spectral contrast**"
      ]
    },
    {
      "cell_type": "code",
      "metadata": {
        "colab": {
          "base_uri": "https://localhost:8080/"
        },
        "id": "eX1T6-T6FmHm",
        "outputId": "3a06ddf7-a4f0-4281-ff46-ec95700d2236"
      },
      "source": [
        "S = np.abs(librosa.stft(y))\n",
        "contrast = librosa.feature.spectral_contrast(S=S, sr=sr)\n",
        "print_s(contrast)"
      ],
      "execution_count": null,
      "outputs": [
        {
          "output_type": "stream",
          "name": "stdout",
          "text": [
            "Feature mean: 20.530732524634253\n",
            "\n",
            "Feature standard deviatio: 8.761008542853421\n",
            "\n",
            "Feature variance: 76.75527068795063\n",
            "\n",
            "Feature shape: (7, 1292)\n",
            "\n",
            "Feature values: [[16.28331627  8.52744961 14.04482159 ... 11.75908611  8.71979198\n",
            "  12.27294156]\n",
            " [18.04367938 13.97905461 11.47699751 ... 16.59875017 15.51898299\n",
            "  18.99583279]\n",
            " [18.66737715 11.70397725 12.68180535 ... 19.61014046 16.83402713\n",
            "  15.8249817 ]\n",
            " ...\n",
            " [25.50130315 21.11485352 21.34808186 ... 19.9004002  19.8165592\n",
            "  16.16163408]\n",
            " [26.39957064 15.67066725 13.04148532 ... 19.52411944 18.08109539\n",
            "  15.39096703]\n",
            " [24.67231637 22.73101352 37.28092353 ... 35.83812677 37.72357725\n",
            "  24.66113329]]\n"
          ]
        }
      ]
    },
    {
      "cell_type": "markdown",
      "metadata": {
        "id": "eMXqTsk3F_xN"
      },
      "source": [
        "**Spectral flatness**"
      ]
    },
    {
      "cell_type": "code",
      "metadata": {
        "colab": {
          "base_uri": "https://localhost:8080/"
        },
        "id": "5AfPWZPYGCrB",
        "outputId": "7f62ef63-812f-44da-91de-cde34b2e0a11"
      },
      "source": [
        "flatness = librosa.feature.spectral_flatness(y=y)\n",
        "print_s(flatness)"
      ],
      "execution_count": null,
      "outputs": [
        {
          "output_type": "stream",
          "name": "stdout",
          "text": [
            "Feature mean: 0.004498873\n",
            "\n",
            "Feature standard deviatio: 0.005514623\n",
            "\n",
            "Feature variance: 3.0411067e-05\n",
            "\n",
            "Feature shape: (1, 1292)\n",
            "\n",
            "Feature values: [[0.01366227 0.01668281 0.00578466 ... 0.00120337 0.00196067 0.00373346]]\n"
          ]
        }
      ]
    },
    {
      "cell_type": "markdown",
      "metadata": {
        "id": "XgI0VdVBGeFL"
      },
      "source": [
        "**mel frequency cepstrum coefficients (mfcc)**"
      ]
    },
    {
      "cell_type": "code",
      "metadata": {
        "colab": {
          "base_uri": "https://localhost:8080/"
        },
        "id": "xMBz6SgHGM4P",
        "outputId": "5dd41f19-7f5f-48f5-f830-09b3d57f9677"
      },
      "source": [
        "mfcc = librosa.feature.mfcc(y=y, sr=sr)#n_mfcc=20\n",
        "print_s(mfcc)\n"
      ],
      "execution_count": null,
      "outputs": [
        {
          "output_type": "stream",
          "name": "stdout",
          "text": [
            "Feature mean: 1.9356906\n",
            "\n",
            "Feature standard deviatio: 42.037434\n",
            "\n",
            "Feature variance: 1767.1459\n",
            "\n",
            "Feature shape: (20, 1292)\n",
            "\n",
            "Feature values: [[-2.1148465e+02 -2.0894481e+02 -1.9390889e+02 ... -9.6637939e+01\n",
            "  -1.0999914e+02 -8.6024429e+01]\n",
            " [ 9.9022972e+01  1.0124678e+02  1.0224396e+02 ...  1.5313773e+02\n",
            "   1.5007935e+02  1.3884290e+02]\n",
            " [-1.0634697e+01 -9.3466988e+00  1.9154351e+00 ... -6.2791542e+01\n",
            "  -5.0795135e+01 -3.6851891e+01]\n",
            " ...\n",
            " [ 8.9444122e+00  6.8827448e+00  3.6500254e+00 ... -1.2925899e+00\n",
            "  -2.8571506e+00 -7.5922775e+00]\n",
            " [ 3.0748527e+00  4.5667248e+00  4.7889986e+00 ... -1.3003838e+01\n",
            "  -7.5746884e+00 -9.7356081e+00]\n",
            " [ 5.0415277e+00  2.8966317e+00  9.4024789e-01 ... -1.0084855e+01\n",
            "  -7.5553341e+00 -3.0979503e-02]]\n"
          ]
        }
      ]
    },
    {
      "cell_type": "code",
      "metadata": {
        "colab": {
          "base_uri": "https://localhost:8080/"
        },
        "id": "4Xpl2CdMHHo9",
        "outputId": "303f2044-24db-4ff7-81a1-91e456eb9d4f"
      },
      "source": [
        "mfcc1 = librosa.feature.mfcc(y=y, sr=sr, n_mfcc=1)#n_mfcc=1\n",
        "print_s(mfcc1)\n"
      ],
      "execution_count": null,
      "outputs": [
        {
          "output_type": "stream",
          "name": "stdout",
          "text": [
            "Feature mean: -113.59675\n",
            "\n",
            "Feature standard deviatio: 50.64882\n",
            "\n",
            "Feature variance: 2565.3027\n",
            "\n",
            "Feature shape: (1, 1292)\n",
            "\n",
            "Feature values: [[-211.48465 -208.94481 -193.90889 ...  -96.63794 -109.99914  -86.02443]]\n"
          ]
        }
      ]
    },
    {
      "cell_type": "markdown",
      "metadata": {
        "id": "014SHxrIHXkD"
      },
      "source": [
        "**Spectral roll-off**"
      ]
    },
    {
      "cell_type": "code",
      "metadata": {
        "colab": {
          "base_uri": "https://localhost:8080/"
        },
        "id": "RafVgArrHUsI",
        "outputId": "e50c4b08-cfc6-4848-c45d-ba49e773b09f"
      },
      "source": [
        "rolloff = librosa.feature.spectral_rolloff(y=y, sr=sr)\n",
        "print_s(rolloff)\n"
      ],
      "execution_count": null,
      "outputs": [
        {
          "output_type": "stream",
          "name": "stdout",
          "text": [
            "Feature mean: 3806.4853160373937\n",
            "\n",
            "Feature standard deviatio: 949.5588061190823\n",
            "\n",
            "Feature variance: 901661.9262782969\n",
            "\n",
            "Feature shape: (1, 1292)\n",
            "\n",
            "Feature values: [[4844.97070312 4661.93847656 4715.77148438 ... 2605.51757812\n",
            "  2616.28417969 2960.81542969]]\n"
          ]
        }
      ]
    },
    {
      "cell_type": "markdown",
      "metadata": {
        "id": "ksOC_qYZH0TP"
      },
      "source": [
        "**Zero-crossing**"
      ]
    },
    {
      "cell_type": "code",
      "metadata": {
        "colab": {
          "base_uri": "https://localhost:8080/"
        },
        "id": "eJssd-iXHyUS",
        "outputId": "f051f28b-7fd0-4e5f-e1f0-7235f4fdc1c1"
      },
      "source": [
        "zero_crosing_rate = librosa.feature.zero_crossing_rate(y)\n",
        "print_s(zero_crosing_rate)\n"
      ],
      "execution_count": null,
      "outputs": [
        {
          "output_type": "stream",
          "name": "stdout",
          "text": [
            "Feature mean: 0.08306639113293343\n",
            "\n",
            "Feature standard deviatio: 0.02768996741355138\n",
            "\n",
            "Feature variance: 0.0007667342953635373\n",
            "\n",
            "Feature shape: (1, 1292)\n",
            "\n",
            "Feature values: [[0.06494141 0.08300781 0.10791016 ... 0.10351562 0.08642578 0.06005859]]\n"
          ]
        }
      ]
    },
    {
      "cell_type": "markdown",
      "metadata": {
        "id": "1XXDgL-CIjR8"
      },
      "source": [
        "**Tempo**"
      ]
    },
    {
      "cell_type": "code",
      "metadata": {
        "colab": {
          "base_uri": "https://localhost:8080/"
        },
        "id": "Fd1LQI2YIlUB",
        "outputId": "8d66334e-e9c9-43fb-a525-e4129850f8a4"
      },
      "source": [
        "onset_env = librosa.onset.onset_strength(y, sr=sr)\n",
        "tempo = librosa.beat.tempo(onset_envelope=onset_env, sr=sr)\n",
        "print_s(tempo)\n"
      ],
      "execution_count": null,
      "outputs": [
        {
          "output_type": "stream",
          "name": "stdout",
          "text": [
            "Feature mean: 123.046875\n",
            "\n",
            "Feature standard deviatio: 0.0\n",
            "\n",
            "Feature variance: 0.0\n",
            "\n",
            "Feature shape: (1,)\n",
            "\n",
            "Feature values: [123.046875]\n"
          ]
        }
      ]
    },
    {
      "cell_type": "markdown",
      "metadata": {
        "id": "XIlmKmEGKP7i"
      },
      "source": [
        "**Beat**"
      ]
    },
    {
      "cell_type": "code",
      "metadata": {
        "colab": {
          "base_uri": "https://localhost:8080/"
        },
        "id": "m7JVCrDeKPD_",
        "outputId": "b5302b09-09be-4a3c-ca0a-b11150cc76ee"
      },
      "source": [
        "tempo, beats = librosa.beat.beat_track(y=y, sr=sr)\n",
        "print_s(beats)\n",
        "print(\"===\"*20)\n",
        "beat = librosa.frames_to_time(beats, sr=sr)#changing the beats to timestamps\n",
        "print()\n",
        "print_s(beat)"
      ],
      "execution_count": null,
      "outputs": [
        {
          "output_type": "stream",
          "name": "stdout",
          "text": [
            "Feature mean: 631.0983606557377\n",
            "\n",
            "Feature standard deviatio: 363.2730402886942\n",
            "\n",
            "Feature variance: 131967.3018005912\n",
            "\n",
            "Feature shape: (61,)\n",
            "\n",
            "Feature values: [  11   32   53   73   94  114  135  156  177  197  218  239  260  280\n",
            "  301  322  343  363  384  405  426  446  467  488  509  529  550  570\n",
            "  591  612  633  653  673  693  713  734  755  775  796  816  837  858\n",
            "  878  898  919  940  960  981 1002 1022 1043 1064 1085 1105 1126 1147\n",
            " 1168 1188 1209 1230 1251]\n",
            "============================================================\n",
            "\n",
            "Feature mean: 14.654075313185382\n",
            "\n",
            "Feature standard deviatio: 8.435183520535665\n",
            "\n",
            "Feature variance: 71.15232102511646\n",
            "\n",
            "Feature shape: (61,)\n",
            "\n",
            "Feature values: [ 0.2554195   0.74303855  1.2306576   1.69505669  2.18267574  2.64707483\n",
            "  3.13469388  3.62231293  4.10993197  4.57433107  5.06195011  5.54956916\n",
            "  6.03718821  6.5015873   6.98920635  7.4768254   7.96444444  8.42884354\n",
            "  8.91646259  9.40408163  9.89170068 10.35609977 10.84371882 11.33133787\n",
            " 11.81895692 12.28335601 12.77097506 13.23537415 13.7229932  14.21061224\n",
            " 14.69823129 15.16263039 15.62702948 16.09142857 16.55582766 17.04344671\n",
            " 17.53106576 17.99546485 18.4830839  18.94748299 19.43510204 19.92272109\n",
            " 20.38712018 20.85151927 21.33913832 21.82675737 22.29115646 22.77877551\n",
            " 23.26639456 23.73079365 24.2184127  24.70603175 25.19365079 25.65804989\n",
            " 26.14566893 26.63328798 27.12090703 27.58530612 28.07292517 28.56054422\n",
            " 29.04816327]\n"
          ]
        }
      ]
    },
    {
      "cell_type": "markdown",
      "metadata": {
        "id": "t4G6OnZXLOdY"
      },
      "source": [
        "### Creating a datarame from the listed features above"
      ]
    },
    {
      "cell_type": "code",
      "metadata": {
        "id": "SgsXAuSzLMpU"
      },
      "source": [
        "data = pd.DataFrame(columns=('filename', 'chroma_stft_mean', 'chroma_stft_var', 'chroma_stft_std', 'rms_mean', \n",
        "                             'rms_var', 'rms_std', 'spec_cent_mean', 'spec_cent_var', 'spec_cent_std', 'spec_ban_mean', \n",
        "                             'spec_ban_var', 'spec_ban_std', 'spec_cons_mean', 'spec_cons_var', 'spec_cons_std', 'spec_flat_mean', \n",
        "                             'spec_flat_var', 'spec_flat_std', 'spec_roll_mean', 'spec_roll_var', 'spec_roll_std', 'zero_cros_mean', \n",
        "                             'zero_cros_var', 'zero_cros_std', 'Tempo', 'Beat_mean', 'Beat_var', 'Beat_std', \n",
        "                             'mfcc1_mean', 'mfcc1_var', 'mfcc20_mean', 'mfcc20_var', 'label'))"
      ],
      "execution_count": 5,
      "outputs": []
    },
    {
      "cell_type": "code",
      "metadata": {
        "colab": {
          "base_uri": "https://localhost:8080/",
          "height": 69
        },
        "id": "L2-UBoLuXjiE",
        "outputId": "89d2ad96-e057-429e-a692-e5667ce231c2"
      },
      "source": [
        "data"
      ],
      "execution_count": 6,
      "outputs": [
        {
          "output_type": "execute_result",
          "data": {
            "text/html": [
              "<div>\n",
              "<style scoped>\n",
              "    .dataframe tbody tr th:only-of-type {\n",
              "        vertical-align: middle;\n",
              "    }\n",
              "\n",
              "    .dataframe tbody tr th {\n",
              "        vertical-align: top;\n",
              "    }\n",
              "\n",
              "    .dataframe thead th {\n",
              "        text-align: right;\n",
              "    }\n",
              "</style>\n",
              "<table border=\"1\" class=\"dataframe\">\n",
              "  <thead>\n",
              "    <tr style=\"text-align: right;\">\n",
              "      <th></th>\n",
              "      <th>filename</th>\n",
              "      <th>chroma_stft_mean</th>\n",
              "      <th>chroma_stft_var</th>\n",
              "      <th>chroma_stft_std</th>\n",
              "      <th>rms_mean</th>\n",
              "      <th>rms_var</th>\n",
              "      <th>rms_std</th>\n",
              "      <th>spec_cent_mean</th>\n",
              "      <th>spec_cent_var</th>\n",
              "      <th>spec_cent_std</th>\n",
              "      <th>spec_ban_mean</th>\n",
              "      <th>spec_ban_var</th>\n",
              "      <th>spec_ban_std</th>\n",
              "      <th>spec_cons_mean</th>\n",
              "      <th>spec_cons_var</th>\n",
              "      <th>spec_cons_std</th>\n",
              "      <th>spec_flat_mean</th>\n",
              "      <th>spec_flat_var</th>\n",
              "      <th>spec_flat_std</th>\n",
              "      <th>spec_roll_mean</th>\n",
              "      <th>spec_roll_var</th>\n",
              "      <th>spec_roll_std</th>\n",
              "      <th>zero_cros_mean</th>\n",
              "      <th>zero_cros_var</th>\n",
              "      <th>zero_cros_std</th>\n",
              "      <th>Tempo</th>\n",
              "      <th>Beat_mean</th>\n",
              "      <th>Beat_var</th>\n",
              "      <th>Beat_std</th>\n",
              "      <th>mfcc1_mean</th>\n",
              "      <th>mfcc1_var</th>\n",
              "      <th>mfcc20_mean</th>\n",
              "      <th>mfcc20_var</th>\n",
              "      <th>label</th>\n",
              "    </tr>\n",
              "  </thead>\n",
              "  <tbody>\n",
              "  </tbody>\n",
              "</table>\n",
              "</div>"
            ],
            "text/plain": [
              "Empty DataFrame\n",
              "Columns: [filename, chroma_stft_mean, chroma_stft_var, chroma_stft_std, rms_mean, rms_var, rms_std, spec_cent_mean, spec_cent_var, spec_cent_std, spec_ban_mean, spec_ban_var, spec_ban_std, spec_cons_mean, spec_cons_var, spec_cons_std, spec_flat_mean, spec_flat_var, spec_flat_std, spec_roll_mean, spec_roll_var, spec_roll_std, zero_cros_mean, zero_cros_var, zero_cros_std, Tempo, Beat_mean, Beat_var, Beat_std, mfcc1_mean, mfcc1_var, mfcc20_mean, mfcc20_var, label]\n",
              "Index: []"
            ]
          },
          "metadata": {},
          "execution_count": 6
        }
      ]
    },
    {
      "cell_type": "code",
      "metadata": {
        "id": "WOggCYs0LM16"
      },
      "source": [
        "'filename', 'chroma_stft_mean', 'chroma_stft_var', 'chroma_stft_std', 'rms_mean', 'rms_var', 'rms_std',\n",
        "'spect_cent_mean', 'spect_cent_var', 'spect_cent_std',\n",
        "'spec_ban_mean', 'spec_ban_var', 'spec_ban_std',\n",
        "'spec_cons_mean', 'spec_cons_var', 'spec_cons_std', \n",
        "'spec_flat_mean', 'spec_flat_var', 'spec_flat_std', \n",
        "'spec_roll_mean', 'spec_roll_var', 'spec_roll_std', \n",
        "'zero_cros_mean', 'zero_cros_var', 'zero_cros_std',\n",
        "'Tempo',\n",
        "'Beat_mean', 'Beat_var', 'Beat_std',\n",
        "'mfcc1_mean', 'mfcc1_var',\n",
        "'mfcc20_mean', 'mfcc20_var',\n",
        "'label'"
      ],
      "execution_count": null,
      "outputs": []
    },
    {
      "cell_type": "code",
      "metadata": {
        "colab": {
          "base_uri": "https://localhost:8080/"
        },
        "id": "e8MPGaL8azv1",
        "outputId": "8e8d87c6-753c-46d6-dd74-117ed29101f5"
      },
      "source": [
        "data = pd.DataFrame(columns=('filename', 'chroma_stft_mean', 'chroma_stft_var', 'chroma_stft_std', 'rms_mean', \n",
        "                             'rms_var', 'rms_std', 'spec_cent_mean', 'spec_cent_var', 'spec_cent_std', 'spec_ban_mean', \n",
        "                             'spec_ban_var', 'spec_ban_std', 'spec_cons_mean', 'spec_cons_var', 'spec_cons_std', 'spec_flat_mean', \n",
        "                             'spec_flat_var', 'spec_flat_std', 'spec_roll_mean', 'spec_roll_var', 'spec_roll_std', 'zero_cros_mean', \n",
        "                             'zero_cros_var', 'zero_cros_std', 'Tempo', 'Beat_mean', 'Beat_var', 'Beat_std', \n",
        "                             'mfcc1_mean', 'mfcc1_var', 'mfcc20_mean', 'mfcc20_var', 'label'))\n",
        "\n",
        "j=0\n",
        "for dirpath, dirnames, filenames in os.walk('/content/drive/MyDrive/Colab Notebooks/Stutern Capstone/genres_original'):\n",
        "  for i in np.sort(filenames):\n",
        "    try:\n",
        "      #defining the label in the dataframe\n",
        "      label = os.path.basename(dirpath)\n",
        "    \n",
        "      #defining the filename in the dataframe\n",
        "      filename = i\n",
        "      file = os.path.join(dirpath, i)\n",
        "      #data['filename'].loc[j] = file\n",
        "\n",
        "      #loading the filename\n",
        "      y, sr = librosa.load(file, duration=30)\n",
        "    \n",
        "      #defining the Chroma features in the dataframe\n",
        "      chroma = librosa.feature.chroma_stft(y=y, sr=sr)\n",
        "      chroma_stft_mean = chroma.mean()#chroma_stft_mean\n",
        "      chroma_stft_var = chroma.var()#chroma_stft_var\n",
        "      chroma_stft_std = chroma.std()#chroma_stft_std\n",
        "\n",
        "      #defining the rms features in the dataframe\n",
        "      rms = librosa.feature.rms(y=y)\n",
        "      rms_mean = rms.mean()#rms_mean\n",
        "      rms_var = rms.var()#rms_var\n",
        "      rms_std = rms.std()#rms_std\n",
        "\n",
        "      #defining the spectral centroid features in the dataframe\n",
        "      cent = librosa.feature.spectral_centroid(y=y, sr=sr)\n",
        "      spec_cent_mean = cent.mean()#spec_cent_mean\n",
        "      spec_cent_var = cent.var()#spec_cent_var\n",
        "      spec_cent_std = cent.std()#spec_cent_std\n",
        "\n",
        "      #defining the spectral bandwidth features in the dataframe\n",
        "      spec_bw = librosa.feature.spectral_bandwidth(y=y, sr=sr)\n",
        "      spec_ban_mean = spec_bw.mean()#spec_ban_mean\n",
        "      spec_ban_var = spec_bw.var()#spec_ban_var\n",
        "      spec_ban_std = spec_bw.std()#spec_ban_std\n",
        "\n",
        "      #defining the spectral constract features in the dataframe\n",
        "      S = np.abs(librosa.stft(y))\n",
        "      contrast = librosa.feature.spectral_contrast(S=S, sr=sr)\n",
        "      spec_cons_mean = contrast.mean()#spec_cons_mean\n",
        "      spec_cons_var = contrast.var()#spec_cons_var\n",
        "      spec_cons_std = contrast.std()#spec_cons_std\n",
        "\n",
        "      #defining the spectral flatness features in the dataframe\n",
        "      flatness = librosa.feature.spectral_flatness(y=y)\n",
        "      spec_flat_mean = flatness.mean()#spec_flat_mean\n",
        "      spec_flat_var = flatness.var()#spec_flat_var\n",
        "      spec_flat_std = flatness.std()#spec_flat_std\n",
        "\n",
        "      #defining the mel frequency cepstrum coefficient features in the dataframe\n",
        "      mfcc1 = librosa.feature.mfcc(y=y, sr=sr, n_mfcc=1)#n_mfcc=1\n",
        "      mfcc1_mean = mfcc1.mean()#mfcc1_mean\n",
        "      mfcc1_var = mfcc1.var()#mfcc1_var\n",
        "\n",
        "      mfcc20 = librosa.feature.mfcc(y=y, sr=sr)#n_mfcc=20\n",
        "      mfcc20_mean = mfcc20.mean()#mfcc20_mean\n",
        "      mfcc20_var = mfcc20.var()#mfcc20_var\n",
        "\n",
        "      #defining the spectral roll-off features in the dataframe\n",
        "      rolloff = librosa.feature.spectral_rolloff(y=y, sr=sr)\n",
        "      spec_roll_mean = rolloff.mean()#spec_roll_mean\n",
        "      spec_roll_var = rolloff.var()#spec_roll_var\n",
        "      spec_roll_std = rolloff.std()#spec_roll_std\n",
        "\n",
        "      #defining the zero crossing rate features in the dataframe\n",
        "      zero_crosing_rate = librosa.feature.zero_crossing_rate(y)\n",
        "      zero_cros_mean = zero_crosing_rate.mean()#zero_cros_mean\n",
        "      zero_cros_var = zero_crosing_rate.var()#zero_cros_var\n",
        "      zero_cros_std = zero_crosing_rate.std()#zero_cros_std\n",
        "\n",
        "      #defining the Tempo feature in the dataframe\n",
        "      onset_env = librosa.onset.onset_strength(y, sr=sr)\n",
        "      tempo = librosa.beat.tempo(onset_envelope=onset_env, sr=sr)\n",
        "      Tempo = tempo#Tempo\n",
        "\n",
        "      #defining the Beat feature in the dataframe\n",
        "      tempo, beats = librosa.beat.beat_track(y=y, sr=sr)\n",
        "      beat = librosa.frames_to_time(beats, sr=sr)#changing the beats to timestamps\n",
        "      Beat_mean = beat.mean()#Beat_var\n",
        "      Beat_var = beat.var()#Beat_var\n",
        "      Beat_std = beat.std()#Beat_std\n",
        "      \n",
        "      data.loc[j] = [filename, chroma_stft_mean, chroma_stft_var, chroma_stft_std, rms_mean, rms_var, rms_std, spec_cent_mean, spec_cent_var, spec_cent_std, \n",
        "                     spec_ban_mean, spec_ban_var, spec_ban_std, spec_cons_mean, spec_cons_var, spec_cons_std, \n",
        "                     spec_flat_mean, spec_flat_var, spec_flat_std, spec_roll_mean, spec_roll_var, spec_roll_std, \n",
        "                     zero_cros_mean, zero_cros_var, zero_cros_std, Tempo, Beat_mean, Beat_var, Beat_std, mfcc1_mean, mfcc1_var, mfcc20_mean, mfcc20_var, label]\n",
        "    \n",
        "    #  \n",
        "      j=j+1\n",
        "    except Exception:\n",
        "      pass"
      ],
      "execution_count": 60,
      "outputs": [
        {
          "output_type": "stream",
          "name": "stderr",
          "text": [
            "/usr/local/lib/python3.7/dist-packages/librosa/core/audio.py:165: UserWarning: PySoundFile failed. Trying audioread instead.\n",
            "  warnings.warn(\"PySoundFile failed. Trying audioread instead.\")\n"
          ]
        }
      ]
    },
    {
      "cell_type": "code",
      "metadata": {
        "colab": {
          "base_uri": "https://localhost:8080/",
          "height": 444
        },
        "id": "11zOlGEi3Vnw",
        "outputId": "2ec27a25-c4c9-4dce-d4d0-15e9abe32cf5"
      },
      "source": [
        "data"
      ],
      "execution_count": 61,
      "outputs": [
        {
          "output_type": "execute_result",
          "data": {
            "text/html": [
              "<div>\n",
              "<style scoped>\n",
              "    .dataframe tbody tr th:only-of-type {\n",
              "        vertical-align: middle;\n",
              "    }\n",
              "\n",
              "    .dataframe tbody tr th {\n",
              "        vertical-align: top;\n",
              "    }\n",
              "\n",
              "    .dataframe thead th {\n",
              "        text-align: right;\n",
              "    }\n",
              "</style>\n",
              "<table border=\"1\" class=\"dataframe\">\n",
              "  <thead>\n",
              "    <tr style=\"text-align: right;\">\n",
              "      <th></th>\n",
              "      <th>filename</th>\n",
              "      <th>chroma_stft_mean</th>\n",
              "      <th>chroma_stft_var</th>\n",
              "      <th>chroma_stft_std</th>\n",
              "      <th>rms_mean</th>\n",
              "      <th>rms_var</th>\n",
              "      <th>rms_std</th>\n",
              "      <th>spec_cent_mean</th>\n",
              "      <th>spec_cent_var</th>\n",
              "      <th>spec_cent_std</th>\n",
              "      <th>spec_ban_mean</th>\n",
              "      <th>spec_ban_var</th>\n",
              "      <th>spec_ban_std</th>\n",
              "      <th>spec_cons_mean</th>\n",
              "      <th>spec_cons_var</th>\n",
              "      <th>spec_cons_std</th>\n",
              "      <th>spec_flat_mean</th>\n",
              "      <th>spec_flat_var</th>\n",
              "      <th>spec_flat_std</th>\n",
              "      <th>spec_roll_mean</th>\n",
              "      <th>spec_roll_var</th>\n",
              "      <th>spec_roll_std</th>\n",
              "      <th>zero_cros_mean</th>\n",
              "      <th>zero_cros_var</th>\n",
              "      <th>zero_cros_std</th>\n",
              "      <th>Tempo</th>\n",
              "      <th>Beat_mean</th>\n",
              "      <th>Beat_var</th>\n",
              "      <th>Beat_std</th>\n",
              "      <th>mfcc1_mean</th>\n",
              "      <th>mfcc1_var</th>\n",
              "      <th>mfcc20_mean</th>\n",
              "      <th>mfcc20_var</th>\n",
              "      <th>label</th>\n",
              "    </tr>\n",
              "  </thead>\n",
              "  <tbody>\n",
              "    <tr>\n",
              "      <th>0</th>\n",
              "      <td>jazz.00000.wav</td>\n",
              "      <td>0.344568</td>\n",
              "      <td>0.085005</td>\n",
              "      <td>0.291555</td>\n",
              "      <td>0.046768</td>\n",
              "      <td>0.001543</td>\n",
              "      <td>0.039282</td>\n",
              "      <td>1504.404759</td>\n",
              "      <td>554635.808130</td>\n",
              "      <td>744.738752</td>\n",
              "      <td>1754.409592</td>\n",
              "      <td>283727.376842</td>\n",
              "      <td>532.660658</td>\n",
              "      <td>17.943751</td>\n",
              "      <td>16.993836</td>\n",
              "      <td>4.122358</td>\n",
              "      <td>0.011631</td>\n",
              "      <td>6.181900e-04</td>\n",
              "      <td>0.024863</td>\n",
              "      <td>2800.374733</td>\n",
              "      <td>2.686224e+06</td>\n",
              "      <td>1638.970511</td>\n",
              "      <td>0.078464</td>\n",
              "      <td>0.002445</td>\n",
              "      <td>0.049445</td>\n",
              "      <td>[123.046875]</td>\n",
              "      <td>14.909083</td>\n",
              "      <td>70.334422</td>\n",
              "      <td>8.386562</td>\n",
              "      <td>-251.967300</td>\n",
              "      <td>12147.529297</td>\n",
              "      <td>-7.565382</td>\n",
              "      <td>4848.609375</td>\n",
              "      <td>jazz</td>\n",
              "    </tr>\n",
              "    <tr>\n",
              "      <th>1</th>\n",
              "      <td>jazz.00001.wav</td>\n",
              "      <td>0.328119</td>\n",
              "      <td>0.086557</td>\n",
              "      <td>0.294205</td>\n",
              "      <td>0.022799</td>\n",
              "      <td>0.000239</td>\n",
              "      <td>0.015458</td>\n",
              "      <td>1266.405832</td>\n",
              "      <td>302044.132694</td>\n",
              "      <td>549.585419</td>\n",
              "      <td>1691.422950</td>\n",
              "      <td>217323.693052</td>\n",
              "      <td>466.179893</td>\n",
              "      <td>18.702263</td>\n",
              "      <td>20.505828</td>\n",
              "      <td>4.528336</td>\n",
              "      <td>0.003557</td>\n",
              "      <td>4.729570e-05</td>\n",
              "      <td>0.006877</td>\n",
              "      <td>2410.418758</td>\n",
              "      <td>1.780410e+06</td>\n",
              "      <td>1334.320194</td>\n",
              "      <td>0.059278</td>\n",
              "      <td>0.001075</td>\n",
              "      <td>0.032783</td>\n",
              "      <td>[135.99917763157896]</td>\n",
              "      <td>13.564199</td>\n",
              "      <td>60.304953</td>\n",
              "      <td>7.765626</td>\n",
              "      <td>-345.733185</td>\n",
              "      <td>10116.199219</td>\n",
              "      <td>-9.786606</td>\n",
              "      <td>7651.382812</td>\n",
              "      <td>jazz</td>\n",
              "    </tr>\n",
              "    <tr>\n",
              "      <th>2</th>\n",
              "      <td>jazz.00002.wav</td>\n",
              "      <td>0.267640</td>\n",
              "      <td>0.083949</td>\n",
              "      <td>0.289740</td>\n",
              "      <td>0.080840</td>\n",
              "      <td>0.000992</td>\n",
              "      <td>0.031501</td>\n",
              "      <td>1064.810564</td>\n",
              "      <td>161183.061715</td>\n",
              "      <td>401.476104</td>\n",
              "      <td>1050.419172</td>\n",
              "      <td>62157.266400</td>\n",
              "      <td>249.313590</td>\n",
              "      <td>25.920750</td>\n",
              "      <td>30.274246</td>\n",
              "      <td>5.502204</td>\n",
              "      <td>0.000109</td>\n",
              "      <td>3.512147e-08</td>\n",
              "      <td>0.000187</td>\n",
              "      <td>1896.030202</td>\n",
              "      <td>4.888518e+05</td>\n",
              "      <td>699.179401</td>\n",
              "      <td>0.057873</td>\n",
              "      <td>0.000928</td>\n",
              "      <td>0.030455</td>\n",
              "      <td>[107.666015625]</td>\n",
              "      <td>14.699800</td>\n",
              "      <td>71.862784</td>\n",
              "      <td>8.477192</td>\n",
              "      <td>-256.988342</td>\n",
              "      <td>6372.967285</td>\n",
              "      <td>-11.730761</td>\n",
              "      <td>5429.986328</td>\n",
              "      <td>jazz</td>\n",
              "    </tr>\n",
              "    <tr>\n",
              "      <th>3</th>\n",
              "      <td>jazz.00003.wav</td>\n",
              "      <td>0.319313</td>\n",
              "      <td>0.081005</td>\n",
              "      <td>0.284614</td>\n",
              "      <td>0.059496</td>\n",
              "      <td>0.001298</td>\n",
              "      <td>0.036026</td>\n",
              "      <td>813.293729</td>\n",
              "      <td>92950.399709</td>\n",
              "      <td>304.877680</td>\n",
              "      <td>1058.898921</td>\n",
              "      <td>220025.916341</td>\n",
              "      <td>469.069202</td>\n",
              "      <td>22.176119</td>\n",
              "      <td>37.173564</td>\n",
              "      <td>6.097013</td>\n",
              "      <td>0.000373</td>\n",
              "      <td>4.418466e-07</td>\n",
              "      <td>0.000665</td>\n",
              "      <td>1417.008098</td>\n",
              "      <td>4.378247e+05</td>\n",
              "      <td>661.683232</td>\n",
              "      <td>0.044674</td>\n",
              "      <td>0.000209</td>\n",
              "      <td>0.014440</td>\n",
              "      <td>[123.046875]</td>\n",
              "      <td>12.569328</td>\n",
              "      <td>50.954141</td>\n",
              "      <td>7.138217</td>\n",
              "      <td>-297.215118</td>\n",
              "      <td>9868.039062</td>\n",
              "      <td>-5.560663</td>\n",
              "      <td>6943.207031</td>\n",
              "      <td>jazz</td>\n",
              "    </tr>\n",
              "    <tr>\n",
              "      <th>4</th>\n",
              "      <td>jazz.00004.wav</td>\n",
              "      <td>0.171782</td>\n",
              "      <td>0.082596</td>\n",
              "      <td>0.287395</td>\n",
              "      <td>0.108786</td>\n",
              "      <td>0.002178</td>\n",
              "      <td>0.046674</td>\n",
              "      <td>1039.623420</td>\n",
              "      <td>122521.889902</td>\n",
              "      <td>350.031270</td>\n",
              "      <td>1422.303098</td>\n",
              "      <td>77324.475593</td>\n",
              "      <td>278.072788</td>\n",
              "      <td>26.109364</td>\n",
              "      <td>36.920598</td>\n",
              "      <td>6.076232</td>\n",
              "      <td>0.000273</td>\n",
              "      <td>2.905344e-06</td>\n",
              "      <td>0.001705</td>\n",
              "      <td>1838.213885</td>\n",
              "      <td>9.149394e+05</td>\n",
              "      <td>956.524673</td>\n",
              "      <td>0.047769</td>\n",
              "      <td>0.000522</td>\n",
              "      <td>0.022850</td>\n",
              "      <td>[95.703125]</td>\n",
              "      <td>14.568034</td>\n",
              "      <td>59.669162</td>\n",
              "      <td>7.724582</td>\n",
              "      <td>-270.264801</td>\n",
              "      <td>2931.610596</td>\n",
              "      <td>-4.459225</td>\n",
              "      <td>5015.025391</td>\n",
              "      <td>jazz</td>\n",
              "    </tr>\n",
              "    <tr>\n",
              "      <th>...</th>\n",
              "      <td>...</td>\n",
              "      <td>...</td>\n",
              "      <td>...</td>\n",
              "      <td>...</td>\n",
              "      <td>...</td>\n",
              "      <td>...</td>\n",
              "      <td>...</td>\n",
              "      <td>...</td>\n",
              "      <td>...</td>\n",
              "      <td>...</td>\n",
              "      <td>...</td>\n",
              "      <td>...</td>\n",
              "      <td>...</td>\n",
              "      <td>...</td>\n",
              "      <td>...</td>\n",
              "      <td>...</td>\n",
              "      <td>...</td>\n",
              "      <td>...</td>\n",
              "      <td>...</td>\n",
              "      <td>...</td>\n",
              "      <td>...</td>\n",
              "      <td>...</td>\n",
              "      <td>...</td>\n",
              "      <td>...</td>\n",
              "      <td>...</td>\n",
              "      <td>...</td>\n",
              "      <td>...</td>\n",
              "      <td>...</td>\n",
              "      <td>...</td>\n",
              "      <td>...</td>\n",
              "      <td>...</td>\n",
              "      <td>...</td>\n",
              "      <td>...</td>\n",
              "      <td>...</td>\n",
              "    </tr>\n",
              "    <tr>\n",
              "      <th>994</th>\n",
              "      <td>blues.00095.wav</td>\n",
              "      <td>0.369972</td>\n",
              "      <td>0.091303</td>\n",
              "      <td>0.302164</td>\n",
              "      <td>0.187148</td>\n",
              "      <td>0.002154</td>\n",
              "      <td>0.046414</td>\n",
              "      <td>1388.394749</td>\n",
              "      <td>509809.625997</td>\n",
              "      <td>714.009542</td>\n",
              "      <td>1772.854380</td>\n",
              "      <td>164860.290383</td>\n",
              "      <td>406.029913</td>\n",
              "      <td>22.868416</td>\n",
              "      <td>68.408790</td>\n",
              "      <td>8.270961</td>\n",
              "      <td>0.001597</td>\n",
              "      <td>1.334128e-05</td>\n",
              "      <td>0.003653</td>\n",
              "      <td>2754.525010</td>\n",
              "      <td>2.162221e+06</td>\n",
              "      <td>1470.449337</td>\n",
              "      <td>0.057147</td>\n",
              "      <td>0.001330</td>\n",
              "      <td>0.036464</td>\n",
              "      <td>[135.99917763157896]</td>\n",
              "      <td>14.608471</td>\n",
              "      <td>71.890307</td>\n",
              "      <td>8.478815</td>\n",
              "      <td>-130.553955</td>\n",
              "      <td>2306.342041</td>\n",
              "      <td>2.270234</td>\n",
              "      <td>2272.900391</td>\n",
              "      <td>blues</td>\n",
              "    </tr>\n",
              "    <tr>\n",
              "      <th>995</th>\n",
              "      <td>blues.00096.wav</td>\n",
              "      <td>0.260574</td>\n",
              "      <td>0.091842</td>\n",
              "      <td>0.303054</td>\n",
              "      <td>0.051349</td>\n",
              "      <td>0.000855</td>\n",
              "      <td>0.029242</td>\n",
              "      <td>1132.340629</td>\n",
              "      <td>319309.476763</td>\n",
              "      <td>565.074753</td>\n",
              "      <td>1582.492047</td>\n",
              "      <td>151342.347912</td>\n",
              "      <td>389.027439</td>\n",
              "      <td>23.637505</td>\n",
              "      <td>35.273658</td>\n",
              "      <td>5.939163</td>\n",
              "      <td>0.000926</td>\n",
              "      <td>1.120085e-05</td>\n",
              "      <td>0.003347</td>\n",
              "      <td>2065.479177</td>\n",
              "      <td>1.738632e+06</td>\n",
              "      <td>1318.572102</td>\n",
              "      <td>0.048314</td>\n",
              "      <td>0.001266</td>\n",
              "      <td>0.035587</td>\n",
              "      <td>[123.046875]</td>\n",
              "      <td>14.100142</td>\n",
              "      <td>62.203747</td>\n",
              "      <td>7.886935</td>\n",
              "      <td>-314.582794</td>\n",
              "      <td>5280.292480</td>\n",
              "      <td>-9.558985</td>\n",
              "      <td>6411.880371</td>\n",
              "      <td>blues</td>\n",
              "    </tr>\n",
              "    <tr>\n",
              "      <th>996</th>\n",
              "      <td>blues.00097.wav</td>\n",
              "      <td>0.375158</td>\n",
              "      <td>0.093863</td>\n",
              "      <td>0.306371</td>\n",
              "      <td>0.198282</td>\n",
              "      <td>0.002948</td>\n",
              "      <td>0.054300</td>\n",
              "      <td>1236.574280</td>\n",
              "      <td>422996.797449</td>\n",
              "      <td>650.382040</td>\n",
              "      <td>1602.309124</td>\n",
              "      <td>295898.337598</td>\n",
              "      <td>543.965383</td>\n",
              "      <td>21.971004</td>\n",
              "      <td>58.239219</td>\n",
              "      <td>7.631462</td>\n",
              "      <td>0.001820</td>\n",
              "      <td>1.525817e-05</td>\n",
              "      <td>0.003906</td>\n",
              "      <td>2604.150920</td>\n",
              "      <td>2.488383e+06</td>\n",
              "      <td>1577.460823</td>\n",
              "      <td>0.044626</td>\n",
              "      <td>0.000763</td>\n",
              "      <td>0.027621</td>\n",
              "      <td>[117.45383522727273]</td>\n",
              "      <td>13.515766</td>\n",
              "      <td>60.329206</td>\n",
              "      <td>7.767188</td>\n",
              "      <td>-148.639175</td>\n",
              "      <td>4153.281738</td>\n",
              "      <td>1.600718</td>\n",
              "      <td>2730.838623</td>\n",
              "      <td>blues</td>\n",
              "    </tr>\n",
              "    <tr>\n",
              "      <th>997</th>\n",
              "      <td>blues.00098.wav</td>\n",
              "      <td>0.442972</td>\n",
              "      <td>0.078290</td>\n",
              "      <td>0.279804</td>\n",
              "      <td>0.125422</td>\n",
              "      <td>0.001709</td>\n",
              "      <td>0.041338</td>\n",
              "      <td>2310.280604</td>\n",
              "      <td>191342.861061</td>\n",
              "      <td>437.427549</td>\n",
              "      <td>2206.710936</td>\n",
              "      <td>62375.998489</td>\n",
              "      <td>249.751874</td>\n",
              "      <td>20.807381</td>\n",
              "      <td>85.232955</td>\n",
              "      <td>9.232170</td>\n",
              "      <td>0.009165</td>\n",
              "      <td>7.317084e-05</td>\n",
              "      <td>0.008554</td>\n",
              "      <td>4829.320798</td>\n",
              "      <td>6.188693e+05</td>\n",
              "      <td>786.682482</td>\n",
              "      <td>0.128426</td>\n",
              "      <td>0.002433</td>\n",
              "      <td>0.049328</td>\n",
              "      <td>[123.046875]</td>\n",
              "      <td>13.920953</td>\n",
              "      <td>66.088489</td>\n",
              "      <td>8.129483</td>\n",
              "      <td>-90.677490</td>\n",
              "      <td>2589.751465</td>\n",
              "      <td>1.836111</td>\n",
              "      <td>1458.239624</td>\n",
              "      <td>blues</td>\n",
              "    </tr>\n",
              "    <tr>\n",
              "      <th>998</th>\n",
              "      <td>blues.00099.wav</td>\n",
              "      <td>0.370279</td>\n",
              "      <td>0.085167</td>\n",
              "      <td>0.291835</td>\n",
              "      <td>0.105061</td>\n",
              "      <td>0.005346</td>\n",
              "      <td>0.073114</td>\n",
              "      <td>1538.817338</td>\n",
              "      <td>225284.597032</td>\n",
              "      <td>474.641546</td>\n",
              "      <td>1703.507382</td>\n",
              "      <td>104443.749968</td>\n",
              "      <td>323.177583</td>\n",
              "      <td>20.401042</td>\n",
              "      <td>47.777895</td>\n",
              "      <td>6.912156</td>\n",
              "      <td>0.002279</td>\n",
              "      <td>1.445747e-05</td>\n",
              "      <td>0.003802</td>\n",
              "      <td>3175.272466</td>\n",
              "      <td>1.037288e+06</td>\n",
              "      <td>1018.473544</td>\n",
              "      <td>0.074799</td>\n",
              "      <td>0.001672</td>\n",
              "      <td>0.040887</td>\n",
              "      <td>[92.28515625]</td>\n",
              "      <td>13.476069</td>\n",
              "      <td>57.990800</td>\n",
              "      <td>7.615169</td>\n",
              "      <td>-177.165863</td>\n",
              "      <td>9696.659180</td>\n",
              "      <td>-3.386669</td>\n",
              "      <td>3325.031250</td>\n",
              "      <td>blues</td>\n",
              "    </tr>\n",
              "  </tbody>\n",
              "</table>\n",
              "<p>999 rows × 34 columns</p>\n",
              "</div>"
            ],
            "text/plain": [
              "            filename  chroma_stft_mean  ...   mfcc20_var  label\n",
              "0     jazz.00000.wav          0.344568  ...  4848.609375   jazz\n",
              "1     jazz.00001.wav          0.328119  ...  7651.382812   jazz\n",
              "2     jazz.00002.wav          0.267640  ...  5429.986328   jazz\n",
              "3     jazz.00003.wav          0.319313  ...  6943.207031   jazz\n",
              "4     jazz.00004.wav          0.171782  ...  5015.025391   jazz\n",
              "..               ...               ...  ...          ...    ...\n",
              "994  blues.00095.wav          0.369972  ...  2272.900391  blues\n",
              "995  blues.00096.wav          0.260574  ...  6411.880371  blues\n",
              "996  blues.00097.wav          0.375158  ...  2730.838623  blues\n",
              "997  blues.00098.wav          0.442972  ...  1458.239624  blues\n",
              "998  blues.00099.wav          0.370279  ...  3325.031250  blues\n",
              "\n",
              "[999 rows x 34 columns]"
            ]
          },
          "metadata": {},
          "execution_count": 61
        }
      ]
    },
    {
      "cell_type": "code",
      "metadata": {
        "id": "p60VzvX8Eykh"
      },
      "source": [
        "data.to_csv('/content/drive/MyDrive/Colab Notebooks/Stutern Capstone/music_data.csv')"
      ],
      "execution_count": 62,
      "outputs": []
    },
    {
      "cell_type": "code",
      "metadata": {
        "id": "AjFvXnwNGecA"
      },
      "source": [
        ""
      ],
      "execution_count": null,
      "outputs": []
    }
  ]
}
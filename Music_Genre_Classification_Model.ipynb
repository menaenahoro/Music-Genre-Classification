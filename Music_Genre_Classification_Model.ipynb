{
  "nbformat": 4,
  "nbformat_minor": 0,
  "metadata": {
    "colab": {
      "name": "Music-Genre-Classification-Model.ipynb",
      "provenance": [],
      "collapsed_sections": [],
      "mount_file_id": "1uhHS2Gk1MVNdZdrSr4SohyDZyfciXPqm",
      "authorship_tag": "ABX9TyMxYdJ6+MdzMGohiD0cXInM",
      "include_colab_link": true
    },
    "kernelspec": {
      "name": "python3",
      "display_name": "Python 3"
    },
    "language_info": {
      "name": "python"
    }
  },
  "cells": [
    {
      "cell_type": "markdown",
      "metadata": {
        "id": "view-in-github",
        "colab_type": "text"
      },
      "source": [
        "<a href=\"https://colab.research.google.com/github/menaenahoro/Music-Genre-Classification/blob/main/Music_Genre_Classification_Model.ipynb\" target=\"_parent\"><img src=\"https://colab.research.google.com/assets/colab-badge.svg\" alt=\"Open In Colab\"/></a>"
      ]
    },
    {
      "cell_type": "code",
      "metadata": {
        "id": "ntUTIsclLxls"
      },
      "source": [
        "import pandas as pd\n",
        "import numpy as np\n",
        "from sklearn.model_selection import train_test_split\n",
        "import tensorflow.keras as keras\n",
        "import matplotlib.pyplot as plt\n",
        "import seaborn as sns\n",
        "import librosa"
      ],
      "execution_count": 1,
      "outputs": []
    },
    {
      "cell_type": "markdown",
      "metadata": {
        "id": "IwDgOQTpQsNQ"
      },
      "source": [
        "**Importing the dataset**"
      ]
    },
    {
      "cell_type": "code",
      "metadata": {
        "colab": {
          "base_uri": "https://localhost:8080/",
          "height": 226
        },
        "id": "XAZ3Qpt9QB_V",
        "outputId": "27ebbbb6-933a-4ebf-dd45-d3b8b34a406f"
      },
      "source": [
        "data = pd.read_csv('/content/drive/MyDrive/Colab Notebooks/Stutern Capstone/music_data.csv', index_col=0)\n",
        "data.head()"
      ],
      "execution_count": 2,
      "outputs": [
        {
          "output_type": "execute_result",
          "data": {
            "text/html": [
              "<div>\n",
              "<style scoped>\n",
              "    .dataframe tbody tr th:only-of-type {\n",
              "        vertical-align: middle;\n",
              "    }\n",
              "\n",
              "    .dataframe tbody tr th {\n",
              "        vertical-align: top;\n",
              "    }\n",
              "\n",
              "    .dataframe thead th {\n",
              "        text-align: right;\n",
              "    }\n",
              "</style>\n",
              "<table border=\"1\" class=\"dataframe\">\n",
              "  <thead>\n",
              "    <tr style=\"text-align: right;\">\n",
              "      <th></th>\n",
              "      <th>filename</th>\n",
              "      <th>chroma_stft_mean</th>\n",
              "      <th>chroma_stft_var</th>\n",
              "      <th>chroma_stft_std</th>\n",
              "      <th>rms_mean</th>\n",
              "      <th>rms_var</th>\n",
              "      <th>rms_std</th>\n",
              "      <th>spec_cent_mean</th>\n",
              "      <th>spec_cent_var</th>\n",
              "      <th>spec_cent_std</th>\n",
              "      <th>spec_ban_mean</th>\n",
              "      <th>spec_ban_var</th>\n",
              "      <th>spec_ban_std</th>\n",
              "      <th>spec_cons_mean</th>\n",
              "      <th>spec_cons_var</th>\n",
              "      <th>spec_cons_std</th>\n",
              "      <th>spec_flat_mean</th>\n",
              "      <th>spec_flat_var</th>\n",
              "      <th>spec_flat_std</th>\n",
              "      <th>spec_roll_mean</th>\n",
              "      <th>spec_roll_var</th>\n",
              "      <th>spec_roll_std</th>\n",
              "      <th>zero_cros_mean</th>\n",
              "      <th>zero_cros_var</th>\n",
              "      <th>zero_cros_std</th>\n",
              "      <th>Tempo</th>\n",
              "      <th>Beat_mean</th>\n",
              "      <th>Beat_var</th>\n",
              "      <th>Beat_std</th>\n",
              "      <th>mfcc1_mean</th>\n",
              "      <th>mfcc1_var</th>\n",
              "      <th>mfcc2_mean</th>\n",
              "      <th>mfcc2_var</th>\n",
              "      <th>mfcc3_mean</th>\n",
              "      <th>mfcc3_var</th>\n",
              "      <th>mfcc4_mean</th>\n",
              "      <th>mfcc4_var</th>\n",
              "      <th>mfcc5_mean</th>\n",
              "      <th>mfcc5_var</th>\n",
              "      <th>mfcc6_mean</th>\n",
              "      <th>mfcc6_var</th>\n",
              "      <th>mfcc7_mean</th>\n",
              "      <th>mfcc7_var</th>\n",
              "      <th>mfcc8_mean</th>\n",
              "      <th>mfcc8_var</th>\n",
              "      <th>mfcc9_mean</th>\n",
              "      <th>mfcc9_var</th>\n",
              "      <th>mfcc10_mean</th>\n",
              "      <th>mfcc10_var</th>\n",
              "      <th>mfcc20_mean</th>\n",
              "      <th>mfcc20_var</th>\n",
              "      <th>label</th>\n",
              "    </tr>\n",
              "  </thead>\n",
              "  <tbody>\n",
              "    <tr>\n",
              "      <th>0</th>\n",
              "      <td>jazz.00000.wav</td>\n",
              "      <td>0.344568</td>\n",
              "      <td>0.085005</td>\n",
              "      <td>0.291555</td>\n",
              "      <td>0.046768</td>\n",
              "      <td>0.001543</td>\n",
              "      <td>0.039282</td>\n",
              "      <td>1504.404759</td>\n",
              "      <td>554635.808130</td>\n",
              "      <td>744.738752</td>\n",
              "      <td>1754.409592</td>\n",
              "      <td>283727.376842</td>\n",
              "      <td>532.660658</td>\n",
              "      <td>17.943751</td>\n",
              "      <td>16.993836</td>\n",
              "      <td>4.122358</td>\n",
              "      <td>0.011631</td>\n",
              "      <td>6.181900e-04</td>\n",
              "      <td>0.024863</td>\n",
              "      <td>2800.374733</td>\n",
              "      <td>2.686224e+06</td>\n",
              "      <td>1638.970511</td>\n",
              "      <td>0.078464</td>\n",
              "      <td>0.002445</td>\n",
              "      <td>0.049445</td>\n",
              "      <td>123.046875</td>\n",
              "      <td>14.909083</td>\n",
              "      <td>70.334422</td>\n",
              "      <td>8.386562</td>\n",
              "      <td>-251.967300</td>\n",
              "      <td>12147.529297</td>\n",
              "      <td>-57.038651</td>\n",
              "      <td>44804.195312</td>\n",
              "      <td>-41.744598</td>\n",
              "      <td>30581.097656</td>\n",
              "      <td>-29.219107</td>\n",
              "      <td>23436.496094</td>\n",
              "      <td>-23.231789</td>\n",
              "      <td>18916.072266</td>\n",
              "      <td>-19.094824</td>\n",
              "      <td>15857.839844</td>\n",
              "      <td>-16.900589</td>\n",
              "      <td>13629.358398</td>\n",
              "      <td>-15.305121</td>\n",
              "      <td>11948.286133</td>\n",
              "      <td>-14.216819</td>\n",
              "      <td>10635.010742</td>\n",
              "      <td>-13.059530</td>\n",
              "      <td>9587.314453</td>\n",
              "      <td>-7.565382</td>\n",
              "      <td>4848.609375</td>\n",
              "      <td>jazz</td>\n",
              "    </tr>\n",
              "    <tr>\n",
              "      <th>1</th>\n",
              "      <td>jazz.00001.wav</td>\n",
              "      <td>0.328119</td>\n",
              "      <td>0.086557</td>\n",
              "      <td>0.294205</td>\n",
              "      <td>0.022799</td>\n",
              "      <td>0.000239</td>\n",
              "      <td>0.015458</td>\n",
              "      <td>1266.405832</td>\n",
              "      <td>302044.132694</td>\n",
              "      <td>549.585419</td>\n",
              "      <td>1691.422950</td>\n",
              "      <td>217323.693052</td>\n",
              "      <td>466.179893</td>\n",
              "      <td>18.702263</td>\n",
              "      <td>20.505828</td>\n",
              "      <td>4.528336</td>\n",
              "      <td>0.003557</td>\n",
              "      <td>4.729570e-05</td>\n",
              "      <td>0.006877</td>\n",
              "      <td>2410.418758</td>\n",
              "      <td>1.780410e+06</td>\n",
              "      <td>1334.320194</td>\n",
              "      <td>0.059278</td>\n",
              "      <td>0.001075</td>\n",
              "      <td>0.032783</td>\n",
              "      <td>135.999178</td>\n",
              "      <td>13.564199</td>\n",
              "      <td>60.304953</td>\n",
              "      <td>7.765626</td>\n",
              "      <td>-345.733185</td>\n",
              "      <td>10116.199219</td>\n",
              "      <td>-99.374069</td>\n",
              "      <td>66395.890625</td>\n",
              "      <td>-66.418655</td>\n",
              "      <td>46609.921875</td>\n",
              "      <td>-44.153622</td>\n",
              "      <td>36478.292969</td>\n",
              "      <td>-34.160152</td>\n",
              "      <td>29601.453125</td>\n",
              "      <td>-26.742664</td>\n",
              "      <td>24952.093750</td>\n",
              "      <td>-22.945597</td>\n",
              "      <td>21481.707031</td>\n",
              "      <td>-20.291924</td>\n",
              "      <td>18852.916016</td>\n",
              "      <td>-18.716410</td>\n",
              "      <td>16783.228516</td>\n",
              "      <td>-16.895838</td>\n",
              "      <td>15139.578125</td>\n",
              "      <td>-9.786606</td>\n",
              "      <td>7651.382812</td>\n",
              "      <td>jazz</td>\n",
              "    </tr>\n",
              "    <tr>\n",
              "      <th>2</th>\n",
              "      <td>jazz.00002.wav</td>\n",
              "      <td>0.267640</td>\n",
              "      <td>0.083949</td>\n",
              "      <td>0.289740</td>\n",
              "      <td>0.080840</td>\n",
              "      <td>0.000992</td>\n",
              "      <td>0.031501</td>\n",
              "      <td>1064.810564</td>\n",
              "      <td>161183.061715</td>\n",
              "      <td>401.476104</td>\n",
              "      <td>1050.419172</td>\n",
              "      <td>62157.266400</td>\n",
              "      <td>249.313590</td>\n",
              "      <td>25.920750</td>\n",
              "      <td>30.274246</td>\n",
              "      <td>5.502204</td>\n",
              "      <td>0.000109</td>\n",
              "      <td>3.512147e-08</td>\n",
              "      <td>0.000187</td>\n",
              "      <td>1896.030202</td>\n",
              "      <td>4.888518e+05</td>\n",
              "      <td>699.179401</td>\n",
              "      <td>0.057873</td>\n",
              "      <td>0.000928</td>\n",
              "      <td>0.030455</td>\n",
              "      <td>107.666016</td>\n",
              "      <td>14.699800</td>\n",
              "      <td>71.862784</td>\n",
              "      <td>8.477192</td>\n",
              "      <td>-256.988342</td>\n",
              "      <td>6372.967285</td>\n",
              "      <td>-40.834003</td>\n",
              "      <td>50517.269531</td>\n",
              "      <td>-42.160519</td>\n",
              "      <td>34042.613281</td>\n",
              "      <td>-25.203346</td>\n",
              "      <td>26495.708984</td>\n",
              "      <td>-21.014071</td>\n",
              "      <td>21313.773438</td>\n",
              "      <td>-17.547970</td>\n",
              "      <td>17840.306641</td>\n",
              "      <td>-16.658770</td>\n",
              "      <td>15309.901367</td>\n",
              "      <td>-15.724295</td>\n",
              "      <td>13411.498047</td>\n",
              "      <td>-14.432638</td>\n",
              "      <td>11944.249023</td>\n",
              "      <td>-13.819036</td>\n",
              "      <td>10763.847656</td>\n",
              "      <td>-11.730761</td>\n",
              "      <td>5429.986328</td>\n",
              "      <td>jazz</td>\n",
              "    </tr>\n",
              "    <tr>\n",
              "      <th>3</th>\n",
              "      <td>jazz.00003.wav</td>\n",
              "      <td>0.319313</td>\n",
              "      <td>0.081005</td>\n",
              "      <td>0.284614</td>\n",
              "      <td>0.059496</td>\n",
              "      <td>0.001298</td>\n",
              "      <td>0.036026</td>\n",
              "      <td>813.293729</td>\n",
              "      <td>92950.399709</td>\n",
              "      <td>304.877680</td>\n",
              "      <td>1058.898921</td>\n",
              "      <td>220025.916341</td>\n",
              "      <td>469.069202</td>\n",
              "      <td>22.176119</td>\n",
              "      <td>37.173564</td>\n",
              "      <td>6.097013</td>\n",
              "      <td>0.000373</td>\n",
              "      <td>4.418466e-07</td>\n",
              "      <td>0.000665</td>\n",
              "      <td>1417.008098</td>\n",
              "      <td>4.378247e+05</td>\n",
              "      <td>661.683232</td>\n",
              "      <td>0.044674</td>\n",
              "      <td>0.000209</td>\n",
              "      <td>0.014440</td>\n",
              "      <td>123.046875</td>\n",
              "      <td>12.569328</td>\n",
              "      <td>50.954141</td>\n",
              "      <td>7.138217</td>\n",
              "      <td>-297.215118</td>\n",
              "      <td>9868.039062</td>\n",
              "      <td>-52.059296</td>\n",
              "      <td>65472.601562</td>\n",
              "      <td>-31.319010</td>\n",
              "      <td>44885.085938</td>\n",
              "      <td>-23.894550</td>\n",
              "      <td>33892.839844</td>\n",
              "      <td>-18.434387</td>\n",
              "      <td>27262.777344</td>\n",
              "      <td>-13.696505</td>\n",
              "      <td>22848.433594</td>\n",
              "      <td>-12.776850</td>\n",
              "      <td>19610.082031</td>\n",
              "      <td>-10.594538</td>\n",
              "      <td>17201.939453</td>\n",
              "      <td>-10.016613</td>\n",
              "      <td>15303.092773</td>\n",
              "      <td>-9.301682</td>\n",
              "      <td>13786.375000</td>\n",
              "      <td>-5.560663</td>\n",
              "      <td>6943.207031</td>\n",
              "      <td>jazz</td>\n",
              "    </tr>\n",
              "    <tr>\n",
              "      <th>4</th>\n",
              "      <td>jazz.00004.wav</td>\n",
              "      <td>0.171782</td>\n",
              "      <td>0.082596</td>\n",
              "      <td>0.287395</td>\n",
              "      <td>0.108786</td>\n",
              "      <td>0.002178</td>\n",
              "      <td>0.046674</td>\n",
              "      <td>1039.623420</td>\n",
              "      <td>122521.889902</td>\n",
              "      <td>350.031270</td>\n",
              "      <td>1422.303098</td>\n",
              "      <td>77324.475593</td>\n",
              "      <td>278.072788</td>\n",
              "      <td>26.109364</td>\n",
              "      <td>36.920598</td>\n",
              "      <td>6.076232</td>\n",
              "      <td>0.000273</td>\n",
              "      <td>2.905344e-06</td>\n",
              "      <td>0.001705</td>\n",
              "      <td>1838.213885</td>\n",
              "      <td>9.149394e+05</td>\n",
              "      <td>956.524673</td>\n",
              "      <td>0.047769</td>\n",
              "      <td>0.000522</td>\n",
              "      <td>0.022850</td>\n",
              "      <td>95.703125</td>\n",
              "      <td>14.568034</td>\n",
              "      <td>59.669162</td>\n",
              "      <td>7.724582</td>\n",
              "      <td>-270.264801</td>\n",
              "      <td>2931.610596</td>\n",
              "      <td>-66.346558</td>\n",
              "      <td>43322.082031</td>\n",
              "      <td>-42.344845</td>\n",
              "      <td>30147.787109</td>\n",
              "      <td>-21.139273</td>\n",
              "      <td>24015.406250</td>\n",
              "      <td>-18.501179</td>\n",
              "      <td>19275.230469</td>\n",
              "      <td>-13.764654</td>\n",
              "      <td>16192.206055</td>\n",
              "      <td>-12.769576</td>\n",
              "      <td>13896.684570</td>\n",
              "      <td>-10.144088</td>\n",
              "      <td>12214.771484</td>\n",
              "      <td>-9.704555</td>\n",
              "      <td>10864.779297</td>\n",
              "      <td>-8.187305</td>\n",
              "      <td>9804.301758</td>\n",
              "      <td>-4.459225</td>\n",
              "      <td>5015.025391</td>\n",
              "      <td>jazz</td>\n",
              "    </tr>\n",
              "  </tbody>\n",
              "</table>\n",
              "</div>"
            ],
            "text/plain": [
              "         filename  chroma_stft_mean  ...   mfcc20_var  label\n",
              "0  jazz.00000.wav          0.344568  ...  4848.609375   jazz\n",
              "1  jazz.00001.wav          0.328119  ...  7651.382812   jazz\n",
              "2  jazz.00002.wav          0.267640  ...  5429.986328   jazz\n",
              "3  jazz.00003.wav          0.319313  ...  6943.207031   jazz\n",
              "4  jazz.00004.wav          0.171782  ...  5015.025391   jazz\n",
              "\n",
              "[5 rows x 52 columns]"
            ]
          },
          "metadata": {},
          "execution_count": 2
        }
      ]
    },
    {
      "cell_type": "code",
      "metadata": {
        "colab": {
          "base_uri": "https://localhost:8080/"
        },
        "id": "simB-QFZQkyp",
        "outputId": "2eb66afb-a657-4ff5-b763-1fc209885c36"
      },
      "source": [
        "data.shape"
      ],
      "execution_count": 3,
      "outputs": [
        {
          "output_type": "execute_result",
          "data": {
            "text/plain": [
              "(999, 52)"
            ]
          },
          "metadata": {},
          "execution_count": 3
        }
      ]
    },
    {
      "cell_type": "code",
      "metadata": {
        "colab": {
          "base_uri": "https://localhost:8080/"
        },
        "id": "_key_bviQZsJ",
        "outputId": "13cfaea6-4224-4ceb-d715-6b81bfb7985b"
      },
      "source": [
        "data.info()"
      ],
      "execution_count": 4,
      "outputs": [
        {
          "output_type": "stream",
          "name": "stdout",
          "text": [
            "<class 'pandas.core.frame.DataFrame'>\n",
            "Int64Index: 999 entries, 0 to 998\n",
            "Data columns (total 52 columns):\n",
            " #   Column            Non-Null Count  Dtype  \n",
            "---  ------            --------------  -----  \n",
            " 0   filename          999 non-null    object \n",
            " 1   chroma_stft_mean  999 non-null    float64\n",
            " 2   chroma_stft_var   999 non-null    float64\n",
            " 3   chroma_stft_std   999 non-null    float64\n",
            " 4   rms_mean          999 non-null    float64\n",
            " 5   rms_var           999 non-null    float64\n",
            " 6   rms_std           999 non-null    float64\n",
            " 7   spec_cent_mean    999 non-null    float64\n",
            " 8   spec_cent_var     999 non-null    float64\n",
            " 9   spec_cent_std     999 non-null    float64\n",
            " 10  spec_ban_mean     999 non-null    float64\n",
            " 11  spec_ban_var      999 non-null    float64\n",
            " 12  spec_ban_std      999 non-null    float64\n",
            " 13  spec_cons_mean    999 non-null    float64\n",
            " 14  spec_cons_var     999 non-null    float64\n",
            " 15  spec_cons_std     999 non-null    float64\n",
            " 16  spec_flat_mean    999 non-null    float64\n",
            " 17  spec_flat_var     999 non-null    float64\n",
            " 18  spec_flat_std     999 non-null    float64\n",
            " 19  spec_roll_mean    999 non-null    float64\n",
            " 20  spec_roll_var     999 non-null    float64\n",
            " 21  spec_roll_std     999 non-null    float64\n",
            " 22  zero_cros_mean    999 non-null    float64\n",
            " 23  zero_cros_var     999 non-null    float64\n",
            " 24  zero_cros_std     999 non-null    float64\n",
            " 25  Tempo             999 non-null    float64\n",
            " 26  Beat_mean         999 non-null    float64\n",
            " 27  Beat_var          999 non-null    float64\n",
            " 28  Beat_std          999 non-null    float64\n",
            " 29  mfcc1_mean        999 non-null    float64\n",
            " 30  mfcc1_var         999 non-null    float64\n",
            " 31  mfcc2_mean        999 non-null    float64\n",
            " 32  mfcc2_var         999 non-null    float64\n",
            " 33  mfcc3_mean        999 non-null    float64\n",
            " 34  mfcc3_var         999 non-null    float64\n",
            " 35  mfcc4_mean        999 non-null    float64\n",
            " 36  mfcc4_var         999 non-null    float64\n",
            " 37  mfcc5_mean        999 non-null    float64\n",
            " 38  mfcc5_var         999 non-null    float64\n",
            " 39  mfcc6_mean        999 non-null    float64\n",
            " 40  mfcc6_var         999 non-null    float64\n",
            " 41  mfcc7_mean        999 non-null    float64\n",
            " 42  mfcc7_var         999 non-null    float64\n",
            " 43  mfcc8_mean        999 non-null    float64\n",
            " 44  mfcc8_var         999 non-null    float64\n",
            " 45  mfcc9_mean        999 non-null    float64\n",
            " 46  mfcc9_var         999 non-null    float64\n",
            " 47  mfcc10_mean       999 non-null    float64\n",
            " 48  mfcc10_var        999 non-null    float64\n",
            " 49  mfcc20_mean       999 non-null    float64\n",
            " 50  mfcc20_var        999 non-null    float64\n",
            " 51  label             999 non-null    object \n",
            "dtypes: float64(50), object(2)\n",
            "memory usage: 413.6+ KB\n"
          ]
        }
      ]
    },
    {
      "cell_type": "markdown",
      "metadata": {
        "id": "DKbbimrcQflj"
      },
      "source": [
        "**Checking for missing values**"
      ]
    },
    {
      "cell_type": "code",
      "metadata": {
        "colab": {
          "base_uri": "https://localhost:8080/",
          "height": 69
        },
        "id": "n-Bm7TQwQTbJ",
        "outputId": "bf9496a2-0642-4f20-d146-3cd61afd5ec8"
      },
      "source": [
        "data[data.isnull().any(axis=1)]\n"
      ],
      "execution_count": 5,
      "outputs": [
        {
          "output_type": "execute_result",
          "data": {
            "text/html": [
              "<div>\n",
              "<style scoped>\n",
              "    .dataframe tbody tr th:only-of-type {\n",
              "        vertical-align: middle;\n",
              "    }\n",
              "\n",
              "    .dataframe tbody tr th {\n",
              "        vertical-align: top;\n",
              "    }\n",
              "\n",
              "    .dataframe thead th {\n",
              "        text-align: right;\n",
              "    }\n",
              "</style>\n",
              "<table border=\"1\" class=\"dataframe\">\n",
              "  <thead>\n",
              "    <tr style=\"text-align: right;\">\n",
              "      <th></th>\n",
              "      <th>filename</th>\n",
              "      <th>chroma_stft_mean</th>\n",
              "      <th>chroma_stft_var</th>\n",
              "      <th>chroma_stft_std</th>\n",
              "      <th>rms_mean</th>\n",
              "      <th>rms_var</th>\n",
              "      <th>rms_std</th>\n",
              "      <th>spec_cent_mean</th>\n",
              "      <th>spec_cent_var</th>\n",
              "      <th>spec_cent_std</th>\n",
              "      <th>spec_ban_mean</th>\n",
              "      <th>spec_ban_var</th>\n",
              "      <th>spec_ban_std</th>\n",
              "      <th>spec_cons_mean</th>\n",
              "      <th>spec_cons_var</th>\n",
              "      <th>spec_cons_std</th>\n",
              "      <th>spec_flat_mean</th>\n",
              "      <th>spec_flat_var</th>\n",
              "      <th>spec_flat_std</th>\n",
              "      <th>spec_roll_mean</th>\n",
              "      <th>spec_roll_var</th>\n",
              "      <th>spec_roll_std</th>\n",
              "      <th>zero_cros_mean</th>\n",
              "      <th>zero_cros_var</th>\n",
              "      <th>zero_cros_std</th>\n",
              "      <th>Tempo</th>\n",
              "      <th>Beat_mean</th>\n",
              "      <th>Beat_var</th>\n",
              "      <th>Beat_std</th>\n",
              "      <th>mfcc1_mean</th>\n",
              "      <th>mfcc1_var</th>\n",
              "      <th>mfcc2_mean</th>\n",
              "      <th>mfcc2_var</th>\n",
              "      <th>mfcc3_mean</th>\n",
              "      <th>mfcc3_var</th>\n",
              "      <th>mfcc4_mean</th>\n",
              "      <th>mfcc4_var</th>\n",
              "      <th>mfcc5_mean</th>\n",
              "      <th>mfcc5_var</th>\n",
              "      <th>mfcc6_mean</th>\n",
              "      <th>mfcc6_var</th>\n",
              "      <th>mfcc7_mean</th>\n",
              "      <th>mfcc7_var</th>\n",
              "      <th>mfcc8_mean</th>\n",
              "      <th>mfcc8_var</th>\n",
              "      <th>mfcc9_mean</th>\n",
              "      <th>mfcc9_var</th>\n",
              "      <th>mfcc10_mean</th>\n",
              "      <th>mfcc10_var</th>\n",
              "      <th>mfcc20_mean</th>\n",
              "      <th>mfcc20_var</th>\n",
              "      <th>label</th>\n",
              "    </tr>\n",
              "  </thead>\n",
              "  <tbody>\n",
              "  </tbody>\n",
              "</table>\n",
              "</div>"
            ],
            "text/plain": [
              "Empty DataFrame\n",
              "Columns: [filename, chroma_stft_mean, chroma_stft_var, chroma_stft_std, rms_mean, rms_var, rms_std, spec_cent_mean, spec_cent_var, spec_cent_std, spec_ban_mean, spec_ban_var, spec_ban_std, spec_cons_mean, spec_cons_var, spec_cons_std, spec_flat_mean, spec_flat_var, spec_flat_std, spec_roll_mean, spec_roll_var, spec_roll_std, zero_cros_mean, zero_cros_var, zero_cros_std, Tempo, Beat_mean, Beat_var, Beat_std, mfcc1_mean, mfcc1_var, mfcc2_mean, mfcc2_var, mfcc3_mean, mfcc3_var, mfcc4_mean, mfcc4_var, mfcc5_mean, mfcc5_var, mfcc6_mean, mfcc6_var, mfcc7_mean, mfcc7_var, mfcc8_mean, mfcc8_var, mfcc9_mean, mfcc9_var, mfcc10_mean, mfcc10_var, mfcc20_mean, mfcc20_var, label]\n",
              "Index: []"
            ]
          },
          "metadata": {},
          "execution_count": 5
        }
      ]
    },
    {
      "cell_type": "code",
      "metadata": {
        "colab": {
          "base_uri": "https://localhost:8080/",
          "height": 801
        },
        "id": "PnAJGla-U-Ja",
        "outputId": "dddf7b15-e385-4c33-d742-310012f6c231"
      },
      "source": [
        "# Computing the Correlation Matrix\n",
        "spike_cols = [col for col in data.columns if 'mean' in col]\n",
        "corr = data[spike_cols].corr()\n",
        "\n",
        "# Generate a mask for the upper triangle\n",
        "mask = np.triu(np.ones_like(corr, dtype=np.bool))\n",
        "\n",
        "# Set up the matplotlib figure\n",
        "f, ax = plt.subplots(figsize=(16, 11));\n",
        "\n",
        "# Generate a custom diverging colormap\n",
        "cmap = sns.diverging_palette(0, 25, as_cmap=True, s = 90, l = 45, n = 5)\n",
        "\n",
        "# Draw the heatmap with the mask and correct aspect ratio\n",
        "sns.heatmap(corr, mask=mask, cmap=cmap, vmax=.3, center=0,\n",
        "            square=True, linewidths=.5, cbar_kws={\"shrink\": .5})\n",
        "\n",
        "plt.title('Correlation Heatmap (for the MEAN variables)', fontsize = 20)\n",
        "plt.xticks(fontsize = 10)\n",
        "plt.yticks(fontsize = 10)"
      ],
      "execution_count": 6,
      "outputs": [
        {
          "output_type": "execute_result",
          "data": {
            "text/plain": [
              "(array([ 0.5,  1.5,  2.5,  3.5,  4.5,  5.5,  6.5,  7.5,  8.5,  9.5, 10.5,\n",
              "        11.5, 12.5, 13.5, 14.5, 15.5, 16.5, 17.5, 18.5, 19.5]),\n",
              " <a list of 20 Text major ticklabel objects>)"
            ]
          },
          "metadata": {},
          "execution_count": 6
        },
        {
          "output_type": "display_data",
          "data": {
            "image/png": "[encoded data removed]",
            "text/plain": [
              "<Figure size 1152x792 with 2 Axes>"
            ]
          },
          "metadata": {
            "needs_background": "light"
          }
        }
      ]
    },
    {
      "cell_type": "code",
      "metadata": {
        "colab": {
          "base_uri": "https://localhost:8080/",
          "height": 476
        },
        "id": "FXYDMqe2VYqJ",
        "outputId": "f4724cb4-988e-4cdd-f9df-750fe19edf04"
      },
      "source": [
        "x = data[[\"label\", \"Tempo\"]]\n",
        "\n",
        "fig, ax = plt.subplots(figsize=(16, 8));\n",
        "sns.boxplot(x = \"label\", y = \"Tempo\", data = x, palette = 'husl');\n",
        "\n",
        "plt.title('BPM Boxplot for Genres', fontsize = 20)\n",
        "plt.xticks(fontsize = 14)\n",
        "plt.yticks(fontsize = 10);\n",
        "plt.xlabel(\"Genre\", fontsize = 15)\n",
        "plt.ylabel(\"BPM\", fontsize = 15)\n",
        "plt.savefig(\"BPM_Boxplot.png\")"
      ],
      "execution_count": 7,
      "outputs": [
        {
          "output_type": "display_data",
          "data": {
            "image/png": "[encoded data removed]",
            "text/plain": [
              "<Figure size 1152x576 with 1 Axes>"
            ]
          },
          "metadata": {
            "needs_background": "light"
          }
        }
      ]
    },
    {
      "cell_type": "markdown",
      "metadata": {
        "id": "jLZ97Psje3Ml"
      },
      "source": [
        "**Preprocessing**"
      ]
    },
    {
      "cell_type": "code",
      "metadata": {
        "id": "dmeXkeCke2RC"
      },
      "source": [
        "from sklearn.preprocessing import LabelEncoder"
      ],
      "execution_count": 8,
      "outputs": []
    },
    {
      "cell_type": "code",
      "metadata": {
        "id": "ODOFJilMgEuE"
      },
      "source": [
        "df = data.copy()"
      ],
      "execution_count": 9,
      "outputs": []
    },
    {
      "cell_type": "code",
      "metadata": {
        "id": "cYmImbq7fgqg"
      },
      "source": [
        "le_label = LabelEncoder()\n",
        "df['label'] = le_label.fit_transform(df['label'].astype(str))"
      ],
      "execution_count": 10,
      "outputs": []
    },
    {
      "cell_type": "code",
      "metadata": {
        "colab": {
          "base_uri": "https://localhost:8080/"
        },
        "id": "gtoFplBxghu1",
        "outputId": "459c8ee2-1d7c-4631-8553-00dcb5661255"
      },
      "source": [
        "df.label.value_counts()"
      ],
      "execution_count": 11,
      "outputs": [
        {
          "output_type": "execute_result",
          "data": {
            "text/plain": [
              "9    100\n",
              "8    100\n",
              "7    100\n",
              "6    100\n",
              "4    100\n",
              "3    100\n",
              "2    100\n",
              "1    100\n",
              "0    100\n",
              "5     99\n",
              "Name: label, dtype: int64"
            ]
          },
          "metadata": {},
          "execution_count": 11
        }
      ]
    },
    {
      "cell_type": "code",
      "metadata": {
        "id": "vnFneihQRdwI"
      },
      "source": [
        "X = df.iloc[:, 1:-1].values\n",
        "y = df.iloc[:, -1].values"
      ],
      "execution_count": 12,
      "outputs": []
    },
    {
      "cell_type": "code",
      "metadata": {
        "colab": {
          "base_uri": "https://localhost:8080/"
        },
        "id": "0e3nLM6BSv8-",
        "outputId": "e8b7ada2-ea63-40af-8552-eaae3580139c"
      },
      "source": [
        "print('Shape of X:', X.shape)\n",
        "print('Shape of y:', y.shape)"
      ],
      "execution_count": 13,
      "outputs": [
        {
          "output_type": "stream",
          "name": "stdout",
          "text": [
            "Shape of X: (999, 50)\n",
            "Shape of y: (999,)\n"
          ]
        }
      ]
    },
    {
      "cell_type": "code",
      "metadata": {
        "colab": {
          "base_uri": "https://localhost:8080/"
        },
        "id": "Cquvugwvet8Q",
        "outputId": "daa16971-bf9c-4ca6-b946-103d24e81ae8"
      },
      "source": [
        "X"
      ],
      "execution_count": 14,
      "outputs": [
        {
          "output_type": "execute_result",
          "data": {
            "text/plain": [
              "array([[ 3.44567657e-01,  8.50045383e-02,  2.91555375e-01, ...,\n",
              "         9.58731445e+03, -7.56538200e+00,  4.84860938e+03],\n",
              "       [ 3.28118712e-01,  8.65568370e-02,  2.94205427e-01, ...,\n",
              "         1.51395781e+04, -9.78660583e+00,  7.65138281e+03],\n",
              "       [ 2.67640084e-01,  8.39494765e-02,  2.89740354e-01, ...,\n",
              "         1.07638477e+04, -1.17307606e+01,  5.42998633e+03],\n",
              "       ...,\n",
              "       [ 3.75158191e-01,  9.38634574e-02,  3.06371450e-01, ...,\n",
              "         5.29185840e+03,  1.60071778e+00,  2.73083862e+03],\n",
              "       [ 4.42972302e-01,  7.82904252e-02,  2.79804260e-01, ...,\n",
              "         2.74750830e+03,  1.83611107e+00,  1.45823962e+03],\n",
              "       [ 3.70278656e-01,  8.51674080e-02,  2.91834563e-01, ...,\n",
              "         6.56261475e+03, -3.38666892e+00,  3.32503125e+03]])"
            ]
          },
          "metadata": {},
          "execution_count": 14
        }
      ]
    },
    {
      "cell_type": "code",
      "metadata": {
        "id": "UUgVO6sySosq"
      },
      "source": [
        "# create train/test split\n",
        "X_train, X_test, y_train, y_test = train_test_split(X, y, test_size=0.3)"
      ],
      "execution_count": 15,
      "outputs": []
    },
    {
      "cell_type": "code",
      "metadata": {
        "colab": {
          "base_uri": "https://localhost:8080/"
        },
        "id": "67UiaUIF8j-g",
        "outputId": "fd5e23a4-db57-4755-d4f0-74cbec9a390e"
      },
      "source": [
        "y_train"
      ],
      "execution_count": 16,
      "outputs": [
        {
          "output_type": "execute_result",
          "data": {
            "text/plain": [
              "array([3, 3, 2, 9, 0, 2, 7, 2, 0, 5, 3, 7, 2, 8, 3, 5, 8, 0, 1, 7, 7, 1,\n",
              "       5, 4, 7, 0, 6, 4, 9, 5, 0, 4, 9, 6, 0, 6, 7, 1, 5, 5, 1, 5, 5, 9,\n",
              "       8, 0, 2, 3, 6, 0, 5, 7, 4, 4, 8, 0, 8, 8, 0, 4, 5, 5, 6, 3, 3, 2,\n",
              "       7, 9, 0, 9, 6, 5, 2, 6, 3, 1, 2, 3, 9, 3, 1, 9, 3, 4, 9, 6, 4, 8,\n",
              "       8, 2, 1, 6, 3, 2, 6, 5, 0, 9, 0, 6, 3, 2, 4, 0, 5, 8, 0, 7, 5, 3,\n",
              "       4, 3, 0, 9, 9, 6, 1, 4, 2, 1, 6, 7, 9, 0, 8, 5, 0, 7, 1, 8, 7, 0,\n",
              "       2, 9, 1, 1, 6, 5, 8, 9, 2, 8, 1, 6, 6, 1, 7, 5, 1, 6, 7, 1, 0, 1,\n",
              "       1, 3, 2, 0, 7, 0, 8, 9, 4, 2, 5, 0, 5, 3, 0, 3, 6, 1, 9, 0, 3, 4,\n",
              "       1, 2, 2, 1, 1, 9, 5, 9, 4, 3, 6, 2, 3, 5, 1, 8, 0, 5, 8, 5, 7, 2,\n",
              "       7, 6, 8, 8, 7, 1, 5, 6, 3, 0, 2, 5, 0, 9, 8, 6, 4, 1, 6, 9, 7, 0,\n",
              "       7, 5, 6, 7, 6, 2, 3, 5, 9, 9, 5, 1, 7, 3, 1, 0, 7, 6, 6, 3, 3, 3,\n",
              "       4, 9, 1, 4, 8, 6, 0, 1, 7, 5, 7, 5, 0, 9, 9, 0, 3, 3, 8, 7, 9, 7,\n",
              "       5, 7, 3, 5, 7, 1, 5, 3, 7, 0, 6, 1, 3, 9, 7, 5, 0, 6, 4, 1, 1, 4,\n",
              "       7, 5, 3, 9, 7, 5, 9, 6, 9, 8, 2, 3, 5, 3, 1, 8, 7, 3, 2, 6, 0, 5,\n",
              "       2, 3, 3, 9, 8, 0, 9, 6, 9, 8, 1, 4, 9, 9, 6, 5, 6, 8, 3, 8, 0, 1,\n",
              "       9, 7, 2, 1, 5, 1, 4, 0, 1, 8, 7, 7, 9, 4, 1, 2, 8, 3, 5, 9, 9, 9,\n",
              "       8, 7, 8, 0, 4, 5, 0, 1, 2, 0, 8, 1, 2, 7, 1, 1, 9, 4, 7, 9, 1, 3,\n",
              "       0, 3, 3, 1, 3, 7, 7, 7, 4, 6, 0, 5, 6, 6, 5, 1, 1, 4, 9, 9, 2, 8,\n",
              "       0, 2, 3, 4, 2, 8, 4, 3, 0, 3, 2, 0, 4, 4, 8, 6, 6, 2, 9, 3, 3, 4,\n",
              "       0, 3, 6, 0, 1, 3, 3, 6, 6, 4, 4, 4, 3, 3, 6, 2, 4, 0, 1, 8, 9, 8,\n",
              "       7, 8, 2, 0, 9, 1, 3, 6, 2, 8, 8, 7, 6, 5, 9, 1, 4, 8, 9, 2, 4, 1,\n",
              "       4, 0, 4, 2, 6, 1, 8, 4, 5, 6, 8, 6, 8, 3, 4, 7, 8, 8, 7, 2, 8, 3,\n",
              "       7, 8, 3, 9, 7, 9, 5, 2, 7, 4, 2, 2, 2, 4, 2, 2, 7, 8, 5, 8, 9, 9,\n",
              "       7, 9, 1, 0, 5, 0, 2, 1, 0, 2, 0, 6, 8, 2, 6, 5, 8, 3, 0, 3, 8, 3,\n",
              "       4, 3, 6, 6, 8, 2, 6, 1, 0, 4, 4, 2, 4, 7, 6, 1, 4, 8, 5, 4, 8, 2,\n",
              "       7, 5, 1, 9, 0, 6, 5, 0, 9, 7, 3, 9, 2, 7, 8, 6, 6, 0, 3, 8, 2, 6,\n",
              "       9, 6, 2, 0, 6, 9, 7, 3, 6, 8, 0, 4, 8, 3, 5, 7, 0, 2, 7, 6, 9, 5,\n",
              "       9, 5, 8, 1, 0, 3, 3, 8, 6, 7, 6, 8, 6, 2, 9, 7, 2, 2, 5, 8, 8, 0,\n",
              "       9, 0, 9, 3, 8, 2, 5, 0, 3, 7, 2, 4, 3, 8, 9, 9, 2, 3, 2, 5, 7, 4,\n",
              "       2, 4, 4, 4, 6, 1, 9, 0, 9, 4, 7, 5, 1, 6, 8, 5, 5, 6, 9, 2, 6, 3,\n",
              "       4, 4, 8, 0, 9, 5, 2, 1, 4, 1, 7, 0, 9, 7, 6, 9, 4, 5, 8, 7, 1, 0,\n",
              "       8, 1, 5, 3, 5, 5, 4, 8, 2, 4, 7, 6, 4, 9, 1, 8, 8])"
            ]
          },
          "metadata": {},
          "execution_count": 16
        }
      ]
    },
    {
      "cell_type": "code",
      "metadata": {
        "colab": {
          "base_uri": "https://localhost:8080/"
        },
        "id": "dx2jPhWmfzbc",
        "outputId": "2a3f1e6e-fc0e-4215-aca6-d912a5a37ee8"
      },
      "source": [
        "from sklearn.preprocessing import StandardScaler\n",
        "sc = StandardScaler()\n",
        "X_train = sc.fit_transform(X_train)\n",
        "X_test = sc.transform(X_test)\n",
        "X_train"
      ],
      "execution_count": 17,
      "outputs": [
        {
          "output_type": "execute_result",
          "data": {
            "text/plain": [
              "array([[ 0.69722059,  0.41715252,  0.4255817 , ..., -0.83989553,\n",
              "         0.33653294, -0.84461499],\n",
              "       [-0.15613816, -0.13545471, -0.10827067, ..., -0.62951597,\n",
              "        -0.0763544 , -0.63955852],\n",
              "       [-0.84683998,  0.60951941,  0.60832009, ..., -0.15974405,\n",
              "        -0.33516339, -0.16831644],\n",
              "       ...,\n",
              "       [-0.74122272,  0.77522353,  0.7644975 , ..., -0.27120408,\n",
              "         0.15722618, -0.25285223],\n",
              "       [ 1.15191558,  0.82402036,  0.81027629, ..., -0.46108597,\n",
              "         0.99161332, -0.46873235],\n",
              "       [ 0.37101368,  0.31577904,  0.32865192, ..., -0.32470045,\n",
              "         0.69309512, -0.33600072]])"
            ]
          },
          "metadata": {},
          "execution_count": 17
        }
      ]
    },
    {
      "cell_type": "markdown",
      "metadata": {
        "id": "nT4RmfxHC_ke"
      },
      "source": [
        "Testing ML models"
      ]
    },
    {
      "cell_type": "code",
      "metadata": {
        "colab": {
          "base_uri": "https://localhost:8080/"
        },
        "id": "r-xbftBqlgQY",
        "outputId": "54b89392-1eec-4f49-910c-917f9c4d0b69"
      },
      "source": [
        "pip install catboost"
      ],
      "execution_count": 18,
      "outputs": [
        {
          "output_type": "stream",
          "name": "stdout",
          "text": [
            "Collecting catboost\n",
            "  Downloading catboost-0.26.1-cp37-none-manylinux1_x86_64.whl (67.4 MB)\n",
            "\u001b[K     |████████████████████████████████| 67.4 MB 28 kB/s \n",
            "\u001b[?25hRequirement already satisfied: pandas>=0.24.0 in /usr/local/lib/python3.7/dist-packages (from catboost) (1.1.5)\n",
            "Requirement already satisfied: matplotlib in /usr/local/lib/python3.7/dist-packages (from catboost) (3.2.2)\n",
            "Requirement already satisfied: six in /usr/local/lib/python3.7/dist-packages (from catboost) (1.15.0)\n",
            "Requirement already satisfied: numpy>=1.16.0 in /usr/local/lib/python3.7/dist-packages (from catboost) (1.19.5)\n",
            "Requirement already satisfied: plotly in /usr/local/lib/python3.7/dist-packages (from catboost) (4.4.1)\n",
            "Requirement already satisfied: graphviz in /usr/local/lib/python3.7/dist-packages (from catboost) (0.10.1)\n",
            "Requirement already satisfied: scipy in /usr/local/lib/python3.7/dist-packages (from catboost) (1.4.1)\n",
            "Requirement already satisfied: python-dateutil>=2.7.3 in /usr/local/lib/python3.7/dist-packages (from pandas>=0.24.0->catboost) (2.8.2)\n",
            "Requirement already satisfied: pytz>=2017.2 in /usr/local/lib/python3.7/dist-packages (from pandas>=0.24.0->catboost) (2018.9)\n",
            "Requirement already satisfied: pyparsing!=2.0.4,!=2.1.2,!=2.1.6,>=2.0.1 in /usr/local/lib/python3.7/dist-packages (from matplotlib->catboost) (2.4.7)\n",
            "Requirement already satisfied: kiwisolver>=1.0.1 in /usr/local/lib/python3.7/dist-packages (from matplotlib->catboost) (1.3.2)\n",
            "Requirement already satisfied: cycler>=0.10 in /usr/local/lib/python3.7/dist-packages (from matplotlib->catboost) (0.10.0)\n",
            "Requirement already satisfied: retrying>=1.3.3 in /usr/local/lib/python3.7/dist-packages (from plotly->catboost) (1.3.3)\n",
            "Installing collected packages: catboost\n",
            "Successfully installed catboost-0.26.1\n"
          ]
        }
      ]
    },
    {
      "cell_type": "code",
      "metadata": {
        "id": "OSSIbHj-oa8v"
      },
      "source": [
        "from sklearn.naive_bayes import GaussianNB\n",
        "from sklearn.linear_model import SGDClassifier, LogisticRegression\n",
        "from sklearn.neighbors import KNeighborsClassifier\n",
        "from sklearn.tree import DecisionTreeClassifier\n",
        "from sklearn.ensemble import RandomForestClassifier\n",
        "from sklearn.svm import SVC\n",
        "from sklearn.neural_network import MLPClassifier\n",
        "from xgboost import XGBClassifier, XGBRFClassifier\n",
        "import catboost as cb\n",
        "\n",
        "from sklearn.metrics import confusion_matrix, accuracy_score, roc_auc_score, roc_curve\n",
        "from sklearn import preprocessing\n",
        "from sklearn.model_selection import train_test_split\n"
      ],
      "execution_count": 19,
      "outputs": []
    },
    {
      "cell_type": "code",
      "metadata": {
        "id": "NreHOQzNobAZ"
      },
      "source": [
        "def model_assess(model, title = \"Default\"):\n",
        "    model.fit(X_train, y_train)\n",
        "    preds = model.predict(X_test)\n",
        "    #print(confusion_matrix(y_test, preds))\n",
        "    print('Accuracy', title, ':', round(accuracy_score(y_test, preds), 5), '\\n')"
      ],
      "execution_count": 20,
      "outputs": []
    },
    {
      "cell_type": "code",
      "metadata": {
        "colab": {
          "base_uri": "https://localhost:8080/"
        },
        "id": "Ge0qhq01ouIK",
        "outputId": "daa7f3b7-084b-429f-d84e-4915f79d6757"
      },
      "source": [
        "# Naive Bayes\n",
        "nb = GaussianNB()\n",
        "model_assess(nb, \"Naive Bayes\")\n",
        "\n",
        "# Stochastic Gradient Descent\n",
        "sgd = SGDClassifier(max_iter=5000, random_state=0)\n",
        "model_assess(sgd, \"Stochastic Gradient Descent\")\n",
        "\n",
        "# KNN\n",
        "knn = KNeighborsClassifier(n_neighbors=19)\n",
        "model_assess(knn, \"KNN\")\n",
        "\n",
        "# Decission trees\n",
        "tree = DecisionTreeClassifier()\n",
        "model_assess(tree, \"Decission trees\")\n",
        "\n",
        "# Random Forest\n",
        "rforest = RandomForestClassifier(n_estimators=1000, max_depth=10, random_state=0)\n",
        "model_assess(rforest, \"Random Forest\")\n",
        "\n",
        "# Support Vector Machine\n",
        "svm = SVC(decision_function_shape=\"ovo\")\n",
        "model_assess(svm, \"Support Vector Machine\")\n",
        "\n",
        "# Logistic Regression\n",
        "lg = LogisticRegression(random_state=0, solver='lbfgs', multi_class='multinomial')\n",
        "model_assess(lg, \"Logistic Regression\")\n",
        "\n",
        "# Neural Nets\n",
        "nn = MLPClassifier(solver='lbfgs', alpha=1e-5, hidden_layer_sizes=(5000, 10), random_state=1)\n",
        "model_assess(nn, \"Neural Nets\")\n",
        "\n",
        "# catboost\n",
        "cbc = cb.CatBoostClassifier(verbose=0, eval_metric='Accuracy', loss_function='MultiClass')\n",
        "model_assess(cbc,\"Cat Boost Classifier\")\n",
        "\n",
        "# Cross Gradient Booster\n",
        "xgb = XGBClassifier(n_estimators=1000, learning_rate=0.05)\n",
        "model_assess(xgb, \"Cross Gradient Booster\")\n",
        "\n",
        "# Cross Gradient Booster (Random Forest)\n",
        "xgbrf = XGBRFClassifier(objective= 'multi:softmax')\n",
        "model_assess(xgbrf, \"Cross Gradient Booster (Random Forest)\")"
      ],
      "execution_count": 21,
      "outputs": [
        {
          "output_type": "stream",
          "name": "stdout",
          "text": [
            "Accuracy Naive Bayes : 0.45333 \n",
            "\n",
            "Accuracy Stochastic Gradient Descent : 0.59667 \n",
            "\n",
            "Accuracy KNN : 0.51667 \n",
            "\n",
            "Accuracy Decission trees : 0.49667 \n",
            "\n",
            "Accuracy Random Forest : 0.58667 \n",
            "\n",
            "Accuracy Support Vector Machine : 0.57667 \n",
            "\n"
          ]
        },
        {
          "output_type": "stream",
          "name": "stderr",
          "text": [
            "/usr/local/lib/python3.7/dist-packages/sklearn/linear_model/_logistic.py:940: ConvergenceWarning: lbfgs failed to converge (status=1):\n",
            "STOP: TOTAL NO. of ITERATIONS REACHED LIMIT.\n",
            "\n",
            "Increase the number of iterations (max_iter) or scale the data as shown in:\n",
            "    https://scikit-learn.org/stable/modules/preprocessing.html\n",
            "Please also refer to the documentation for alternative solver options:\n",
            "    https://scikit-learn.org/stable/modules/linear_model.html#logistic-regression\n",
            "  extra_warning_msg=_LOGISTIC_SOLVER_CONVERGENCE_MSG)\n"
          ]
        },
        {
          "output_type": "stream",
          "name": "stdout",
          "text": [
            "Accuracy Logistic Regression : 0.65333 \n",
            "\n"
          ]
        },
        {
          "output_type": "stream",
          "name": "stderr",
          "text": [
            "/usr/local/lib/python3.7/dist-packages/sklearn/neural_network/_multilayer_perceptron.py:470: ConvergenceWarning: lbfgs failed to converge (status=1):\n",
            "STOP: TOTAL NO. of ITERATIONS REACHED LIMIT.\n",
            "\n",
            "Increase the number of iterations (max_iter) or scale the data as shown in:\n",
            "    https://scikit-learn.org/stable/modules/preprocessing.html\n",
            "  self.n_iter_ = _check_optimize_result(\"lbfgs\", opt_res, self.max_iter)\n"
          ]
        },
        {
          "output_type": "stream",
          "name": "stdout",
          "text": [
            "Accuracy Neural Nets : 0.65667 \n",
            "\n",
            "Accuracy Cat Boost Classifier : 0.67667 \n",
            "\n",
            "Accuracy Cross Gradient Booster : 0.64333 \n",
            "\n",
            "Accuracy Cross Gradient Booster (Random Forest) : 0.57333 \n",
            "\n"
          ]
        }
      ]
    },
    {
      "cell_type": "code",
      "metadata": {
        "id": "k9T4MIPRfzYK"
      },
      "source": [
        ""
      ],
      "execution_count": 21,
      "outputs": []
    },
    {
      "cell_type": "markdown",
      "metadata": {
        "id": "Tda4xfk1DGHA"
      },
      "source": [
        "Testing ANN"
      ]
    },
    {
      "cell_type": "code",
      "metadata": {
        "id": "du3Y3C0qrExC"
      },
      "source": [
        "from keras.models import Sequential"
      ],
      "execution_count": 22,
      "outputs": []
    },
    {
      "cell_type": "code",
      "metadata": {
        "id": "csKMM1zYS_G9"
      },
      "source": [
        "def train_model(model, epochs, optimizer):\n",
        "  batch_size = 128\n",
        "  model.compile(optimizer=optimizer,\n",
        "                loss='sparse_categorical_crossentropy', \n",
        "                metrics='accuracy')\n",
        "  return model.fit(X_train, y_train, validation_data=(X_test, y_test), epochs=epochs, batch_size=batch_size)"
      ],
      "execution_count": 23,
      "outputs": []
    },
    {
      "cell_type": "code",
      "metadata": {
        "id": "1j6j90rLsggi"
      },
      "source": [
        "def plot_graph(history):\n",
        "  print(\"Validation Accuracy\", max(history.history[\"val_accuracy\"]))\n",
        "  pd.DataFrame(history.history).plot(figsize=(12,6))\n",
        "  plt.show()"
      ],
      "execution_count": 24,
      "outputs": []
    },
    {
      "cell_type": "code",
      "metadata": {
        "colab": {
          "base_uri": "https://localhost:8080/"
        },
        "id": "y957p8AItaJ1",
        "outputId": "8f6a7bc3-1a64-4cca-8982-bf406af241fd"
      },
      "source": [
        "model = keras.models.Sequential([\n",
        "    # input layer\n",
        "    keras.layers.Flatten(input_shape=(X_train.shape[1],)),\n",
        "    \n",
        "    # 1st dense layer\n",
        "    keras.layers.Dense(512, activation='relu', kernel_regularizer=keras.regularizers.l2(0.001)),\n",
        "    keras.layers.Dropout(0.3),\n",
        "\n",
        "    # 2nd dense layer\n",
        "    keras.layers.Dense(256, activation='relu', kernel_regularizer=keras.regularizers.l2(0.001)),\n",
        "    keras.layers.Dropout(0.3),\n",
        "\n",
        "    # 2nd dense layer\n",
        "    keras.layers.Dense(128, activation='relu', kernel_regularizer=keras.regularizers.l2(0.001)),\n",
        "    keras.layers.Dropout(0.3),\n",
        "\n",
        "    # 3rd dense layer\n",
        "    keras.layers.Dense(64, activation='relu', kernel_regularizer=keras.regularizers.l2(0.001)),\n",
        "    keras.layers.Dropout(0.3),\n",
        "\n",
        "    # output layer\n",
        "    keras.layers.Dense(10, activation='softmax')\n",
        "])\n",
        "print(model.summary())\n",
        "model_history = train_model(model=model, epochs=300, optimizer='adam')"
      ],
      "execution_count": 25,
      "outputs": [
        {
          "output_type": "stream",
          "name": "stdout",
          "text": [
            "Model: \"sequential\"\n",
            "_________________________________________________________________\n",
            "Layer (type)                 Output Shape              Param #   \n",
            "=================================================================\n",
            "flatten (Flatten)            (None, 50)                0         \n",
            "_________________________________________________________________\n",
            "dense (Dense)                (None, 512)               26112     \n",
            "_________________________________________________________________\n",
            "dropout (Dropout)            (None, 512)               0         \n",
            "_________________________________________________________________\n",
            "dense_1 (Dense)              (None, 256)               131328    \n",
            "_________________________________________________________________\n",
            "dropout_1 (Dropout)          (None, 256)               0         \n",
            "_________________________________________________________________\n",
            "dense_2 (Dense)              (None, 128)               32896     \n",
            "_________________________________________________________________\n",
            "dropout_2 (Dropout)          (None, 128)               0         \n",
            "_________________________________________________________________\n",
            "dense_3 (Dense)              (None, 64)                8256      \n",
            "_________________________________________________________________\n",
            "dropout_3 (Dropout)          (None, 64)                0         \n",
            "_________________________________________________________________\n",
            "dense_4 (Dense)              (None, 10)                650       \n",
            "=================================================================\n",
            "Total params: 199,242\n",
            "Trainable params: 199,242\n",
            "Non-trainable params: 0\n",
            "_________________________________________________________________\n",
            "None\n",
            "Epoch 1/300\n",
            "6/6 [==============================] - 1s 50ms/step - loss: 2.9602 - accuracy: 0.1416 - val_loss: 2.6913 - val_accuracy: 0.3200\n",
            "Epoch 2/300\n",
            "6/6 [==============================] - 0s 12ms/step - loss: 2.6890 - accuracy: 0.3019 - val_loss: 2.5002 - val_accuracy: 0.3567\n",
            "Epoch 3/300\n",
            "6/6 [==============================] - 0s 16ms/step - loss: 2.5361 - accuracy: 0.3362 - val_loss: 2.3571 - val_accuracy: 0.3767\n",
            "Epoch 4/300\n",
            "6/6 [==============================] - 0s 12ms/step - loss: 2.4288 - accuracy: 0.3491 - val_loss: 2.2711 - val_accuracy: 0.4167\n",
            "Epoch 5/300\n",
            "6/6 [==============================] - 0s 15ms/step - loss: 2.3174 - accuracy: 0.3891 - val_loss: 2.1902 - val_accuracy: 0.4333\n",
            "Epoch 6/300\n",
            "6/6 [==============================] - 0s 12ms/step - loss: 2.2477 - accuracy: 0.4020 - val_loss: 2.1003 - val_accuracy: 0.4900\n",
            "Epoch 7/300\n",
            "6/6 [==============================] - 0s 13ms/step - loss: 2.2053 - accuracy: 0.4206 - val_loss: 2.0369 - val_accuracy: 0.4933\n",
            "Epoch 8/300\n",
            "6/6 [==============================] - 0s 12ms/step - loss: 2.1581 - accuracy: 0.4521 - val_loss: 1.9916 - val_accuracy: 0.4867\n",
            "Epoch 9/300\n",
            "6/6 [==============================] - 0s 13ms/step - loss: 2.0547 - accuracy: 0.4735 - val_loss: 1.9521 - val_accuracy: 0.4933\n",
            "Epoch 10/300\n",
            "6/6 [==============================] - 0s 13ms/step - loss: 1.9698 - accuracy: 0.5107 - val_loss: 1.8866 - val_accuracy: 0.5333\n",
            "Epoch 11/300\n",
            "6/6 [==============================] - 0s 12ms/step - loss: 1.9565 - accuracy: 0.5093 - val_loss: 1.8407 - val_accuracy: 0.5767\n",
            "Epoch 12/300\n",
            "6/6 [==============================] - 0s 15ms/step - loss: 1.9242 - accuracy: 0.5293 - val_loss: 1.8439 - val_accuracy: 0.5533\n",
            "Epoch 13/300\n",
            "6/6 [==============================] - 0s 12ms/step - loss: 1.8320 - accuracy: 0.5637 - val_loss: 1.8167 - val_accuracy: 0.5833\n",
            "Epoch 14/300\n",
            "6/6 [==============================] - 0s 12ms/step - loss: 1.8162 - accuracy: 0.5637 - val_loss: 1.7881 - val_accuracy: 0.5800\n",
            "Epoch 15/300\n",
            "6/6 [==============================] - 0s 12ms/step - loss: 1.8262 - accuracy: 0.5565 - val_loss: 1.7643 - val_accuracy: 0.5900\n",
            "Epoch 16/300\n",
            "6/6 [==============================] - 0s 13ms/step - loss: 1.7427 - accuracy: 0.5780 - val_loss: 1.7516 - val_accuracy: 0.5833\n",
            "Epoch 17/300\n",
            "6/6 [==============================] - 0s 12ms/step - loss: 1.7297 - accuracy: 0.5951 - val_loss: 1.7375 - val_accuracy: 0.5933\n",
            "Epoch 18/300\n",
            "6/6 [==============================] - 0s 13ms/step - loss: 1.7212 - accuracy: 0.5980 - val_loss: 1.7094 - val_accuracy: 0.6167\n",
            "Epoch 19/300\n",
            "6/6 [==============================] - 0s 12ms/step - loss: 1.6569 - accuracy: 0.6152 - val_loss: 1.6966 - val_accuracy: 0.6000\n",
            "Epoch 20/300\n",
            "6/6 [==============================] - 0s 12ms/step - loss: 1.6464 - accuracy: 0.5923 - val_loss: 1.6707 - val_accuracy: 0.6133\n",
            "Epoch 21/300\n",
            "6/6 [==============================] - 0s 15ms/step - loss: 1.6341 - accuracy: 0.6266 - val_loss: 1.6748 - val_accuracy: 0.6000\n",
            "Epoch 22/300\n",
            "6/6 [==============================] - 0s 16ms/step - loss: 1.5640 - accuracy: 0.6323 - val_loss: 1.6309 - val_accuracy: 0.6167\n",
            "Epoch 23/300\n",
            "6/6 [==============================] - 0s 12ms/step - loss: 1.5554 - accuracy: 0.6452 - val_loss: 1.6155 - val_accuracy: 0.6567\n",
            "Epoch 24/300\n",
            "6/6 [==============================] - 0s 14ms/step - loss: 1.5272 - accuracy: 0.6609 - val_loss: 1.6068 - val_accuracy: 0.6267\n",
            "Epoch 25/300\n",
            "6/6 [==============================] - 0s 12ms/step - loss: 1.5283 - accuracy: 0.6581 - val_loss: 1.5975 - val_accuracy: 0.6533\n",
            "Epoch 26/300\n",
            "6/6 [==============================] - 0s 12ms/step - loss: 1.5170 - accuracy: 0.6652 - val_loss: 1.5935 - val_accuracy: 0.6633\n",
            "Epoch 27/300\n",
            "6/6 [==============================] - 0s 12ms/step - loss: 1.4529 - accuracy: 0.6896 - val_loss: 1.5908 - val_accuracy: 0.6633\n",
            "Epoch 28/300\n",
            "6/6 [==============================] - 0s 12ms/step - loss: 1.4339 - accuracy: 0.6638 - val_loss: 1.5829 - val_accuracy: 0.6533\n",
            "Epoch 29/300\n",
            "6/6 [==============================] - 0s 14ms/step - loss: 1.4034 - accuracy: 0.7010 - val_loss: 1.5672 - val_accuracy: 0.6600\n",
            "Epoch 30/300\n",
            "6/6 [==============================] - 0s 12ms/step - loss: 1.3940 - accuracy: 0.6896 - val_loss: 1.5329 - val_accuracy: 0.6733\n",
            "Epoch 31/300\n",
            "6/6 [==============================] - 0s 11ms/step - loss: 1.3735 - accuracy: 0.7139 - val_loss: 1.5420 - val_accuracy: 0.6833\n",
            "Epoch 32/300\n",
            "6/6 [==============================] - 0s 12ms/step - loss: 1.3722 - accuracy: 0.7082 - val_loss: 1.5360 - val_accuracy: 0.6867\n",
            "Epoch 33/300\n",
            "6/6 [==============================] - 0s 15ms/step - loss: 1.3330 - accuracy: 0.7053 - val_loss: 1.5295 - val_accuracy: 0.7000\n",
            "Epoch 34/300\n",
            "6/6 [==============================] - 0s 12ms/step - loss: 1.3276 - accuracy: 0.7196 - val_loss: 1.5475 - val_accuracy: 0.6867\n",
            "Epoch 35/300\n",
            "6/6 [==============================] - 0s 13ms/step - loss: 1.2805 - accuracy: 0.7167 - val_loss: 1.5746 - val_accuracy: 0.6667\n",
            "Epoch 36/300\n",
            "6/6 [==============================] - 0s 12ms/step - loss: 1.2850 - accuracy: 0.7396 - val_loss: 1.5447 - val_accuracy: 0.6833\n",
            "Epoch 37/300\n",
            "6/6 [==============================] - 0s 12ms/step - loss: 1.3101 - accuracy: 0.7353 - val_loss: 1.5386 - val_accuracy: 0.6767\n",
            "Epoch 38/300\n",
            "6/6 [==============================] - 0s 11ms/step - loss: 1.2672 - accuracy: 0.7382 - val_loss: 1.5414 - val_accuracy: 0.6933\n",
            "Epoch 39/300\n",
            "6/6 [==============================] - 0s 12ms/step - loss: 1.2398 - accuracy: 0.7539 - val_loss: 1.5086 - val_accuracy: 0.6867\n",
            "Epoch 40/300\n",
            "6/6 [==============================] - 0s 12ms/step - loss: 1.2475 - accuracy: 0.7611 - val_loss: 1.5253 - val_accuracy: 0.6733\n",
            "Epoch 41/300\n",
            "6/6 [==============================] - 0s 11ms/step - loss: 1.2405 - accuracy: 0.7568 - val_loss: 1.5025 - val_accuracy: 0.6967\n",
            "Epoch 42/300\n",
            "6/6 [==============================] - 0s 13ms/step - loss: 1.1923 - accuracy: 0.7639 - val_loss: 1.5228 - val_accuracy: 0.6733\n",
            "Epoch 43/300\n",
            "6/6 [==============================] - 0s 11ms/step - loss: 1.1929 - accuracy: 0.7582 - val_loss: 1.5360 - val_accuracy: 0.6867\n",
            "Epoch 44/300\n",
            "6/6 [==============================] - 0s 11ms/step - loss: 1.1737 - accuracy: 0.7783 - val_loss: 1.4937 - val_accuracy: 0.6933\n",
            "Epoch 45/300\n",
            "6/6 [==============================] - 0s 14ms/step - loss: 1.2352 - accuracy: 0.7468 - val_loss: 1.5245 - val_accuracy: 0.6900\n",
            "Epoch 46/300\n",
            "6/6 [==============================] - 0s 13ms/step - loss: 1.1095 - accuracy: 0.7725 - val_loss: 1.5403 - val_accuracy: 0.6800\n",
            "Epoch 47/300\n",
            "6/6 [==============================] - 0s 12ms/step - loss: 1.1862 - accuracy: 0.7668 - val_loss: 1.5167 - val_accuracy: 0.6733\n",
            "Epoch 48/300\n",
            "6/6 [==============================] - 0s 14ms/step - loss: 1.1888 - accuracy: 0.7597 - val_loss: 1.4803 - val_accuracy: 0.7167\n",
            "Epoch 49/300\n",
            "6/6 [==============================] - 0s 12ms/step - loss: 1.1723 - accuracy: 0.7768 - val_loss: 1.4861 - val_accuracy: 0.6900\n",
            "Epoch 50/300\n",
            "6/6 [==============================] - 0s 11ms/step - loss: 1.0909 - accuracy: 0.7840 - val_loss: 1.5378 - val_accuracy: 0.6900\n",
            "Epoch 51/300\n",
            "6/6 [==============================] - 0s 13ms/step - loss: 1.0617 - accuracy: 0.8011 - val_loss: 1.5339 - val_accuracy: 0.6733\n",
            "Epoch 52/300\n",
            "6/6 [==============================] - 0s 15ms/step - loss: 1.0824 - accuracy: 0.7783 - val_loss: 1.5371 - val_accuracy: 0.6800\n",
            "Epoch 53/300\n",
            "6/6 [==============================] - 0s 12ms/step - loss: 1.0603 - accuracy: 0.8097 - val_loss: 1.4985 - val_accuracy: 0.7167\n",
            "Epoch 54/300\n",
            "6/6 [==============================] - 0s 12ms/step - loss: 1.0538 - accuracy: 0.7997 - val_loss: 1.5385 - val_accuracy: 0.7000\n",
            "Epoch 55/300\n",
            "6/6 [==============================] - 0s 13ms/step - loss: 1.0614 - accuracy: 0.8083 - val_loss: 1.5337 - val_accuracy: 0.7100\n",
            "Epoch 56/300\n",
            "6/6 [==============================] - 0s 13ms/step - loss: 1.0521 - accuracy: 0.8083 - val_loss: 1.5341 - val_accuracy: 0.7100\n",
            "Epoch 57/300\n",
            "6/6 [==============================] - 0s 12ms/step - loss: 1.0172 - accuracy: 0.8240 - val_loss: 1.5312 - val_accuracy: 0.7067\n",
            "Epoch 58/300\n",
            "6/6 [==============================] - 0s 12ms/step - loss: 1.0115 - accuracy: 0.8169 - val_loss: 1.5271 - val_accuracy: 0.6933\n",
            "Epoch 59/300\n",
            "6/6 [==============================] - 0s 12ms/step - loss: 1.0408 - accuracy: 0.8183 - val_loss: 1.5260 - val_accuracy: 0.7100\n",
            "Epoch 60/300\n",
            "6/6 [==============================] - 0s 14ms/step - loss: 1.0239 - accuracy: 0.8011 - val_loss: 1.5426 - val_accuracy: 0.6867\n",
            "Epoch 61/300\n",
            "6/6 [==============================] - 0s 14ms/step - loss: 1.0074 - accuracy: 0.8255 - val_loss: 1.5483 - val_accuracy: 0.6967\n",
            "Epoch 62/300\n",
            "6/6 [==============================] - 0s 12ms/step - loss: 0.9827 - accuracy: 0.8155 - val_loss: 1.5305 - val_accuracy: 0.7000\n",
            "Epoch 63/300\n",
            "6/6 [==============================] - 0s 12ms/step - loss: 0.9794 - accuracy: 0.8312 - val_loss: 1.5058 - val_accuracy: 0.6967\n",
            "Epoch 64/300\n",
            "6/6 [==============================] - 0s 12ms/step - loss: 0.9382 - accuracy: 0.8326 - val_loss: 1.5285 - val_accuracy: 0.7100\n",
            "Epoch 65/300\n",
            "6/6 [==============================] - 0s 12ms/step - loss: 0.9661 - accuracy: 0.8140 - val_loss: 1.5223 - val_accuracy: 0.7133\n",
            "Epoch 66/300\n",
            "6/6 [==============================] - 0s 12ms/step - loss: 0.9756 - accuracy: 0.8169 - val_loss: 1.5104 - val_accuracy: 0.7067\n",
            "Epoch 67/300\n",
            "6/6 [==============================] - 0s 12ms/step - loss: 0.9332 - accuracy: 0.8412 - val_loss: 1.5698 - val_accuracy: 0.6900\n",
            "Epoch 68/300\n",
            "6/6 [==============================] - 0s 12ms/step - loss: 0.8953 - accuracy: 0.8484 - val_loss: 1.5129 - val_accuracy: 0.7000\n",
            "Epoch 69/300\n",
            "6/6 [==============================] - 0s 12ms/step - loss: 0.9065 - accuracy: 0.8498 - val_loss: 1.5164 - val_accuracy: 0.7033\n",
            "Epoch 70/300\n",
            "6/6 [==============================] - 0s 11ms/step - loss: 0.9383 - accuracy: 0.8255 - val_loss: 1.4912 - val_accuracy: 0.7100\n",
            "Epoch 71/300\n",
            "6/6 [==============================] - 0s 13ms/step - loss: 0.9112 - accuracy: 0.8498 - val_loss: 1.5191 - val_accuracy: 0.6867\n",
            "Epoch 72/300\n",
            "6/6 [==============================] - 0s 11ms/step - loss: 0.8868 - accuracy: 0.8612 - val_loss: 1.5663 - val_accuracy: 0.6733\n",
            "Epoch 73/300\n",
            "6/6 [==============================] - 0s 12ms/step - loss: 0.8840 - accuracy: 0.8441 - val_loss: 1.5662 - val_accuracy: 0.7067\n",
            "Epoch 74/300\n",
            "6/6 [==============================] - 0s 12ms/step - loss: 0.8995 - accuracy: 0.8441 - val_loss: 1.5732 - val_accuracy: 0.6767\n",
            "Epoch 75/300\n",
            "6/6 [==============================] - 0s 12ms/step - loss: 0.8439 - accuracy: 0.8612 - val_loss: 1.5676 - val_accuracy: 0.6867\n",
            "Epoch 76/300\n",
            "6/6 [==============================] - 0s 13ms/step - loss: 0.8562 - accuracy: 0.8655 - val_loss: 1.5673 - val_accuracy: 0.6900\n",
            "Epoch 77/300\n",
            "6/6 [==============================] - 0s 12ms/step - loss: 0.8590 - accuracy: 0.8627 - val_loss: 1.5556 - val_accuracy: 0.6933\n",
            "Epoch 78/300\n",
            "6/6 [==============================] - 0s 11ms/step - loss: 0.8574 - accuracy: 0.8684 - val_loss: 1.5733 - val_accuracy: 0.7067\n",
            "Epoch 79/300\n",
            "6/6 [==============================] - 0s 13ms/step - loss: 0.8279 - accuracy: 0.8670 - val_loss: 1.5444 - val_accuracy: 0.7133\n",
            "Epoch 80/300\n",
            "6/6 [==============================] - 0s 12ms/step - loss: 0.8177 - accuracy: 0.8727 - val_loss: 1.5602 - val_accuracy: 0.6933\n",
            "Epoch 81/300\n",
            "6/6 [==============================] - 0s 15ms/step - loss: 0.8629 - accuracy: 0.8512 - val_loss: 1.5988 - val_accuracy: 0.6867\n",
            "Epoch 82/300\n",
            "6/6 [==============================] - 0s 13ms/step - loss: 0.8552 - accuracy: 0.8684 - val_loss: 1.5565 - val_accuracy: 0.6933\n",
            "Epoch 83/300\n",
            "6/6 [==============================] - 0s 12ms/step - loss: 0.8253 - accuracy: 0.8741 - val_loss: 1.5361 - val_accuracy: 0.6867\n",
            "Epoch 84/300\n",
            "6/6 [==============================] - 0s 13ms/step - loss: 0.7660 - accuracy: 0.9056 - val_loss: 1.5157 - val_accuracy: 0.7000\n",
            "Epoch 85/300\n",
            "6/6 [==============================] - 0s 12ms/step - loss: 0.7591 - accuracy: 0.8956 - val_loss: 1.5548 - val_accuracy: 0.6933\n",
            "Epoch 86/300\n",
            "6/6 [==============================] - 0s 13ms/step - loss: 0.7725 - accuracy: 0.8884 - val_loss: 1.5661 - val_accuracy: 0.7000\n",
            "Epoch 87/300\n",
            "6/6 [==============================] - 0s 13ms/step - loss: 0.7620 - accuracy: 0.8813 - val_loss: 1.5968 - val_accuracy: 0.6900\n",
            "Epoch 88/300\n",
            "6/6 [==============================] - 0s 12ms/step - loss: 0.7587 - accuracy: 0.8970 - val_loss: 1.6106 - val_accuracy: 0.6967\n",
            "Epoch 89/300\n",
            "6/6 [==============================] - 0s 12ms/step - loss: 0.7758 - accuracy: 0.8841 - val_loss: 1.5444 - val_accuracy: 0.7200\n",
            "Epoch 90/300\n",
            "6/6 [==============================] - 0s 12ms/step - loss: 0.7493 - accuracy: 0.8956 - val_loss: 1.5460 - val_accuracy: 0.7167\n",
            "Epoch 91/300\n",
            "6/6 [==============================] - 0s 12ms/step - loss: 0.7933 - accuracy: 0.8941 - val_loss: 1.5972 - val_accuracy: 0.6933\n",
            "Epoch 92/300\n",
            "6/6 [==============================] - 0s 14ms/step - loss: 0.7797 - accuracy: 0.8841 - val_loss: 1.5751 - val_accuracy: 0.6933\n",
            "Epoch 93/300\n",
            "6/6 [==============================] - 0s 12ms/step - loss: 0.7778 - accuracy: 0.8927 - val_loss: 1.5537 - val_accuracy: 0.6967\n",
            "Epoch 94/300\n",
            "6/6 [==============================] - 0s 12ms/step - loss: 0.7930 - accuracy: 0.8870 - val_loss: 1.5366 - val_accuracy: 0.7000\n",
            "Epoch 95/300\n",
            "6/6 [==============================] - 0s 12ms/step - loss: 0.7414 - accuracy: 0.8956 - val_loss: 1.5292 - val_accuracy: 0.7133\n",
            "Epoch 96/300\n",
            "6/6 [==============================] - 0s 13ms/step - loss: 0.7234 - accuracy: 0.9170 - val_loss: 1.5877 - val_accuracy: 0.6967\n",
            "Epoch 97/300\n",
            "6/6 [==============================] - 0s 12ms/step - loss: 0.7297 - accuracy: 0.8970 - val_loss: 1.6138 - val_accuracy: 0.6933\n",
            "Epoch 98/300\n",
            "6/6 [==============================] - 0s 12ms/step - loss: 0.7174 - accuracy: 0.9027 - val_loss: 1.5561 - val_accuracy: 0.6967\n",
            "Epoch 99/300\n",
            "6/6 [==============================] - 0s 12ms/step - loss: 0.7491 - accuracy: 0.8927 - val_loss: 1.5348 - val_accuracy: 0.6900\n",
            "Epoch 100/300\n",
            "6/6 [==============================] - 0s 11ms/step - loss: 0.7402 - accuracy: 0.9056 - val_loss: 1.5901 - val_accuracy: 0.6967\n",
            "Epoch 101/300\n",
            "6/6 [==============================] - 0s 15ms/step - loss: 0.7336 - accuracy: 0.8999 - val_loss: 1.5852 - val_accuracy: 0.6900\n",
            "Epoch 102/300\n",
            "6/6 [==============================] - 0s 12ms/step - loss: 0.6982 - accuracy: 0.9041 - val_loss: 1.5470 - val_accuracy: 0.7167\n",
            "Epoch 103/300\n",
            "6/6 [==============================] - 0s 12ms/step - loss: 0.6937 - accuracy: 0.9213 - val_loss: 1.5948 - val_accuracy: 0.7033\n",
            "Epoch 104/300\n",
            "6/6 [==============================] - 0s 14ms/step - loss: 0.7230 - accuracy: 0.9056 - val_loss: 1.6773 - val_accuracy: 0.6867\n",
            "Epoch 105/300\n",
            "6/6 [==============================] - 0s 14ms/step - loss: 0.7043 - accuracy: 0.9127 - val_loss: 1.6013 - val_accuracy: 0.7000\n",
            "Epoch 106/300\n",
            "6/6 [==============================] - 0s 12ms/step - loss: 0.6895 - accuracy: 0.9113 - val_loss: 1.6103 - val_accuracy: 0.7200\n",
            "Epoch 107/300\n",
            "6/6 [==============================] - 0s 11ms/step - loss: 0.6569 - accuracy: 0.9371 - val_loss: 1.6118 - val_accuracy: 0.6933\n",
            "Epoch 108/300\n",
            "6/6 [==============================] - 0s 13ms/step - loss: 0.7002 - accuracy: 0.9113 - val_loss: 1.5796 - val_accuracy: 0.7067\n",
            "Epoch 109/300\n",
            "6/6 [==============================] - 0s 12ms/step - loss: 0.7143 - accuracy: 0.9084 - val_loss: 1.5527 - val_accuracy: 0.7167\n",
            "Epoch 110/300\n",
            "6/6 [==============================] - 0s 12ms/step - loss: 0.6384 - accuracy: 0.9342 - val_loss: 1.6295 - val_accuracy: 0.6800\n",
            "Epoch 111/300\n",
            "6/6 [==============================] - 0s 12ms/step - loss: 0.6566 - accuracy: 0.9356 - val_loss: 1.6724 - val_accuracy: 0.7100\n",
            "Epoch 112/300\n",
            "6/6 [==============================] - 0s 12ms/step - loss: 0.6412 - accuracy: 0.9256 - val_loss: 1.6063 - val_accuracy: 0.7100\n",
            "Epoch 113/300\n",
            "6/6 [==============================] - 0s 12ms/step - loss: 0.6334 - accuracy: 0.9299 - val_loss: 1.6401 - val_accuracy: 0.6967\n",
            "Epoch 114/300\n",
            "6/6 [==============================] - 0s 13ms/step - loss: 0.6470 - accuracy: 0.9242 - val_loss: 1.6300 - val_accuracy: 0.6900\n",
            "Epoch 115/300\n",
            "6/6 [==============================] - 0s 12ms/step - loss: 0.6309 - accuracy: 0.9213 - val_loss: 1.6203 - val_accuracy: 0.6967\n",
            "Epoch 116/300\n",
            "6/6 [==============================] - 0s 15ms/step - loss: 0.6561 - accuracy: 0.9313 - val_loss: 1.5937 - val_accuracy: 0.7167\n",
            "Epoch 117/300\n",
            "6/6 [==============================] - 0s 15ms/step - loss: 0.6415 - accuracy: 0.9342 - val_loss: 1.7105 - val_accuracy: 0.6833\n",
            "Epoch 118/300\n",
            "6/6 [==============================] - 0s 13ms/step - loss: 0.6241 - accuracy: 0.9299 - val_loss: 1.6834 - val_accuracy: 0.7000\n",
            "Epoch 119/300\n",
            "6/6 [==============================] - 0s 12ms/step - loss: 0.6623 - accuracy: 0.9170 - val_loss: 1.5849 - val_accuracy: 0.7200\n",
            "Epoch 120/300\n",
            "6/6 [==============================] - 0s 12ms/step - loss: 0.6542 - accuracy: 0.9113 - val_loss: 1.6665 - val_accuracy: 0.7067\n",
            "Epoch 121/300\n",
            "6/6 [==============================] - 0s 12ms/step - loss: 0.6594 - accuracy: 0.9156 - val_loss: 1.6303 - val_accuracy: 0.7033\n",
            "Epoch 122/300\n",
            "6/6 [==============================] - 0s 12ms/step - loss: 0.6298 - accuracy: 0.9328 - val_loss: 1.5770 - val_accuracy: 0.7167\n",
            "Epoch 123/300\n",
            "6/6 [==============================] - 0s 11ms/step - loss: 0.6348 - accuracy: 0.9342 - val_loss: 1.6891 - val_accuracy: 0.6800\n",
            "Epoch 124/300\n",
            "6/6 [==============================] - 0s 13ms/step - loss: 0.6537 - accuracy: 0.9227 - val_loss: 1.6164 - val_accuracy: 0.6867\n",
            "Epoch 125/300\n",
            "6/6 [==============================] - 0s 13ms/step - loss: 0.6138 - accuracy: 0.9328 - val_loss: 1.5580 - val_accuracy: 0.6933\n",
            "Epoch 126/300\n",
            "6/6 [==============================] - 0s 13ms/step - loss: 0.6564 - accuracy: 0.9227 - val_loss: 1.5822 - val_accuracy: 0.7067\n",
            "Epoch 127/300\n",
            "6/6 [==============================] - 0s 12ms/step - loss: 0.6271 - accuracy: 0.9270 - val_loss: 1.6548 - val_accuracy: 0.6900\n",
            "Epoch 128/300\n",
            "6/6 [==============================] - 0s 12ms/step - loss: 0.6284 - accuracy: 0.9342 - val_loss: 1.5694 - val_accuracy: 0.7300\n",
            "Epoch 129/300\n",
            "6/6 [==============================] - 0s 12ms/step - loss: 0.6413 - accuracy: 0.9056 - val_loss: 1.5750 - val_accuracy: 0.6967\n",
            "Epoch 130/300\n",
            "6/6 [==============================] - 0s 15ms/step - loss: 0.6362 - accuracy: 0.9242 - val_loss: 1.6047 - val_accuracy: 0.6900\n",
            "Epoch 131/300\n",
            "6/6 [==============================] - 0s 13ms/step - loss: 0.6071 - accuracy: 0.9371 - val_loss: 1.6313 - val_accuracy: 0.6867\n",
            "Epoch 132/300\n",
            "6/6 [==============================] - 0s 12ms/step - loss: 0.5809 - accuracy: 0.9499 - val_loss: 1.6674 - val_accuracy: 0.6867\n",
            "Epoch 133/300\n",
            "6/6 [==============================] - 0s 13ms/step - loss: 0.5932 - accuracy: 0.9385 - val_loss: 1.5970 - val_accuracy: 0.7100\n",
            "Epoch 134/300\n",
            "6/6 [==============================] - 0s 12ms/step - loss: 0.6379 - accuracy: 0.9342 - val_loss: 1.6219 - val_accuracy: 0.7033\n",
            "Epoch 135/300\n",
            "6/6 [==============================] - 0s 11ms/step - loss: 0.6130 - accuracy: 0.9313 - val_loss: 1.5836 - val_accuracy: 0.7000\n",
            "Epoch 136/300\n",
            "6/6 [==============================] - 0s 12ms/step - loss: 0.5989 - accuracy: 0.9342 - val_loss: 1.6422 - val_accuracy: 0.7033\n",
            "Epoch 137/300\n",
            "6/6 [==============================] - 0s 15ms/step - loss: 0.5969 - accuracy: 0.9499 - val_loss: 1.6096 - val_accuracy: 0.7233\n",
            "Epoch 138/300\n",
            "6/6 [==============================] - 0s 13ms/step - loss: 0.6053 - accuracy: 0.9399 - val_loss: 1.6156 - val_accuracy: 0.7033\n",
            "Epoch 139/300\n",
            "6/6 [==============================] - 0s 16ms/step - loss: 0.5703 - accuracy: 0.9514 - val_loss: 1.6393 - val_accuracy: 0.6967\n",
            "Epoch 140/300\n",
            "6/6 [==============================] - 0s 15ms/step - loss: 0.5747 - accuracy: 0.9385 - val_loss: 1.6371 - val_accuracy: 0.7000\n",
            "Epoch 141/300\n",
            "6/6 [==============================] - 0s 12ms/step - loss: 0.5608 - accuracy: 0.9542 - val_loss: 1.6017 - val_accuracy: 0.7067\n",
            "Epoch 142/300\n",
            "6/6 [==============================] - 0s 12ms/step - loss: 0.5851 - accuracy: 0.9356 - val_loss: 1.6552 - val_accuracy: 0.6967\n",
            "Epoch 143/300\n",
            "6/6 [==============================] - 0s 11ms/step - loss: 0.5766 - accuracy: 0.9456 - val_loss: 1.6531 - val_accuracy: 0.6933\n",
            "Epoch 144/300\n",
            "6/6 [==============================] - 0s 13ms/step - loss: 0.5486 - accuracy: 0.9485 - val_loss: 1.6215 - val_accuracy: 0.7033\n",
            "Epoch 145/300\n",
            "6/6 [==============================] - 0s 13ms/step - loss: 0.5703 - accuracy: 0.9413 - val_loss: 1.7245 - val_accuracy: 0.6933\n",
            "Epoch 146/300\n",
            "6/6 [==============================] - 0s 12ms/step - loss: 0.5839 - accuracy: 0.9328 - val_loss: 1.6526 - val_accuracy: 0.7067\n",
            "Epoch 147/300\n",
            "6/6 [==============================] - 0s 11ms/step - loss: 0.5649 - accuracy: 0.9499 - val_loss: 1.6942 - val_accuracy: 0.6967\n",
            "Epoch 148/300\n",
            "6/6 [==============================] - 0s 12ms/step - loss: 0.5711 - accuracy: 0.9471 - val_loss: 1.7145 - val_accuracy: 0.6833\n",
            "Epoch 149/300\n",
            "6/6 [==============================] - 0s 12ms/step - loss: 0.5779 - accuracy: 0.9442 - val_loss: 1.7361 - val_accuracy: 0.6833\n",
            "Epoch 150/300\n",
            "6/6 [==============================] - 0s 13ms/step - loss: 0.5665 - accuracy: 0.9413 - val_loss: 1.6751 - val_accuracy: 0.6867\n",
            "Epoch 151/300\n",
            "6/6 [==============================] - 0s 12ms/step - loss: 0.5751 - accuracy: 0.9514 - val_loss: 1.6431 - val_accuracy: 0.7067\n",
            "Epoch 152/300\n",
            "6/6 [==============================] - 0s 13ms/step - loss: 0.5454 - accuracy: 0.9456 - val_loss: 1.6959 - val_accuracy: 0.6967\n",
            "Epoch 153/300\n",
            "6/6 [==============================] - 0s 13ms/step - loss: 0.5480 - accuracy: 0.9456 - val_loss: 1.7567 - val_accuracy: 0.6833\n",
            "Epoch 154/300\n",
            "6/6 [==============================] - 0s 12ms/step - loss: 0.5616 - accuracy: 0.9442 - val_loss: 1.6512 - val_accuracy: 0.6867\n",
            "Epoch 155/300\n",
            "6/6 [==============================] - 0s 12ms/step - loss: 0.5312 - accuracy: 0.9514 - val_loss: 1.6252 - val_accuracy: 0.7100\n",
            "Epoch 156/300\n",
            "6/6 [==============================] - 0s 12ms/step - loss: 0.5279 - accuracy: 0.9585 - val_loss: 1.6885 - val_accuracy: 0.6933\n",
            "Epoch 157/300\n",
            "6/6 [==============================] - 0s 13ms/step - loss: 0.5353 - accuracy: 0.9557 - val_loss: 1.7799 - val_accuracy: 0.6733\n",
            "Epoch 158/300\n",
            "6/6 [==============================] - 0s 12ms/step - loss: 0.5371 - accuracy: 0.9599 - val_loss: 1.6783 - val_accuracy: 0.6900\n",
            "Epoch 159/300\n",
            "6/6 [==============================] - 0s 15ms/step - loss: 0.5307 - accuracy: 0.9514 - val_loss: 1.6450 - val_accuracy: 0.7167\n",
            "Epoch 160/300\n",
            "6/6 [==============================] - 0s 13ms/step - loss: 0.5428 - accuracy: 0.9514 - val_loss: 1.6958 - val_accuracy: 0.7000\n",
            "Epoch 161/300\n",
            "6/6 [==============================] - 0s 13ms/step - loss: 0.5215 - accuracy: 0.9542 - val_loss: 1.6477 - val_accuracy: 0.7000\n",
            "Epoch 162/300\n",
            "6/6 [==============================] - 0s 13ms/step - loss: 0.5189 - accuracy: 0.9628 - val_loss: 1.5880 - val_accuracy: 0.7200\n",
            "Epoch 163/300\n",
            "6/6 [==============================] - 0s 13ms/step - loss: 0.5041 - accuracy: 0.9599 - val_loss: 1.6572 - val_accuracy: 0.7167\n",
            "Epoch 164/300\n",
            "6/6 [==============================] - 0s 12ms/step - loss: 0.5292 - accuracy: 0.9499 - val_loss: 1.7414 - val_accuracy: 0.6967\n",
            "Epoch 165/300\n",
            "6/6 [==============================] - 0s 16ms/step - loss: 0.5119 - accuracy: 0.9571 - val_loss: 1.7043 - val_accuracy: 0.7067\n",
            "Epoch 166/300\n",
            "6/6 [==============================] - 0s 12ms/step - loss: 0.5170 - accuracy: 0.9614 - val_loss: 1.6494 - val_accuracy: 0.6933\n",
            "Epoch 167/300\n",
            "6/6 [==============================] - 0s 12ms/step - loss: 0.5119 - accuracy: 0.9599 - val_loss: 1.6782 - val_accuracy: 0.7000\n",
            "Epoch 168/300\n",
            "6/6 [==============================] - 0s 13ms/step - loss: 0.4953 - accuracy: 0.9628 - val_loss: 1.7040 - val_accuracy: 0.7067\n",
            "Epoch 169/300\n",
            "6/6 [==============================] - 0s 12ms/step - loss: 0.4965 - accuracy: 0.9628 - val_loss: 1.7380 - val_accuracy: 0.6967\n",
            "Epoch 170/300\n",
            "6/6 [==============================] - 0s 12ms/step - loss: 0.5254 - accuracy: 0.9528 - val_loss: 1.7965 - val_accuracy: 0.6800\n",
            "Epoch 171/300\n",
            "6/6 [==============================] - 0s 13ms/step - loss: 0.5439 - accuracy: 0.9499 - val_loss: 1.6872 - val_accuracy: 0.6967\n",
            "Epoch 172/300\n",
            "6/6 [==============================] - 0s 13ms/step - loss: 0.5527 - accuracy: 0.9456 - val_loss: 1.6280 - val_accuracy: 0.7067\n",
            "Epoch 173/300\n",
            "6/6 [==============================] - 0s 13ms/step - loss: 0.5061 - accuracy: 0.9571 - val_loss: 1.6767 - val_accuracy: 0.7033\n",
            "Epoch 174/300\n",
            "6/6 [==============================] - 0s 12ms/step - loss: 0.4967 - accuracy: 0.9671 - val_loss: 1.7213 - val_accuracy: 0.7067\n",
            "Epoch 175/300\n",
            "6/6 [==============================] - 0s 13ms/step - loss: 0.4955 - accuracy: 0.9642 - val_loss: 1.6784 - val_accuracy: 0.7033\n",
            "Epoch 176/300\n",
            "6/6 [==============================] - 0s 12ms/step - loss: 0.4993 - accuracy: 0.9585 - val_loss: 1.6565 - val_accuracy: 0.7000\n",
            "Epoch 177/300\n",
            "6/6 [==============================] - 0s 12ms/step - loss: 0.4913 - accuracy: 0.9599 - val_loss: 1.6823 - val_accuracy: 0.6933\n",
            "Epoch 178/300\n",
            "6/6 [==============================] - 0s 12ms/step - loss: 0.4967 - accuracy: 0.9657 - val_loss: 1.6971 - val_accuracy: 0.6867\n",
            "Epoch 179/300\n",
            "6/6 [==============================] - 0s 12ms/step - loss: 0.5245 - accuracy: 0.9542 - val_loss: 1.7708 - val_accuracy: 0.6800\n",
            "Epoch 180/300\n",
            "6/6 [==============================] - 0s 12ms/step - loss: 0.5091 - accuracy: 0.9499 - val_loss: 1.6622 - val_accuracy: 0.7033\n",
            "Epoch 181/300\n",
            "6/6 [==============================] - 0s 12ms/step - loss: 0.4925 - accuracy: 0.9642 - val_loss: 1.6804 - val_accuracy: 0.7200\n",
            "Epoch 182/300\n",
            "6/6 [==============================] - 0s 12ms/step - loss: 0.4840 - accuracy: 0.9557 - val_loss: 1.7228 - val_accuracy: 0.6900\n",
            "Epoch 183/300\n",
            "6/6 [==============================] - 0s 12ms/step - loss: 0.4647 - accuracy: 0.9771 - val_loss: 1.6739 - val_accuracy: 0.7033\n",
            "Epoch 184/300\n",
            "6/6 [==============================] - 0s 13ms/step - loss: 0.4792 - accuracy: 0.9757 - val_loss: 1.6814 - val_accuracy: 0.7033\n",
            "Epoch 185/300\n",
            "6/6 [==============================] - 0s 13ms/step - loss: 0.4836 - accuracy: 0.9671 - val_loss: 1.7179 - val_accuracy: 0.7000\n",
            "Epoch 186/300\n",
            "6/6 [==============================] - 0s 13ms/step - loss: 0.5037 - accuracy: 0.9542 - val_loss: 1.6905 - val_accuracy: 0.6733\n",
            "Epoch 187/300\n",
            "6/6 [==============================] - 0s 12ms/step - loss: 0.4896 - accuracy: 0.9557 - val_loss: 1.6196 - val_accuracy: 0.6967\n",
            "Epoch 188/300\n",
            "6/6 [==============================] - 0s 13ms/step - loss: 0.5000 - accuracy: 0.9542 - val_loss: 1.6413 - val_accuracy: 0.7100\n",
            "Epoch 189/300\n",
            "6/6 [==============================] - 0s 12ms/step - loss: 0.4764 - accuracy: 0.9657 - val_loss: 1.6731 - val_accuracy: 0.6833\n",
            "Epoch 190/300\n",
            "6/6 [==============================] - 0s 14ms/step - loss: 0.4766 - accuracy: 0.9585 - val_loss: 1.6802 - val_accuracy: 0.6967\n",
            "Epoch 191/300\n",
            "6/6 [==============================] - 0s 12ms/step - loss: 0.4769 - accuracy: 0.9671 - val_loss: 1.6812 - val_accuracy: 0.7067\n",
            "Epoch 192/300\n",
            "6/6 [==============================] - 0s 12ms/step - loss: 0.4467 - accuracy: 0.9843 - val_loss: 1.6998 - val_accuracy: 0.7133\n",
            "Epoch 193/300\n",
            "6/6 [==============================] - 0s 12ms/step - loss: 0.4699 - accuracy: 0.9642 - val_loss: 1.7368 - val_accuracy: 0.7000\n",
            "Epoch 194/300\n",
            "6/6 [==============================] - 0s 16ms/step - loss: 0.4759 - accuracy: 0.9642 - val_loss: 1.6503 - val_accuracy: 0.6933\n",
            "Epoch 195/300\n",
            "6/6 [==============================] - 0s 12ms/step - loss: 0.4821 - accuracy: 0.9599 - val_loss: 1.7321 - val_accuracy: 0.6867\n",
            "Epoch 196/300\n",
            "6/6 [==============================] - 0s 12ms/step - loss: 0.4543 - accuracy: 0.9714 - val_loss: 1.7313 - val_accuracy: 0.7067\n",
            "Epoch 197/300\n",
            "6/6 [==============================] - 0s 16ms/step - loss: 0.4872 - accuracy: 0.9642 - val_loss: 1.6955 - val_accuracy: 0.7067\n",
            "Epoch 198/300\n",
            "6/6 [==============================] - 0s 12ms/step - loss: 0.4713 - accuracy: 0.9700 - val_loss: 1.7148 - val_accuracy: 0.6867\n",
            "Epoch 199/300\n",
            "6/6 [==============================] - 0s 11ms/step - loss: 0.4692 - accuracy: 0.9599 - val_loss: 1.6610 - val_accuracy: 0.6967\n",
            "Epoch 200/300\n",
            "6/6 [==============================] - 0s 12ms/step - loss: 0.4620 - accuracy: 0.9614 - val_loss: 1.7083 - val_accuracy: 0.7000\n",
            "Epoch 201/300\n",
            "6/6 [==============================] - 0s 12ms/step - loss: 0.4841 - accuracy: 0.9599 - val_loss: 1.7006 - val_accuracy: 0.7000\n",
            "Epoch 202/300\n",
            "6/6 [==============================] - 0s 12ms/step - loss: 0.4509 - accuracy: 0.9742 - val_loss: 1.7280 - val_accuracy: 0.7133\n",
            "Epoch 203/300\n",
            "6/6 [==============================] - 0s 16ms/step - loss: 0.4688 - accuracy: 0.9628 - val_loss: 1.6568 - val_accuracy: 0.7133\n",
            "Epoch 204/300\n",
            "6/6 [==============================] - 0s 12ms/step - loss: 0.4681 - accuracy: 0.9671 - val_loss: 1.6608 - val_accuracy: 0.7133\n",
            "Epoch 205/300\n",
            "6/6 [==============================] - 0s 12ms/step - loss: 0.4484 - accuracy: 0.9742 - val_loss: 1.6081 - val_accuracy: 0.7067\n",
            "Epoch 206/300\n",
            "6/6 [==============================] - 0s 12ms/step - loss: 0.4470 - accuracy: 0.9728 - val_loss: 1.6929 - val_accuracy: 0.6900\n",
            "Epoch 207/300\n",
            "6/6 [==============================] - 0s 13ms/step - loss: 0.4508 - accuracy: 0.9700 - val_loss: 1.7219 - val_accuracy: 0.6867\n",
            "Epoch 208/300\n",
            "6/6 [==============================] - 0s 12ms/step - loss: 0.4345 - accuracy: 0.9714 - val_loss: 1.7135 - val_accuracy: 0.7033\n",
            "Epoch 209/300\n",
            "6/6 [==============================] - 0s 13ms/step - loss: 0.4482 - accuracy: 0.9657 - val_loss: 1.6996 - val_accuracy: 0.7000\n",
            "Epoch 210/300\n",
            "6/6 [==============================] - 0s 13ms/step - loss: 0.4349 - accuracy: 0.9714 - val_loss: 1.7165 - val_accuracy: 0.6700\n",
            "Epoch 211/300\n",
            "6/6 [==============================] - 0s 12ms/step - loss: 0.4608 - accuracy: 0.9614 - val_loss: 1.6586 - val_accuracy: 0.7067\n",
            "Epoch 212/300\n",
            "6/6 [==============================] - 0s 14ms/step - loss: 0.4571 - accuracy: 0.9642 - val_loss: 1.6490 - val_accuracy: 0.7000\n",
            "Epoch 213/300\n",
            "6/6 [==============================] - 0s 11ms/step - loss: 0.4383 - accuracy: 0.9771 - val_loss: 1.6514 - val_accuracy: 0.7300\n",
            "Epoch 214/300\n",
            "6/6 [==============================] - 0s 13ms/step - loss: 0.4665 - accuracy: 0.9642 - val_loss: 1.7341 - val_accuracy: 0.7233\n",
            "Epoch 215/300\n",
            "6/6 [==============================] - 0s 12ms/step - loss: 0.4666 - accuracy: 0.9599 - val_loss: 1.9439 - val_accuracy: 0.6733\n",
            "Epoch 216/300\n",
            "6/6 [==============================] - 0s 13ms/step - loss: 0.4658 - accuracy: 0.9599 - val_loss: 1.6932 - val_accuracy: 0.7067\n",
            "Epoch 217/300\n",
            "6/6 [==============================] - 0s 12ms/step - loss: 0.4645 - accuracy: 0.9599 - val_loss: 1.6073 - val_accuracy: 0.7100\n",
            "Epoch 218/300\n",
            "6/6 [==============================] - 0s 12ms/step - loss: 0.4391 - accuracy: 0.9800 - val_loss: 1.7218 - val_accuracy: 0.6833\n",
            "Epoch 219/300\n",
            "6/6 [==============================] - 0s 15ms/step - loss: 0.4884 - accuracy: 0.9499 - val_loss: 1.6749 - val_accuracy: 0.7033\n",
            "Epoch 220/300\n",
            "6/6 [==============================] - 0s 13ms/step - loss: 0.4506 - accuracy: 0.9671 - val_loss: 1.6814 - val_accuracy: 0.7067\n",
            "Epoch 221/300\n",
            "6/6 [==============================] - 0s 12ms/step - loss: 0.4656 - accuracy: 0.9642 - val_loss: 1.7117 - val_accuracy: 0.7100\n",
            "Epoch 222/300\n",
            "6/6 [==============================] - 0s 11ms/step - loss: 0.4624 - accuracy: 0.9642 - val_loss: 1.6372 - val_accuracy: 0.7067\n",
            "Epoch 223/300\n",
            "6/6 [==============================] - 0s 13ms/step - loss: 0.4285 - accuracy: 0.9642 - val_loss: 1.6586 - val_accuracy: 0.7033\n",
            "Epoch 224/300\n",
            "6/6 [==============================] - 0s 12ms/step - loss: 0.4384 - accuracy: 0.9599 - val_loss: 1.6125 - val_accuracy: 0.7267\n",
            "Epoch 225/300\n",
            "6/6 [==============================] - 0s 12ms/step - loss: 0.4353 - accuracy: 0.9728 - val_loss: 1.6551 - val_accuracy: 0.7200\n",
            "Epoch 226/300\n",
            "6/6 [==============================] - 0s 13ms/step - loss: 0.4637 - accuracy: 0.9628 - val_loss: 1.6792 - val_accuracy: 0.7167\n",
            "Epoch 227/300\n",
            "6/6 [==============================] - 0s 12ms/step - loss: 0.4403 - accuracy: 0.9714 - val_loss: 1.6615 - val_accuracy: 0.7033\n",
            "Epoch 228/300\n",
            "6/6 [==============================] - 0s 14ms/step - loss: 0.4435 - accuracy: 0.9728 - val_loss: 1.6369 - val_accuracy: 0.7067\n",
            "Epoch 229/300\n",
            "6/6 [==============================] - 0s 11ms/step - loss: 0.4561 - accuracy: 0.9685 - val_loss: 1.6525 - val_accuracy: 0.7133\n",
            "Epoch 230/300\n",
            "6/6 [==============================] - 0s 12ms/step - loss: 0.4160 - accuracy: 0.9800 - val_loss: 1.7668 - val_accuracy: 0.7000\n",
            "Epoch 231/300\n",
            "6/6 [==============================] - 0s 13ms/step - loss: 0.4499 - accuracy: 0.9685 - val_loss: 1.7127 - val_accuracy: 0.7000\n",
            "Epoch 232/300\n",
            "6/6 [==============================] - 0s 12ms/step - loss: 0.4464 - accuracy: 0.9628 - val_loss: 1.7409 - val_accuracy: 0.6767\n",
            "Epoch 233/300\n",
            "6/6 [==============================] - 0s 12ms/step - loss: 0.4462 - accuracy: 0.9700 - val_loss: 1.7598 - val_accuracy: 0.6833\n",
            "Epoch 234/300\n",
            "6/6 [==============================] - 0s 12ms/step - loss: 0.4277 - accuracy: 0.9714 - val_loss: 1.6791 - val_accuracy: 0.7000\n",
            "Epoch 235/300\n",
            "6/6 [==============================] - 0s 15ms/step - loss: 0.4515 - accuracy: 0.9657 - val_loss: 1.7498 - val_accuracy: 0.7000\n",
            "Epoch 236/300\n",
            "6/6 [==============================] - 0s 13ms/step - loss: 0.4161 - accuracy: 0.9757 - val_loss: 1.8065 - val_accuracy: 0.6800\n",
            "Epoch 237/300\n",
            "6/6 [==============================] - 0s 12ms/step - loss: 0.4287 - accuracy: 0.9671 - val_loss: 1.7213 - val_accuracy: 0.6933\n",
            "Epoch 238/300\n",
            "6/6 [==============================] - 0s 12ms/step - loss: 0.4307 - accuracy: 0.9671 - val_loss: 1.7920 - val_accuracy: 0.6967\n",
            "Epoch 239/300\n",
            "6/6 [==============================] - 0s 13ms/step - loss: 0.4307 - accuracy: 0.9657 - val_loss: 1.7336 - val_accuracy: 0.7000\n",
            "Epoch 240/300\n",
            "6/6 [==============================] - 0s 13ms/step - loss: 0.4320 - accuracy: 0.9671 - val_loss: 1.7162 - val_accuracy: 0.6867\n",
            "Epoch 241/300\n",
            "6/6 [==============================] - 0s 15ms/step - loss: 0.4182 - accuracy: 0.9685 - val_loss: 1.7729 - val_accuracy: 0.6867\n",
            "Epoch 242/300\n",
            "6/6 [==============================] - 0s 12ms/step - loss: 0.4184 - accuracy: 0.9714 - val_loss: 1.7286 - val_accuracy: 0.7000\n",
            "Epoch 243/300\n",
            "6/6 [==============================] - 0s 12ms/step - loss: 0.4077 - accuracy: 0.9714 - val_loss: 1.7122 - val_accuracy: 0.7133\n",
            "Epoch 244/300\n",
            "6/6 [==============================] - 0s 14ms/step - loss: 0.4236 - accuracy: 0.9657 - val_loss: 1.6918 - val_accuracy: 0.7000\n",
            "Epoch 245/300\n",
            "6/6 [==============================] - 0s 12ms/step - loss: 0.4323 - accuracy: 0.9700 - val_loss: 1.6045 - val_accuracy: 0.7100\n",
            "Epoch 246/300\n",
            "6/6 [==============================] - 0s 13ms/step - loss: 0.4250 - accuracy: 0.9671 - val_loss: 1.6553 - val_accuracy: 0.7033\n",
            "Epoch 247/300\n",
            "6/6 [==============================] - 0s 13ms/step - loss: 0.4430 - accuracy: 0.9685 - val_loss: 1.5949 - val_accuracy: 0.7267\n",
            "Epoch 248/300\n",
            "6/6 [==============================] - 0s 12ms/step - loss: 0.4020 - accuracy: 0.9714 - val_loss: 1.6321 - val_accuracy: 0.7300\n",
            "Epoch 249/300\n",
            "6/6 [==============================] - 0s 12ms/step - loss: 0.4179 - accuracy: 0.9700 - val_loss: 1.6756 - val_accuracy: 0.7200\n",
            "Epoch 250/300\n",
            "6/6 [==============================] - 0s 16ms/step - loss: 0.4103 - accuracy: 0.9771 - val_loss: 1.6944 - val_accuracy: 0.6933\n",
            "Epoch 251/300\n",
            "6/6 [==============================] - 0s 13ms/step - loss: 0.4103 - accuracy: 0.9714 - val_loss: 1.6094 - val_accuracy: 0.7100\n",
            "Epoch 252/300\n",
            "6/6 [==============================] - 0s 12ms/step - loss: 0.4232 - accuracy: 0.9657 - val_loss: 1.6498 - val_accuracy: 0.7067\n",
            "Epoch 253/300\n",
            "6/6 [==============================] - 0s 17ms/step - loss: 0.4243 - accuracy: 0.9700 - val_loss: 1.6308 - val_accuracy: 0.7167\n",
            "Epoch 254/300\n",
            "6/6 [==============================] - 0s 13ms/step - loss: 0.4067 - accuracy: 0.9742 - val_loss: 1.6525 - val_accuracy: 0.7033\n",
            "Epoch 255/300\n",
            "6/6 [==============================] - 0s 12ms/step - loss: 0.4029 - accuracy: 0.9828 - val_loss: 1.6413 - val_accuracy: 0.7000\n",
            "Epoch 256/300\n",
            "6/6 [==============================] - 0s 13ms/step - loss: 0.4141 - accuracy: 0.9671 - val_loss: 1.7063 - val_accuracy: 0.6833\n",
            "Epoch 257/300\n",
            "6/6 [==============================] - 0s 13ms/step - loss: 0.4098 - accuracy: 0.9628 - val_loss: 1.7350 - val_accuracy: 0.7033\n",
            "Epoch 258/300\n",
            "6/6 [==============================] - 0s 13ms/step - loss: 0.4111 - accuracy: 0.9714 - val_loss: 1.7112 - val_accuracy: 0.7067\n",
            "Epoch 259/300\n",
            "6/6 [==============================] - 0s 15ms/step - loss: 0.4369 - accuracy: 0.9657 - val_loss: 1.6552 - val_accuracy: 0.7067\n",
            "Epoch 260/300\n",
            "6/6 [==============================] - 0s 13ms/step - loss: 0.4122 - accuracy: 0.9742 - val_loss: 1.7136 - val_accuracy: 0.6867\n",
            "Epoch 261/300\n",
            "6/6 [==============================] - 0s 12ms/step - loss: 0.4160 - accuracy: 0.9671 - val_loss: 1.7456 - val_accuracy: 0.6967\n",
            "Epoch 262/300\n",
            "6/6 [==============================] - 0s 13ms/step - loss: 0.4136 - accuracy: 0.9714 - val_loss: 1.6194 - val_accuracy: 0.7133\n",
            "Epoch 263/300\n",
            "6/6 [==============================] - 0s 12ms/step - loss: 0.4224 - accuracy: 0.9657 - val_loss: 1.6489 - val_accuracy: 0.7000\n",
            "Epoch 264/300\n",
            "6/6 [==============================] - 0s 14ms/step - loss: 0.4018 - accuracy: 0.9728 - val_loss: 1.6751 - val_accuracy: 0.6767\n",
            "Epoch 265/300\n",
            "6/6 [==============================] - 0s 16ms/step - loss: 0.4198 - accuracy: 0.9671 - val_loss: 1.5418 - val_accuracy: 0.7133\n",
            "Epoch 266/300\n",
            "6/6 [==============================] - 0s 12ms/step - loss: 0.4171 - accuracy: 0.9628 - val_loss: 1.5740 - val_accuracy: 0.7300\n",
            "Epoch 267/300\n",
            "6/6 [==============================] - 0s 14ms/step - loss: 0.4310 - accuracy: 0.9657 - val_loss: 1.7236 - val_accuracy: 0.7033\n",
            "Epoch 268/300\n",
            "6/6 [==============================] - 0s 13ms/step - loss: 0.4249 - accuracy: 0.9628 - val_loss: 1.7066 - val_accuracy: 0.7067\n",
            "Epoch 269/300\n",
            "6/6 [==============================] - 0s 12ms/step - loss: 0.4326 - accuracy: 0.9614 - val_loss: 1.6014 - val_accuracy: 0.7167\n",
            "Epoch 270/300\n",
            "6/6 [==============================] - 0s 14ms/step - loss: 0.4052 - accuracy: 0.9728 - val_loss: 1.6283 - val_accuracy: 0.7300\n",
            "Epoch 271/300\n",
            "6/6 [==============================] - 0s 13ms/step - loss: 0.4051 - accuracy: 0.9771 - val_loss: 1.6378 - val_accuracy: 0.7200\n",
            "Epoch 272/300\n",
            "6/6 [==============================] - 0s 12ms/step - loss: 0.3852 - accuracy: 0.9814 - val_loss: 1.6246 - val_accuracy: 0.7200\n",
            "Epoch 273/300\n",
            "6/6 [==============================] - 0s 14ms/step - loss: 0.3821 - accuracy: 0.9785 - val_loss: 1.6526 - val_accuracy: 0.7100\n",
            "Epoch 274/300\n",
            "6/6 [==============================] - 0s 13ms/step - loss: 0.4122 - accuracy: 0.9771 - val_loss: 1.6407 - val_accuracy: 0.7167\n",
            "Epoch 275/300\n",
            "6/6 [==============================] - 0s 13ms/step - loss: 0.4124 - accuracy: 0.9685 - val_loss: 1.5911 - val_accuracy: 0.7100\n",
            "Epoch 276/300\n",
            "6/6 [==============================] - 0s 15ms/step - loss: 0.3976 - accuracy: 0.9728 - val_loss: 1.6529 - val_accuracy: 0.6933\n",
            "Epoch 277/300\n",
            "6/6 [==============================] - 0s 16ms/step - loss: 0.3938 - accuracy: 0.9714 - val_loss: 1.6019 - val_accuracy: 0.7000\n",
            "Epoch 278/300\n",
            "6/6 [==============================] - 0s 12ms/step - loss: 0.3952 - accuracy: 0.9728 - val_loss: 1.5722 - val_accuracy: 0.7000\n",
            "Epoch 279/300\n",
            "6/6 [==============================] - 0s 13ms/step - loss: 0.3946 - accuracy: 0.9742 - val_loss: 1.5482 - val_accuracy: 0.7167\n",
            "Epoch 280/300\n",
            "6/6 [==============================] - 0s 13ms/step - loss: 0.4144 - accuracy: 0.9700 - val_loss: 1.5304 - val_accuracy: 0.7200\n",
            "Epoch 281/300\n",
            "6/6 [==============================] - 0s 12ms/step - loss: 0.4048 - accuracy: 0.9671 - val_loss: 1.6116 - val_accuracy: 0.6900\n",
            "Epoch 282/300\n",
            "6/6 [==============================] - 0s 13ms/step - loss: 0.4179 - accuracy: 0.9700 - val_loss: 1.5801 - val_accuracy: 0.6933\n",
            "Epoch 283/300\n",
            "6/6 [==============================] - 0s 13ms/step - loss: 0.4038 - accuracy: 0.9742 - val_loss: 1.5576 - val_accuracy: 0.7100\n",
            "Epoch 284/300\n",
            "6/6 [==============================] - 0s 13ms/step - loss: 0.3799 - accuracy: 0.9828 - val_loss: 1.5842 - val_accuracy: 0.7067\n",
            "Epoch 285/300\n",
            "6/6 [==============================] - 0s 13ms/step - loss: 0.3926 - accuracy: 0.9800 - val_loss: 1.6199 - val_accuracy: 0.7133\n",
            "Epoch 286/300\n",
            "6/6 [==============================] - 0s 13ms/step - loss: 0.3869 - accuracy: 0.9742 - val_loss: 1.6184 - val_accuracy: 0.7100\n",
            "Epoch 287/300\n",
            "6/6 [==============================] - 0s 12ms/step - loss: 0.4118 - accuracy: 0.9642 - val_loss: 1.5555 - val_accuracy: 0.7100\n",
            "Epoch 288/300\n",
            "6/6 [==============================] - 0s 13ms/step - loss: 0.3988 - accuracy: 0.9757 - val_loss: 1.6451 - val_accuracy: 0.7167\n",
            "Epoch 289/300\n",
            "6/6 [==============================] - 0s 14ms/step - loss: 0.3869 - accuracy: 0.9843 - val_loss: 1.6668 - val_accuracy: 0.6967\n",
            "Epoch 290/300\n",
            "6/6 [==============================] - 0s 12ms/step - loss: 0.3999 - accuracy: 0.9671 - val_loss: 1.6651 - val_accuracy: 0.7000\n",
            "Epoch 291/300\n",
            "6/6 [==============================] - 0s 12ms/step - loss: 0.3788 - accuracy: 0.9771 - val_loss: 1.6274 - val_accuracy: 0.7200\n",
            "Epoch 292/300\n",
            "6/6 [==============================] - 0s 12ms/step - loss: 0.3755 - accuracy: 0.9828 - val_loss: 1.6449 - val_accuracy: 0.7133\n",
            "Epoch 293/300\n",
            "6/6 [==============================] - 0s 13ms/step - loss: 0.3907 - accuracy: 0.9685 - val_loss: 1.7490 - val_accuracy: 0.6767\n",
            "Epoch 294/300\n",
            "6/6 [==============================] - 0s 13ms/step - loss: 0.3967 - accuracy: 0.9757 - val_loss: 1.6394 - val_accuracy: 0.7100\n",
            "Epoch 295/300\n",
            "6/6 [==============================] - 0s 13ms/step - loss: 0.3821 - accuracy: 0.9771 - val_loss: 1.6321 - val_accuracy: 0.6967\n",
            "Epoch 296/300\n",
            "6/6 [==============================] - 0s 13ms/step - loss: 0.4116 - accuracy: 0.9657 - val_loss: 1.7281 - val_accuracy: 0.7067\n",
            "Epoch 297/300\n",
            "6/6 [==============================] - 0s 13ms/step - loss: 0.4237 - accuracy: 0.9628 - val_loss: 1.7253 - val_accuracy: 0.7000\n",
            "Epoch 298/300\n",
            "6/6 [==============================] - 0s 14ms/step - loss: 0.4421 - accuracy: 0.9642 - val_loss: 1.5883 - val_accuracy: 0.7167\n",
            "Epoch 299/300\n",
            "6/6 [==============================] - 0s 13ms/step - loss: 0.3908 - accuracy: 0.9728 - val_loss: 1.6590 - val_accuracy: 0.7033\n",
            "Epoch 300/300\n",
            "6/6 [==============================] - 0s 18ms/step - loss: 0.3931 - accuracy: 0.9700 - val_loss: 1.6108 - val_accuracy: 0.6967\n"
          ]
        }
      ]
    },
    {
      "cell_type": "code",
      "metadata": {
        "colab": {
          "base_uri": "https://localhost:8080/"
        },
        "id": "uxGY7-84vq3O",
        "outputId": "cbb24612-351e-4392-c75d-7bdbf37c0bf6"
      },
      "source": [
        "test_loss, test_acc = model.evaluate(X_test, y_test, batch_size=128)\n",
        "print(\"Test loss:\", test_loss)\n",
        "print()\n",
        "print(\"Best Accuracy:\", test_acc*100)"
      ],
      "execution_count": 26,
      "outputs": [
        {
          "output_type": "stream",
          "name": "stdout",
          "text": [
            "3/3 [==============================] - 0s 5ms/step - loss: 1.6108 - accuracy: 0.6967\n",
            "Test loss: 1.610835313796997\n",
            "\n",
            "Best Accuracy: 69.66666579246521\n"
          ]
        }
      ]
    },
    {
      "cell_type": "code",
      "metadata": {
        "id": "eiXF6fV4yINt"
      },
      "source": [
        "def plot_history(history):\n",
        "\n",
        "    fig, axs = plt.subplots(2)\n",
        "\n",
        "    # create accuracy sublpot\n",
        "    axs[0].plot(history.history[\"accuracy\"], label=\"train accuracy\")\n",
        "    axs[0].plot(history.history[\"val_accuracy\"], label=\"test accuracy\")\n",
        "    axs[0].set_ylabel(\"Accuracy\")\n",
        "    axs[0].legend(loc=\"lower right\")\n",
        "    axs[0].set_title(\"Accuracy eval\")\n",
        "\n",
        "    # create error sublpot\n",
        "    axs[1].plot(history.history[\"loss\"], label=\"train error\")\n",
        "    axs[1].plot(history.history[\"val_loss\"], label=\"test error\")\n",
        "    axs[1].set_ylabel(\"Error\")\n",
        "    axs[1].set_xlabel(\"Epoch\")\n",
        "    axs[1].legend(loc=\"upper right\")\n",
        "    axs[1].set_title(\"Error eval\")\n",
        "    \n",
        "    plt.show()"
      ],
      "execution_count": 27,
      "outputs": []
    },
    {
      "cell_type": "code",
      "metadata": {
        "colab": {
          "base_uri": "https://localhost:8080/",
          "height": 295
        },
        "id": "0bNkQQHGHBdH",
        "outputId": "0108e5ea-b958-44b3-fd1f-a675cb29d1d0"
      },
      "source": [
        "plot_history(model_history)"
      ],
      "execution_count": 28,
      "outputs": [
        {
          "output_type": "display_data",
          "data": {
            "image/png": "[encoded data removed]",
            "text/plain": [
              "<Figure size 432x288 with 2 Axes>"
            ]
          },
          "metadata": {
            "needs_background": "light"
          }
        }
      ]
    },
    {
      "cell_type": "code",
      "metadata": {
        "colab": {
          "base_uri": "https://localhost:8080/",
          "height": 101
        },
        "id": "EwahfGyxouKz",
        "outputId": "5cc35a63-bff6-4c34-a0d9-02c8bc371d5d"
      },
      "source": [
        "data_smple = data.sample()\n",
        "data_smple"
      ],
      "execution_count": 29,
      "outputs": [
        {
          "output_type": "execute_result",
          "data": {
            "text/html": [
              "<div>\n",
              "<style scoped>\n",
              "    .dataframe tbody tr th:only-of-type {\n",
              "        vertical-align: middle;\n",
              "    }\n",
              "\n",
              "    .dataframe tbody tr th {\n",
              "        vertical-align: top;\n",
              "    }\n",
              "\n",
              "    .dataframe thead th {\n",
              "        text-align: right;\n",
              "    }\n",
              "</style>\n",
              "<table border=\"1\" class=\"dataframe\">\n",
              "  <thead>\n",
              "    <tr style=\"text-align: right;\">\n",
              "      <th></th>\n",
              "      <th>filename</th>\n",
              "      <th>chroma_stft_mean</th>\n",
              "      <th>chroma_stft_var</th>\n",
              "      <th>chroma_stft_std</th>\n",
              "      <th>rms_mean</th>\n",
              "      <th>rms_var</th>\n",
              "      <th>rms_std</th>\n",
              "      <th>spec_cent_mean</th>\n",
              "      <th>spec_cent_var</th>\n",
              "      <th>spec_cent_std</th>\n",
              "      <th>spec_ban_mean</th>\n",
              "      <th>spec_ban_var</th>\n",
              "      <th>spec_ban_std</th>\n",
              "      <th>spec_cons_mean</th>\n",
              "      <th>spec_cons_var</th>\n",
              "      <th>spec_cons_std</th>\n",
              "      <th>spec_flat_mean</th>\n",
              "      <th>spec_flat_var</th>\n",
              "      <th>spec_flat_std</th>\n",
              "      <th>spec_roll_mean</th>\n",
              "      <th>spec_roll_var</th>\n",
              "      <th>spec_roll_std</th>\n",
              "      <th>zero_cros_mean</th>\n",
              "      <th>zero_cros_var</th>\n",
              "      <th>zero_cros_std</th>\n",
              "      <th>Tempo</th>\n",
              "      <th>Beat_mean</th>\n",
              "      <th>Beat_var</th>\n",
              "      <th>Beat_std</th>\n",
              "      <th>mfcc1_mean</th>\n",
              "      <th>mfcc1_var</th>\n",
              "      <th>mfcc2_mean</th>\n",
              "      <th>mfcc2_var</th>\n",
              "      <th>mfcc3_mean</th>\n",
              "      <th>mfcc3_var</th>\n",
              "      <th>mfcc4_mean</th>\n",
              "      <th>mfcc4_var</th>\n",
              "      <th>mfcc5_mean</th>\n",
              "      <th>mfcc5_var</th>\n",
              "      <th>mfcc6_mean</th>\n",
              "      <th>mfcc6_var</th>\n",
              "      <th>mfcc7_mean</th>\n",
              "      <th>mfcc7_var</th>\n",
              "      <th>mfcc8_mean</th>\n",
              "      <th>mfcc8_var</th>\n",
              "      <th>mfcc9_mean</th>\n",
              "      <th>mfcc9_var</th>\n",
              "      <th>mfcc10_mean</th>\n",
              "      <th>mfcc10_var</th>\n",
              "      <th>mfcc20_mean</th>\n",
              "      <th>mfcc20_var</th>\n",
              "      <th>label</th>\n",
              "    </tr>\n",
              "  </thead>\n",
              "  <tbody>\n",
              "    <tr>\n",
              "      <th>64</th>\n",
              "      <td>jazz.00065.wav</td>\n",
              "      <td>0.24767</td>\n",
              "      <td>0.090193</td>\n",
              "      <td>0.300322</td>\n",
              "      <td>0.082298</td>\n",
              "      <td>0.001597</td>\n",
              "      <td>0.039966</td>\n",
              "      <td>1337.948611</td>\n",
              "      <td>143301.761914</td>\n",
              "      <td>378.552192</td>\n",
              "      <td>1518.439917</td>\n",
              "      <td>32886.791561</td>\n",
              "      <td>181.347158</td>\n",
              "      <td>19.030045</td>\n",
              "      <td>29.559315</td>\n",
              "      <td>5.436848</td>\n",
              "      <td>0.001238</td>\n",
              "      <td>0.000002</td>\n",
              "      <td>0.001369</td>\n",
              "      <td>2755.391672</td>\n",
              "      <td>700911.822436</td>\n",
              "      <td>837.204767</td>\n",
              "      <td>0.076529</td>\n",
              "      <td>0.001144</td>\n",
              "      <td>0.033824</td>\n",
              "      <td>99.384014</td>\n",
              "      <td>15.18585</td>\n",
              "      <td>67.75338</td>\n",
              "      <td>8.231244</td>\n",
              "      <td>-235.681702</td>\n",
              "      <td>5291.398438</td>\n",
              "      <td>-45.444942</td>\n",
              "      <td>38981.707031</td>\n",
              "      <td>-37.835705</td>\n",
              "      <td>26268.359375</td>\n",
              "      <td>-12.732241</td>\n",
              "      <td>21635.003906</td>\n",
              "      <td>-12.052607</td>\n",
              "      <td>17368.691406</td>\n",
              "      <td>-9.705998</td>\n",
              "      <td>14525.773438</td>\n",
              "      <td>-8.368576</td>\n",
              "      <td>12489.229492</td>\n",
              "      <td>-7.070913</td>\n",
              "      <td>10960.581055</td>\n",
              "      <td>-5.667788</td>\n",
              "      <td>9766.927734</td>\n",
              "      <td>-5.07061</td>\n",
              "      <td>8804.4375</td>\n",
              "      <td>-1.34426</td>\n",
              "      <td>4474.535156</td>\n",
              "      <td>jazz</td>\n",
              "    </tr>\n",
              "  </tbody>\n",
              "</table>\n",
              "</div>"
            ],
            "text/plain": [
              "          filename  chroma_stft_mean  ...   mfcc20_var  label\n",
              "64  jazz.00065.wav           0.24767  ...  4474.535156   jazz\n",
              "\n",
              "[1 rows x 52 columns]"
            ]
          },
          "metadata": {},
          "execution_count": 29
        }
      ]
    },
    {
      "cell_type": "code",
      "metadata": {
        "colab": {
          "base_uri": "https://localhost:8080/"
        },
        "id": "DKhNXsadGu7m",
        "outputId": "131b7c16-e66c-4d6d-bdbd-9162049043ef"
      },
      "source": [
        "pred_val = data_smple.iloc[:,1:-1]\n",
        "pred_val1 = sc.transform(pred_val)\n",
        "pred_val1"
      ],
      "execution_count": 30,
      "outputs": [
        {
          "output_type": "execute_result",
          "data": {
            "text/plain": [
              "array([[-1.62371725,  0.48564674,  0.49082732, -0.75577613, -0.3998471 ,\n",
              "        -0.31398716, -1.19930216, -0.80735395, -0.94506899, -1.3700837 ,\n",
              "        -1.06353322, -1.39355577, -0.6859121 , -0.70308582, -0.63754048,\n",
              "        -0.68062032, -0.33281456, -0.79984187, -1.15022536, -0.80085902,\n",
              "        -0.8660538 , -0.64021716, -0.60151028, -0.65219579, -1.04092785,\n",
              "         0.54565993, -0.08605188, -0.04064868, -0.92757421,  0.61710176,\n",
              "        -0.56979584,  0.94973473, -0.7558508 ,  0.85761933, -0.42009843,\n",
              "         0.92258517, -0.52228246,  0.90142813, -0.6485668 ,  0.88335094,\n",
              "        -0.58753478,  0.87858251, -0.65065352,  0.87234234, -0.50667863,\n",
              "         0.86951391, -0.56788719,  0.86423753, -0.15103154,  0.85466598]])"
            ]
          },
          "metadata": {},
          "execution_count": 30
        }
      ]
    },
    {
      "cell_type": "code",
      "metadata": {
        "colab": {
          "base_uri": "https://localhost:8080/"
        },
        "id": "Ue2P6DOAHS2N",
        "outputId": "7dda7365-3903-4070-c85f-dd2858ffb8b1"
      },
      "source": [
        "preds = model.predict(pred_val1)\n",
        "predic = np.argmax(preds, axis=1)\n",
        "predic"
      ],
      "execution_count": 31,
      "outputs": [
        {
          "output_type": "execute_result",
          "data": {
            "text/plain": [
              "array([5])"
            ]
          },
          "metadata": {},
          "execution_count": 31
        }
      ]
    },
    {
      "cell_type": "code",
      "metadata": {
        "id": "xA7TOLRvHTaX"
      },
      "source": [
        "predic1 = int(predic)\n",
        "result = le_label.inverse_transform([predic1])"
      ],
      "execution_count": 32,
      "outputs": []
    },
    {
      "cell_type": "code",
      "metadata": {
        "colab": {
          "base_uri": "https://localhost:8080/"
        },
        "id": "h5hpq_EKGvFa",
        "outputId": "d07b5201-b2ef-45ea-ff05-7a0f29da9efb"
      },
      "source": [
        "print(result)"
      ],
      "execution_count": 33,
      "outputs": [
        {
          "output_type": "stream",
          "name": "stdout",
          "text": [
            "['jazz']\n"
          ]
        }
      ]
    },
    {
      "cell_type": "markdown",
      "metadata": {
        "id": "9mYmZw4qBIk_"
      },
      "source": [
        "saving the artifical neural network model because it performed better."
      ]
    },
    {
      "cell_type": "code",
      "metadata": {
        "id": "RIHx9q3MTR_H"
      },
      "source": [
        "model.save(\"/content/drive/MyDrive/Colab Notebooks/Stutern Capstone/music_model.h5\")"
      ],
      "execution_count": 34,
      "outputs": []
    },
    {
      "cell_type": "code",
      "metadata": {
        "id": "OUEvK12RFiL2"
      },
      "source": [
        "import pickle\n",
        "\n",
        "cnn_model = {}\n",
        "cnn_model[\"label\"] = le_label\n",
        "cnn_model[\"Standard_Scalar\"] = sc\n",
        "\n",
        "with open(\"/content/drive/MyDrive/Colab Notebooks/Stutern Capstone/capstone.pkl\", \"wb\") as f:\n",
        "  pickle.dump(cnn_model, f)"
      ],
      "execution_count": 42,
      "outputs": []
    },
    {
      "cell_type": "code",
      "metadata": {
        "id": "sq_ZV4VsZAxY"
      },
      "source": [
        ""
      ],
      "execution_count": null,
      "outputs": []
    },
    {
      "cell_type": "code",
      "metadata": {
        "id": "fAT-FIfkxLuW"
      },
      "source": [
        "'chroma_stft_mean', 'chroma_stft_var', 'chroma_stft_std', 'rms_mean', \n",
        "                             'rms_var', 'rms_std', 'spec_cent_mean', 'spec_cent_var', 'spec_cent_std', 'spec_ban_mean', \n",
        "                             'spec_ban_var', 'spec_ban_std', 'spec_cons_mean', 'spec_cons_var', 'spec_cons_std', 'spec_flat_mean', \n",
        "                             'spec_flat_var', 'spec_flat_std', 'spec_roll_mean', 'spec_roll_var', 'spec_roll_std', 'zero_cros_mean', \n",
        "                             'zero_cros_var', 'zero_cros_std', 'Tempo', 'Beat_mean', 'Beat_var', 'Beat_std', \n",
        "                             'mfcc1_mean', 'mfcc1_var', 'mfcc2_mean', 'mfcc2_var', 'mfcc3_mean', 'mfcc3_var', 'mfcc4_mean', 'mfcc4_var', \n",
        "                             'mfcc5_mean', 'mfcc5_var', 'mfcc6_mean', 'mfcc6_var', 'mfcc7_mean', 'mfcc7_var', 'mfcc8_mean', 'mfcc8_var',\n",
        "                             'mfcc9_mean', 'mfcc9_var', 'mfcc10_mean', 'mfcc10_var', 'mfcc20_mean', 'mfcc20_var', 'label'))\n"
      ],
      "execution_count": null,
      "outputs": []
    },
    {
      "cell_type": "code",
      "metadata": {
        "id": "OGkZCJ5Rwk6D"
      },
      "source": [
        "def preprocess(file):\n",
        "  y, sr = librosa.load(file, duration=30)\n",
        "\n",
        "  #data0 = []\n",
        "  #defining the Chroma features in the dataframe\n",
        "  chroma = librosa.feature.chroma_stft(y=y, sr=sr)\n",
        "  chroma_stft_mean = chroma.mean()#chroma_stft_mean\n",
        "  chroma_stft_var = chroma.var()#chroma_stft_var\n",
        "  chroma_stft_std = chroma.std()#chroma_stft_std\n",
        "\n",
        "  #defining the rms features in the dataframe\n",
        "  rms = librosa.feature.rms(y=y)\n",
        "  rms_mean = rms.mean()#rms_mean\n",
        "  rms_var = rms.var()#rms_var\n",
        "  rms_std = rms.std()#rms_std\n",
        "\n",
        "  #defining the spectral centroid features in the dataframe\n",
        "  cent = librosa.feature.spectral_centroid(y=y, sr=sr)\n",
        "  spec_cent_mean = cent.mean()#spec_cent_mean\n",
        "  spec_cent_var = cent.var()#spec_cent_var\n",
        "  spec_cent_std = cent.std()#spec_cent_std\n",
        "\n",
        "  #defining the spectral bandwidth features in the dataframe\n",
        "  spec_bw = librosa.feature.spectral_bandwidth(y=y, sr=sr)\n",
        "  spec_ban_mean = spec_bw.mean()#spec_ban_mean\n",
        "  spec_ban_var = spec_bw.var()#spec_ban_var\n",
        "  spec_ban_std = spec_bw.std()#spec_ban_std\n",
        "\n",
        "  #defining the spectral constract features in the dataframe\n",
        "  S = np.abs(librosa.stft(y))\n",
        "  contrast = librosa.feature.spectral_contrast(S=S, sr=sr)\n",
        "  spec_cons_mean = contrast.mean()#spec_cons_mean\n",
        "  spec_cons_var = contrast.var()#spec_cons_var\n",
        "  spec_cons_std = contrast.std()#spec_cons_std\n",
        "\n",
        "  #defining the spectral flatness features in the dataframe\n",
        "  flatness = librosa.feature.spectral_flatness(y=y)\n",
        "  spec_flat_mean = flatness.mean()#spec_flat_mean\n",
        "  spec_flat_var = flatness.var()#spec_flat_var\n",
        "  spec_flat_std = flatness.std()#spec_flat_std\n",
        "\n",
        "  #defining the mel frequency cepstrum coefficient features in the dataframe\n",
        "  mfcc1 = librosa.feature.mfcc(y=y, sr=sr, n_mfcc=1)#n_mfcc=1\n",
        "  mfcc1_mean = mfcc1.mean()#mfcc1_mean\n",
        "  mfcc1_var = mfcc1.var()#mfcc1_var\n",
        "\n",
        "  mfcc2 = librosa.feature.mfcc(y=y, sr=sr, n_mfcc=2)#n_mfcc=2\n",
        "  mfcc2_mean = mfcc2.mean()#mfcc2_mean\n",
        "  mfcc2_var = mfcc2.var()#mfcc2_var\n",
        "\n",
        "  mfcc3 = librosa.feature.mfcc(y=y, sr=sr, n_mfcc=3)#n_mfcc=3\n",
        "  mfcc3_mean = mfcc3.mean()#mfcc3_mean\n",
        "  mfcc3_var = mfcc3.var()#mfcc3_var\n",
        "\n",
        "  mfcc4 = librosa.feature.mfcc(y=y, sr=sr, n_mfcc=4)#n_mfcc=4\n",
        "  mfcc4_mean = mfcc4.mean()#mfcc4_mean\n",
        "  mfcc4_var = mfcc4.var()#mfcc4_var\n",
        "\n",
        "  mfcc5 = librosa.feature.mfcc(y=y, sr=sr, n_mfcc=5)#n_mfcc=5\n",
        "  mfcc5_mean = mfcc5.mean()#mfcc5_mean\n",
        "  mfcc5_var = mfcc5.var()#mfcc5_var\n",
        "\n",
        "  mfcc6 = librosa.feature.mfcc(y=y, sr=sr, n_mfcc=6)#n_mfcc=6\n",
        "  mfcc6_mean = mfcc6.mean()#mfcc6_mean\n",
        "  mfcc6_var = mfcc6.var()#mfcc6_var\n",
        "\n",
        "  mfcc7 = librosa.feature.mfcc(y=y, sr=sr, n_mfcc=7)#n_mfcc=7\n",
        "  mfcc7_mean = mfcc7.mean()#mfcc7_mean\n",
        "  mfcc7_var = mfcc7.var()#mfcc7_var\n",
        "\n",
        "  mfcc8 = librosa.feature.mfcc(y=y, sr=sr, n_mfcc=8)#n_mfcc=8\n",
        "  mfcc8_mean = mfcc8.mean()#mfcc8_mean\n",
        "  mfcc8_var = mfcc8.var()#mfcc8_var\n",
        "\n",
        "  mfcc9 = librosa.feature.mfcc(y=y, sr=sr, n_mfcc=9)#n_mfcc=9\n",
        "  mfcc9_mean = mfcc9.mean()#mfcc9_mean\n",
        "  mfcc9_var = mfcc9.var()#mfcc9_var\n",
        "\n",
        "  mfcc10 = librosa.feature.mfcc(y=y, sr=sr, n_mfcc=10)#n_mfcc=10\n",
        "  mfcc10_mean = mfcc10.mean()#mfcc10_mean\n",
        "  mfcc10_var = mfcc10.var()#mfcc10_var\n",
        "\n",
        "  mfcc20 = librosa.feature.mfcc(y=y, sr=sr)#n_mfcc=20\n",
        "  mfcc20_mean = mfcc20.mean()#mfcc20_mean\n",
        "  mfcc20_var = mfcc20.var()#mfcc20_var\n",
        "\n",
        "  #defining the spectral roll-off features in the dataframe\n",
        "  rolloff = librosa.feature.spectral_rolloff(y=y, sr=sr)\n",
        "  spec_roll_mean = rolloff.mean()#spec_roll_mean\n",
        "  spec_roll_var = rolloff.var()#spec_roll_var\n",
        "  spec_roll_std = rolloff.std()#spec_roll_std\n",
        "\n",
        "  #defining the zero crossing rate features in the dataframe\n",
        "  zero_crosing_rate = librosa.feature.zero_crossing_rate(y)\n",
        "  zero_cros_mean = zero_crosing_rate.mean()#zero_cros_mean\n",
        "  zero_cros_var = zero_crosing_rate.var()#zero_cros_var\n",
        "  zero_cros_std = zero_crosing_rate.std()#zero_cros_std\n",
        "\n",
        "  #defining the Tempo feature in the dataframe\n",
        "  onset_env = librosa.onset.onset_strength(y, sr=sr)\n",
        "  tempo = librosa.beat.tempo(onset_envelope=onset_env, sr=sr)\n",
        "  Tempo = tempo.mean()#Tempo\n",
        "\n",
        "  #defining the Beat feature in the dataframe\n",
        "  tempo, beats = librosa.beat.beat_track(y=y, sr=sr)\n",
        "  beat = librosa.frames_to_time(beats, sr=sr)#changing the beats to timestamps\n",
        "  Beat_mean = beat.mean()#Beat_var\n",
        "  Beat_var = beat.var()#Beat_var\n",
        "  Beat_std = beat.std()#Beat_std\n",
        "      \n",
        "  data0 = [[chroma_stft_mean, chroma_stft_var, chroma_stft_std, rms_mean, rms_var, rms_std, spec_cent_mean, spec_cent_var, spec_cent_std, \n",
        "                 spec_ban_mean, spec_ban_var, spec_ban_std, spec_cons_mean, spec_cons_var, spec_cons_std, \n",
        "                 spec_flat_mean, spec_flat_var, spec_flat_std, spec_roll_mean, spec_roll_var, spec_roll_std, \n",
        "                 zero_cros_mean, zero_cros_var, zero_cros_std, Tempo, Beat_mean, Beat_var, Beat_std, mfcc1_mean, mfcc1_var, mfcc2_mean, mfcc2_var, \n",
        "                 mfcc3_mean, mfcc3_var, mfcc4_mean, mfcc4_var, mfcc5_mean, mfcc5_var, mfcc6_mean, mfcc6_var, mfcc7_mean, mfcc7_var, mfcc8_mean, mfcc8_var, \n",
        "                 mfcc9_mean, mfcc9_var, mfcc10_mean, mfcc10_var, mfcc20_mean, mfcc20_var]]\n",
        "  #\n",
        "  return data0"
      ],
      "execution_count": 36,
      "outputs": []
    },
    {
      "cell_type": "code",
      "metadata": {
        "id": "n8zSCotDzD0w"
      },
      "source": [
        "def predict(data0, sc, model, le_label):\n",
        "  data0 = sc.transform(data0)\n",
        "  prediction = model.predict(data0)\n",
        "  pred = np.argmax(prediction, axis=1)\n",
        "  pred = int(pred)\n",
        "  result = le_label.inverse_transform([pred])\n",
        "  print(result)"
      ],
      "execution_count": 48,
      "outputs": []
    },
    {
      "cell_type": "code",
      "metadata": {
        "id": "H4K2Btx5Wp2e"
      },
      "source": [
        "# It can be used to reconstruct the model identically.\n",
        "l_model = keras.models.load_model(\"/content/drive/MyDrive/Colab Notebooks/Stutern Capstone/music_model.h5\")"
      ],
      "execution_count": 40,
      "outputs": []
    },
    {
      "cell_type": "code",
      "metadata": {
        "id": "bBX2yUcIBFrO"
      },
      "source": [
        "# load the model\n",
        "with open(\"/content/drive/MyDrive/Colab Notebooks/Stutern Capstone/capstone.pkl\", \"rb\") as f:\n",
        "    loaded_model = pickle.load(f)"
      ],
      "execution_count": 43,
      "outputs": []
    },
    {
      "cell_type": "code",
      "metadata": {
        "id": "5-bbe2-tBgxz"
      },
      "source": [
        "lle_label = loaded_model[\"label\"]  # label encoder\n",
        "Standard_Scalar = loaded_model[\"Standard_Scalar\"]  # Standard scalar"
      ],
      "execution_count": 44,
      "outputs": []
    },
    {
      "cell_type": "code",
      "metadata": {
        "colab": {
          "base_uri": "https://localhost:8080/"
        },
        "id": "4sS43htMXez2",
        "outputId": "2ce0f0bd-8efc-436c-9ae2-d77a4c75c35a"
      },
      "source": [
        "data_new = preprocess(\"/content/drive/MyDrive/Colab Notebooks/Stutern Capstone/high-stakes-783.mp3\")\n",
        "data_new"
      ],
      "execution_count": 45,
      "outputs": [
        {
          "output_type": "stream",
          "name": "stderr",
          "text": [
            "/usr/local/lib/python3.7/dist-packages/librosa/core/audio.py:165: UserWarning: PySoundFile failed. Trying audioread instead.\n",
            "  warnings.warn(\"PySoundFile failed. Trying audioread instead.\")\n"
          ]
        },
        {
          "output_type": "execute_result",
          "data": {
            "text/plain": [
              "[[0.35614195,\n",
              "  0.08735995,\n",
              "  0.29556715,\n",
              "  0.097778104,\n",
              "  0.0009737928,\n",
              "  0.031205654,\n",
              "  855.9301520742065,\n",
              "  158990.479978096,\n",
              "  398.7361031786512,\n",
              "  1320.0263787988729,\n",
              "  268555.221716365,\n",
              "  518.2231389241174,\n",
              "  23.863709373088952,\n",
              "  51.5151822680632,\n",
              "  7.17740776799418,\n",
              "  0.0058899075,\n",
              "  0.0050430824,\n",
              "  0.071014665,\n",
              "  1696.2980760509386,\n",
              "  812990.9947546337,\n",
              "  901.6601326190671,\n",
              "  0.03427870428599071,\n",
              "  0.0006008618516392457,\n",
              "  0.024512483587740466,\n",
              "  129.19921875,\n",
              "  14.547111259804469,\n",
              "  68.22706842929456,\n",
              "  8.259967822533849,\n",
              "  -249.59636,\n",
              "  7014.777,\n",
              "  -44.03988,\n",
              "  46300.965,\n",
              "  -27.160301,\n",
              "  31653.568,\n",
              "  -10.211709,\n",
              "  24630.004,\n",
              "  -4.1178093,\n",
              "  19890.895,\n",
              "  -1.3867621,\n",
              "  16636.748,\n",
              "  -1.0738683,\n",
              "  14271.386,\n",
              "  1.3048022,\n",
              "  12535.481,\n",
              "  2.490154,\n",
              "  11161.774,\n",
              "  2.7076335,\n",
              "  10049.739,\n",
              "  0.30176118,\n",
              "  5062.3623]]"
            ]
          },
          "metadata": {},
          "execution_count": 45
        }
      ]
    },
    {
      "cell_type": "code",
      "metadata": {
        "colab": {
          "base_uri": "https://localhost:8080/"
        },
        "id": "xX38R4uMYhf6",
        "outputId": "c11be1af-5441-4501-b997-6ea2786fbdeb"
      },
      "source": [
        "data_new = np.array(data_new)\n",
        "data_new.shape"
      ],
      "execution_count": 47,
      "outputs": [
        {
          "output_type": "execute_result",
          "data": {
            "text/plain": [
              "(1, 50)"
            ]
          },
          "metadata": {},
          "execution_count": 47
        }
      ]
    },
    {
      "cell_type": "code",
      "metadata": {
        "id": "H0TwA5M5Bg_O",
        "colab": {
          "base_uri": "https://localhost:8080/"
        },
        "outputId": "3687a3fb-3ee8-479b-a29b-2a1ddc39a998"
      },
      "source": [
        "predict(data_new, Standard_Scalar, l_model, lle_label)"
      ],
      "execution_count": 50,
      "outputs": [
        {
          "output_type": "stream",
          "name": "stdout",
          "text": [
            "['country']\n"
          ]
        }
      ]
    },
    {
      "cell_type": "code",
      "metadata": {
        "colab": {
          "base_uri": "https://localhost:8080/"
        },
        "id": "VcJUYfOfZOWO",
        "outputId": "fa0650b1-f99b-4cd6-85d1-c1e292d94aa6"
      },
      "source": [
        "data_2 = preprocess(\"/content/drive/MyDrive/Colab Notebooks/Stutern Capstone/rubinstein-melody-in-f-remix-harmonica-7403.mp3\")\n",
        "data_2"
      ],
      "execution_count": 51,
      "outputs": [
        {
          "output_type": "stream",
          "name": "stderr",
          "text": [
            "/usr/local/lib/python3.7/dist-packages/librosa/core/audio.py:165: UserWarning: PySoundFile failed. Trying audioread instead.\n",
            "  warnings.warn(\"PySoundFile failed. Trying audioread instead.\")\n"
          ]
        },
        {
          "output_type": "execute_result",
          "data": {
            "text/plain": [
              "[[0.3669599,\n",
              "  0.10026617,\n",
              "  0.31664833,\n",
              "  0.06809778,\n",
              "  0.0007541937,\n",
              "  0.027462587,\n",
              "  2022.1700971068944,\n",
              "  855194.4732607439,\n",
              "  924.7672535620754,\n",
              "  2534.083362765534,\n",
              "  448710.78627349634,\n",
              "  669.8587808437659,\n",
              "  22.273884197839383,\n",
              "  54.094847184092096,\n",
              "  7.354919930501765,\n",
              "  0.0056209317,\n",
              "  8.476599e-05,\n",
              "  0.0092068445,\n",
              "  4760.254548725329,\n",
              "  5320693.624737049,\n",
              "  2306.6628762645505,\n",
              "  0.05198419057178793,\n",
              "  0.0011757522342093732,\n",
              "  0.034289243710081636,\n",
              "  135.99917763157896,\n",
              "  15.369706702353074,\n",
              "  63.43451067377847,\n",
              "  7.964578499442294,\n",
              "  -249.24045,\n",
              "  14112.889,\n",
              "  -76.00119,\n",
              "  38039.41,\n",
              "  -42.53193,\n",
              "  27710.848,\n",
              "  -27.63944,\n",
              "  21482.822,\n",
              "  -20.073715,\n",
              "  17436.834,\n",
              "  -13.483799,\n",
              "  14766.094,\n",
              "  -11.3920765,\n",
              "  12692.462,\n",
              "  -9.454071,\n",
              "  11138.286,\n",
              "  -9.67847,\n",
              "  9913.602,\n",
              "  -7.8651934,\n",
              "  8959.772,\n",
              "  -3.631827,\n",
              "  4535.9053]]"
            ]
          },
          "metadata": {},
          "execution_count": 51
        }
      ]
    },
    {
      "cell_type": "code",
      "metadata": {
        "colab": {
          "base_uri": "https://localhost:8080/"
        },
        "id": "7BWCqzIFZj3O",
        "outputId": "644e6448-0738-44b4-eb75-72df4e8fe444"
      },
      "source": [
        "data_2 = np.array(data_2)\n",
        "data_2.shape"
      ],
      "execution_count": 52,
      "outputs": [
        {
          "output_type": "execute_result",
          "data": {
            "text/plain": [
              "(1, 50)"
            ]
          },
          "metadata": {},
          "execution_count": 52
        }
      ]
    },
    {
      "cell_type": "code",
      "metadata": {
        "colab": {
          "base_uri": "https://localhost:8080/"
        },
        "id": "OCnzDBlPZtNO",
        "outputId": "49ba9b64-ef24-45d1-bd01-8123c2bd0995"
      },
      "source": [
        "predict(data_2, Standard_Scalar, l_model, lle_label)"
      ],
      "execution_count": 53,
      "outputs": [
        {
          "output_type": "stream",
          "name": "stdout",
          "text": [
            "['reggae']\n"
          ]
        }
      ]
    }
  ]
}